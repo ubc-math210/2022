{
 "cells": [
  {
   "cell_type": "markdown",
   "id": "ee53a0a4-9d13-4901-922c-63309fb2b9c5",
   "metadata": {},
   "source": [
    "# MATH 210 Introduction to Mathematical Computing\n",
    "\n",
    "## April 4, 2022\n",
    "\n",
    "* Polynomial interpolation\n",
    "* General interpolation\n",
    "* Regression (curves of best fit)"
   ]
  },
  {
   "cell_type": "code",
   "execution_count": 1,
   "id": "a69a3b77-bd7a-4eac-bdc8-39d3ab5b8b92",
   "metadata": {},
   "outputs": [],
   "source": [
    "import numpy as np\n",
    "import matplotlib.pyplot as plt\n",
    "import scipy.linalg as la"
   ]
  },
  {
   "cell_type": "markdown",
   "id": "0ef1df16-5c71-45d5-9eca-a88c4defe9e1",
   "metadata": {},
   "source": [
    "## Polynomial interpolation\n",
    "\n",
    "Find the unique polynomial of degree 4 which interpolates the data\n",
    "\n",
    "$$\n",
    "(-2,4) \\ , \\ (0,1) \\ , \\ (1,1) \\ , \\ (3,-1) \\ , \\ (5,4)\n",
    "$$"
   ]
  },
  {
   "cell_type": "code",
   "execution_count": 2,
   "id": "165f753b-a071-461f-ba94-d0b0011b198c",
   "metadata": {},
   "outputs": [
    {
     "data": {
      "text/plain": [
       "array([[  1,  -2,   4,  -8,  16],\n",
       "       [  1,   0,   0,   0,   0],\n",
       "       [  1,   1,   1,   1,   1],\n",
       "       [  1,   3,   9,  27,  81],\n",
       "       [  1,   5,  25, 125, 625]])"
      ]
     },
     "execution_count": 2,
     "metadata": {},
     "output_type": "execute_result"
    }
   ],
   "source": [
    "t = [-2,0,1,3,5]\n",
    "y = [4,1,1,-1,4]\n",
    "A = np.vander(t,increasing=True)\n",
    "A"
   ]
  },
  {
   "cell_type": "code",
   "execution_count": 3,
   "id": "bb3b28ce-08bc-4e97-8909-228762bd3118",
   "metadata": {},
   "outputs": [
    {
     "data": {
      "text/plain": [
       "array([ 1.        ,  0.18333333,  0.04166667, -0.28333333,  0.05833333])"
      ]
     },
     "execution_count": 3,
     "metadata": {},
     "output_type": "execute_result"
    }
   ],
   "source": [
    "c = la.solve(A,y)\n",
    "c"
   ]
  },
  {
   "cell_type": "code",
   "execution_count": 4,
   "id": "67ddc1a5-9f68-4196-b1b9-d354753653f9",
   "metadata": {},
   "outputs": [
    {
     "data": {
      "image/png": "[encoded data removed]",
      "text/plain": [
       "<Figure size 432x288 with 1 Axes>"
      ]
     },
     "metadata": {
      "needs_background": "light"
     },
     "output_type": "display_data"
    }
   ],
   "source": [
    "T = np.linspace(-2,5,50)\n",
    "Y = sum([c[n]*T**n for n in range(0,len(c))])\n",
    "plt.plot(t,y,'r.',T,Y,'b')\n",
    "plt.show()"
   ]
  },
  {
   "cell_type": "markdown",
   "id": "06f13a2c-7aa0-40ad-97b2-4d360c932135",
   "metadata": {},
   "source": [
    "## General interpolation\n",
    "\n",
    "Consider $d+1$ points $(t_0,y_0),(t_1,y_1),\\dots,(t_d,y_d)$ such that $t_i \\ne t_j$ ($i \\ne j$). Let $f_0(t),f_1(t),\\dots,f_d(t)$ be $d+1$ linearly independent functions. There exists a unique function of the form\n",
    "\n",
    "$$\n",
    "F(t) = c_0 f_0(t) + c_1 f_1(t) + \\cdots + c_d f_d(t)\n",
    "$$\n",
    "\n",
    "such that $F(t_n) = y_n$ for $n=0,\\dots,d$. Note that if $f_0(t)=1$, $f_1(t)=t$,$\\dots$,$f_d(t)=t^d$, then this is the usual polynomial interpolation."
   ]
  },
  {
   "cell_type": "markdown",
   "id": "557c701c-5b97-4a82-8266-28547b5498a5",
   "metadata": {},
   "source": [
    "Each point gives an equation\n",
    "\n",
    "\\begin{align*}\n",
    "c_0 f_0(t_0) + c_1 f_1(t_0) + \\cdots + c_d f_d(t_0) &= y_0 \\\\\n",
    "c_0 f_0(t_1) + c_1 f_1(t_1) + \\cdots + c_d f_d(t_1) &= y_1 \\\\\n",
    "& \\vdots \\\\\n",
    "c_0 f_0(t_d) + c_1 f_1(t_d) + \\cdots + c_d f_d(t_d) &= y_d\n",
    "\\end{align*}\n",
    "\n",
    "Therefore the coefficients $c_0,\\dots,c_d$ of the unique function $F(t)$ are the solution of the system $A \\mathbf{c} = \\mathbf{y}$ where\n",
    "\n",
    "$$\n",
    "A = \\begin{bmatrix}\n",
    "f_0(t_0) & f_1(t_0) & \\cdots & f_d(t_0) \\\\\n",
    "f_0(t_1) & f_1(t_1) & \\cdots & f_d(t_1) \\\\\n",
    "\\vdots & \\vdots & \\ddots & \\vdots \\\\\n",
    "f_0(t_d) & f_1(t_d) & \\cdots & f_d(t_d)\n",
    "\\end{bmatrix}\n",
    "\\hspace{15mm}\n",
    "\\mathbf{c} = \\begin{bmatrix} c_0 \\\\ c_1 \\\\ \\vdots \\\\ c_d \\end{bmatrix}\n",
    "\\hspace{15mm}\n",
    "\\mathbf{y} = \\begin{bmatrix} y_0 \\\\ y_1 \\\\ \\vdots \\\\ y_d \\end{bmatrix}\n",
    "$$"
   ]
  },
  {
   "cell_type": "markdown",
   "id": "63b03454-bc96-429e-b701-02d694a78777",
   "metadata": {},
   "source": [
    "## Example\n",
    "\n",
    "Find the unique function of the form\n",
    "\n",
    "$$\n",
    "F(t) = c_0 + c_1 \\sin(t) + c_2 \\cos(t) + c_3 \\sin(2t) + c_4 \\cos(2t)\n",
    "$$\n",
    "\n",
    "which interpolates the data\n",
    "\n",
    "$$\n",
    "(-2,4) \\ , \\ (0,1) \\ , \\ (1,1) \\ , \\ (3,-1) \\ , \\ (5,4)\n",
    "$$\n",
    "\n",
    "Let $f_0(t) = 1$, $f_1(t) = \\sin(t)$, $f_2(t) = \\cos(t)$, $f_3(t) = \\sin(2t)$, $f_4(t) = \\cos(2t)$."
   ]
  },
  {
   "cell_type": "code",
   "execution_count": 5,
   "id": "1d8856e4-da03-46b0-a0c5-f3a5b6deaa7d",
   "metadata": {},
   "outputs": [
    {
     "data": {
      "text/plain": [
       "array([[ 1.        , -0.90929743, -0.41614684,  0.7568025 , -0.65364362],\n",
       "       [ 1.        ,  0.        ,  1.        ,  0.        ,  1.        ],\n",
       "       [ 1.        ,  0.84147098,  0.54030231,  0.90929743, -0.41614684],\n",
       "       [ 1.        ,  0.14112001, -0.9899925 , -0.2794155 ,  0.96017029],\n",
       "       [ 1.        , -0.95892427,  0.28366219, -0.54402111, -0.83907153]])"
      ]
     },
     "execution_count": 5,
     "metadata": {},
     "output_type": "execute_result"
    }
   ],
   "source": [
    "t = np.array([-2,0,1,3,5])\n",
    "y = np.array([4,1,1,-1,4])\n",
    "a0 = np.ones(5)\n",
    "a1 = np.sin(t)\n",
    "a2 = np.cos(t)\n",
    "a3 = np.sin(2*t)\n",
    "a4 = np.cos(2*t)\n",
    "A = np.column_stack((a0,a1,a2,a3,a4))\n",
    "A"
   ]
  },
  {
   "cell_type": "code",
   "execution_count": 6,
   "id": "44e7dbf1-91b4-473f-a028-73f94a34bc81",
   "metadata": {},
   "outputs": [
    {
     "data": {
      "image/png": "[encoded data removed]",
      "text/plain": [
       "<Figure size 432x288 with 1 Axes>"
      ]
     },
     "metadata": {
      "needs_background": "light"
     },
     "output_type": "display_data"
    }
   ],
   "source": [
    "c = la.solve(A,y)\n",
    "T = np.linspace(-2,5,50)\n",
    "Y = c[0] + c[1]*np.sin(T) + c[2]*np.cos(T) + c[3]*np.sin(2*T) + c[4]*np.cos(2*T)\n",
    "plt.plot(t,y,'r.',T,Y,'b')\n",
    "plt.show()"
   ]
  },
  {
   "cell_type": "markdown",
   "id": "d111c4d2-2951-4809-ba0c-0cc77b532a35",
   "metadata": {},
   "source": [
    "## Lines of best fit\n",
    "\n",
    "Consider $d+1$ points $(t_0,y_0),\\dots,(t_d,y_d)$. Find the line $y = c_0 + c_1 t$ which best fits the data in the sense that it minimizes the sum of squared errors\n",
    "\n",
    "$$\n",
    "SSE = \\sum_{n=0}^d (y_n - (c_0 - c_1 t_n))^2\n",
    "$$"
   ]
  },
  {
   "cell_type": "markdown",
   "id": "89c325d6-7c9a-4be5-a7e5-39e7765625ac",
   "metadata": {},
   "source": [
    "The coefficents $c_0$ and $c_1$ are the solution of the normal equations $A^T A \\mathbf{c} = A^T \\mathbf{y}$ where\n",
    "\n",
    "$$\n",
    "A = \\begin{bmatrix} 1 & t_0 \\\\ 1 & t_1 \\\\ \\vdots & \\vdots \\\\ 1 & t_d \\\\ \\end{bmatrix}\n",
    "$$"
   ]
  },
  {
   "cell_type": "code",
   "execution_count": 7,
   "id": "7bf7c7f1-8fbc-4171-b098-c6e5d6473d27",
   "metadata": {},
   "outputs": [
    {
     "data": {
      "image/png": "[encoded data removed]",
      "text/plain": [
       "<Figure size 432x288 with 1 Axes>"
      ]
     },
     "metadata": {
      "needs_background": "light"
     },
     "output_type": "display_data"
    }
   ],
   "source": [
    "N = 500\n",
    "t = np.random.rand(N)\n",
    "y = 0.5 - 3.4*t + 0.1*np.random.randn(N)\n",
    "A = np.column_stack((np.ones(N),t))\n",
    "c = la.solve(A.T@A,A.T@y)\n",
    "T = np.linspace(0,1,50)\n",
    "Y = c[0] + c[1]*T\n",
    "plt.plot(t,y,'b.',T,Y,'r')\n",
    "plt.show()"
   ]
  }
 ],
 "metadata": {
  "kernelspec": {
   "display_name": "Python 3 (ipykernel)",
   "language": "python",
   "name": "python3"
  },
  "language_info": {
   "codemirror_mode": {
    "name": "ipython",
    "version": 3
   },
   "file_extension": ".py",
   "mimetype": "text/x-python",
   "name": "python",
   "nbconvert_exporter": "python",
   "pygments_lexer": "ipython3",
   "version": "3.9.7"
  }
 },
 "nbformat": 4,
 "nbformat_minor": 5
}
