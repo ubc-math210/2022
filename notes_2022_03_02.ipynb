{
 "cells": [
  {
   "cell_type": "markdown",
   "id": "be16d702-cc74-424d-8abd-b535ec56af5c",
   "metadata": {},
   "source": [
    "# MATH 210 Introduction to Mathematical Computing\n",
    "\n",
    "## March 2, 2022\n",
    "\n",
    "* Riemann sum error formula"
   ]
  },
  {
   "cell_type": "code",
   "execution_count": 1,
   "id": "bf8ff003-db6b-41e9-ba89-fbfbd7648151",
   "metadata": {},
   "outputs": [],
   "source": [
    "import numpy as np\n",
    "import matplotlib.pyplot as plt"
   ]
  },
  {
   "cell_type": "markdown",
   "id": "6dcea53f-de8f-429f-beaf-982f8c809c38",
   "metadata": {},
   "source": [
    "## Riemann sum error formula\n",
    "\n",
    "Introduce notation for the right Riemann sum\n",
    "\n",
    "$$\n",
    "R_N(f) = \\frac{b-a}{N} \\sum_{n=1}^N f(x_n)\n",
    "$$\n",
    "\n",
    "The error formula for right/left Riemann sums is\n",
    "\n",
    "$$\n",
    "E_R^N(f) = \\left| \\int_a^b f(x)dx - R_N(f) \\right| \\leq \\frac{(b-a)^2}{2N} K_1\n",
    "$$\n",
    "\n",
    "where $| f'(x) | \\leq K_1$ for all $x \\in [a,b]$."
   ]
  },
  {
   "cell_type": "markdown",
   "id": "669575d1-cc98-4f99-9054-3ce9abe6972a",
   "metadata": {},
   "source": [
    "### Example\n",
    "\n",
    "Find $N$ which guarantees the error for the right Riemann sum approximation of\n",
    "\n",
    "$$\n",
    "\\int_1^2 x^x dx\n",
    "$$\n",
    "\n",
    "is less than 0.001. First step is to compute $f'(x)$. Use logarithmic differentiation\n",
    "\n",
    "$$\n",
    "y = x^x \\Rightarrow \\ln(y) = x \\ln(x) \\Rightarrow \\frac{1}{y} y' = \\ln(x) + 1\n",
    "\\Rightarrow y' = x^x(\\ln(x) + 1)\n",
    "$$"
   ]
  },
  {
   "cell_type": "markdown",
   "id": "0ffd0674-00dc-49d0-940d-82f9d3b37b25",
   "metadata": {},
   "source": [
    "Since $f'(x) = x^x(\\ln(x) + 1)$ is increasing on $[1,2]$ we know that $|f'(x)| \\leq 2^2(\\ln(2)+1) \\approx 6.77$"
   ]
  },
  {
   "cell_type": "code",
   "execution_count": 2,
   "id": "885dce7c-f564-44c8-af44-896b680d7944",
   "metadata": {},
   "outputs": [
    {
     "data": {
      "text/plain": [
       "6.772588722239782"
      ]
     },
     "execution_count": 2,
     "metadata": {},
     "output_type": "execute_result"
    }
   ],
   "source": [
    "2**2*(np.log(2) + 1)"
   ]
  },
  {
   "cell_type": "code",
   "execution_count": 3,
   "id": "bf1c6eef-1223-4dbd-917d-f792ac874d9d",
   "metadata": {},
   "outputs": [],
   "source": [
    "def riemannR(f,a,b,N):\n",
    "    x = np.linspace(a,b,N+1)\n",
    "    y = f(x)\n",
    "    dx = (b - a)/N\n",
    "    I = np.sum(y[1:])*dx\n",
    "    return I\n",
    "\n",
    "def riemannL(f,a,b,N):\n",
    "    x = np.linspace(a,b,N+1)\n",
    "    y = f(x)\n",
    "    dx = (b - a)/N\n",
    "    I = np.sum(y[:-1])*dx\n",
    "    return I"
   ]
  },
  {
   "cell_type": "code",
   "execution_count": 4,
   "id": "39d5e831-b85f-4dd9-a923-ade7badbb603",
   "metadata": {},
   "outputs": [
    {
     "data": {
      "text/plain": [
       "3386.2943611198907"
      ]
     },
     "execution_count": 4,
     "metadata": {},
     "output_type": "execute_result"
    }
   ],
   "source": [
    "f = lambda x: x**x\n",
    "a = 1; b = 2; E = 0.001; K1 = 2**2*(np.log(2)+1)\n",
    "N = (b - a)**2/2/E*K1\n",
    "N"
   ]
  },
  {
   "cell_type": "code",
   "execution_count": 5,
   "id": "ef8e2ad7-5ce8-4134-9a9b-fca0184aeb1a",
   "metadata": {},
   "outputs": [
    {
     "data": {
      "text/plain": [
       "2.050889146264305"
      ]
     },
     "execution_count": 5,
     "metadata": {},
     "output_type": "execute_result"
    }
   ],
   "source": [
    "N = 3387\n",
    "riemannR(f,a,b,N)"
   ]
  },
  {
   "cell_type": "code",
   "execution_count": 6,
   "id": "75671d6c-f5aa-4c9f-9843-3416d91b4ade",
   "metadata": {},
   "outputs": [
    {
     "data": {
      "text/plain": [
       "2.0500034066717454"
      ]
     },
     "execution_count": 6,
     "metadata": {},
     "output_type": "execute_result"
    }
   ],
   "source": [
    "riemannL(f,a,b,N)"
   ]
  },
  {
   "cell_type": "code",
   "execution_count": 7,
   "id": "f7dd6e0a-3711-429f-8032-9851f32abd77",
   "metadata": {},
   "outputs": [
    {
     "data": {
      "image/png": "[encoded data removed]",
      "text/plain": [
       "<Figure size 432x288 with 1 Axes>"
      ]
     },
     "metadata": {
      "needs_background": "light"
     },
     "output_type": "display_data"
    }
   ],
   "source": [
    "x = np.linspace(1,2,100)\n",
    "y = x**x\n",
    "plt.plot(x,y), plt.ylim([0,4]), plt.grid(True)\n",
    "plt.show()"
   ]
  },
  {
   "cell_type": "markdown",
   "id": "0cde8b73-29ad-4602-b9fc-598c9e0a90a5",
   "metadata": {},
   "source": [
    "### Example\n",
    "\n",
    "Find $N$ which guarantees the error for the right Riemann sum approximation of\n",
    "\n",
    "$$\n",
    "\\int_0^\\pi \\frac{\\sin(x)}{x} dx\n",
    "$$\n",
    "\n",
    "\n",
    "is less than 0.0001.\n",
    "\n",
    "$$\n",
    "f'(x) = \\frac{x\\cos(x) - \\sin(x)}{x^2}\n",
    "$$\n",
    "\n",
    "Note that $f(x)$ and $f'(x)$ are not defined at $x=0$. We can cheat a bit and plot from just larger than 0 to $\\pi$."
   ]
  },
  {
   "cell_type": "code",
   "execution_count": 8,
   "id": "b1d66c0b-da48-499a-8083-78c1b6f66f1d",
   "metadata": {},
   "outputs": [
    {
     "name": "stdout",
     "output_type": "stream",
     "text": [
      "0.43616243194087967\n"
     ]
    },
    {
     "data": {
      "image/png": "[encoded data removed]",
      "text/plain": [
       "<Figure size 432x288 with 1 Axes>"
      ]
     },
     "metadata": {
      "needs_background": "light"
     },
     "output_type": "display_data"
    }
   ],
   "source": [
    "x = np.linspace(0.0001,np.pi,100)\n",
    "y = (x*np.cos(x) - np.sin(x))/x**2\n",
    "print(np.max(np.abs(y)))\n",
    "\n",
    "plt.plot(x,y), plt.grid(True)\n",
    "plt.show()"
   ]
  },
  {
   "cell_type": "code",
   "execution_count": 9,
   "id": "639db206-78b7-4616-bbc4-ccf508f1f84f",
   "metadata": {},
   "outputs": [
    {
     "data": {
      "text/plain": [
       "21523.753289367716"
      ]
     },
     "execution_count": 9,
     "metadata": {},
     "output_type": "execute_result"
    }
   ],
   "source": [
    "a = 0; b = np.pi; E = 0.0001; K1 = 0.43616243194087967\n",
    "N = (b - a)**2/2/E*K1\n",
    "N"
   ]
  },
  {
   "cell_type": "markdown",
   "id": "b19c5046-e153-4afa-a3ee-89043219e8b6",
   "metadata": {},
   "source": [
    "Note that we'll get a warning that we're dividing by 0 when $x=0$. But we're doing the right Riemann sum (which excludes $x_0=0$) and so we can ignore the error."
   ]
  },
  {
   "cell_type": "code",
   "execution_count": 10,
   "id": "7aef5f7c-4f4c-41a6-a17d-5cab3c4ff3ad",
   "metadata": {},
   "outputs": [
    {
     "name": "stderr",
     "output_type": "stream",
     "text": [
      "/tmp/ipykernel_418/1959407934.py:2: RuntimeWarning: invalid value encountered in true_divide\n",
      "  f = lambda x: np.sin(x)/x\n"
     ]
    },
    {
     "data": {
      "text/plain": [
       "1.85186407258784"
      ]
     },
     "execution_count": 10,
     "metadata": {},
     "output_type": "execute_result"
    }
   ],
   "source": [
    "N = 21524\n",
    "f = lambda x: np.sin(x)/x\n",
    "riemannR(f,a,b,N)"
   ]
  },
  {
   "cell_type": "markdown",
   "id": "5910d26c-ad82-43bb-b976-45aae6fe443d",
   "metadata": {},
   "source": [
    "We can plot $f(x)$ and again ignore the error at $x=0$."
   ]
  },
  {
   "cell_type": "code",
   "execution_count": 11,
   "id": "50d70a61-746c-4c66-8642-627d78293e0c",
   "metadata": {},
   "outputs": [
    {
     "name": "stderr",
     "output_type": "stream",
     "text": [
      "/tmp/ipykernel_418/3099972879.py:2: RuntimeWarning: invalid value encountered in true_divide\n",
      "  y = np.sin(x)/x\n"
     ]
    },
    {
     "data": {
      "image/png": "[encoded data removed]",
      "text/plain": [
       "<Figure size 432x288 with 1 Axes>"
      ]
     },
     "metadata": {
      "needs_background": "light"
     },
     "output_type": "display_data"
    }
   ],
   "source": [
    "x = np.linspace(0,np.pi,100)\n",
    "y = np.sin(x)/x\n",
    "plt.plot(x,y), plt.grid(True)\n",
    "plt.show()"
   ]
  }
 ],
 "metadata": {
  "kernelspec": {
   "display_name": "Python 3 (ipykernel)",
   "language": "python",
   "name": "python3"
  },
  "language_info": {
   "codemirror_mode": {
    "name": "ipython",
    "version": 3
   },
   "file_extension": ".py",
   "mimetype": "text/x-python",
   "name": "python",
   "nbconvert_exporter": "python",
   "pygments_lexer": "ipython3",
   "version": "3.9.7"
  }
 },
 "nbformat": 4,
 "nbformat_minor": 5
}
