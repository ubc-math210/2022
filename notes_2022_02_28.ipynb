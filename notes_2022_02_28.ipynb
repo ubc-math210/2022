{
 "cells": [
  {
   "cell_type": "markdown",
   "id": "5154ab98-3e8e-4976-8755-8b5ef1896d06",
   "metadata": {},
   "source": [
    "# MATH 210 Introduction to Mathematical Computing\n",
    "\n",
    "## February 28, 2022\n",
    "\n",
    "* Definite integrals\n",
    "* Riemann sums\n",
    "* Error formulas"
   ]
  },
  {
   "cell_type": "code",
   "execution_count": 1,
   "id": "9bbe2353-c45e-4811-884b-1012ae680eba",
   "metadata": {},
   "outputs": [],
   "source": [
    "import numpy as np\n",
    "import matplotlib.pyplot as plt"
   ]
  },
  {
   "cell_type": "markdown",
   "id": "9d3fe366-41ec-43db-a4e9-61f0b32d40df",
   "metadata": {},
   "source": [
    "## Definite Integrals\n",
    "\n",
    "Consider the definite integral\n",
    "\n",
    "$$\n",
    "\\int_a^b f(x) dx\n",
    "$$\n",
    "\n",
    "It is usually impossible to compute a definite integral exactly (using elementary functions). For example, the Fresnel integral\n",
    "\n",
    "$$\n",
    "\\int_0^{\\sqrt{\\pi/2}} \\sin(x^2) dx\n",
    "$$\n",
    "\n",
    "and the normal distribution (or error function)\n",
    "\n",
    "$$\n",
    "\\int_0^1 e^{-x^2} dx\n",
    "$$\n",
    "\n",
    "are examples which cannot be computed exactly. But we can always approximate!"
   ]
  },
  {
   "cell_type": "markdown",
   "id": "8559f368-0253-4f33-8583-3df628d69574",
   "metadata": {},
   "source": [
    "## Riemann sums\n",
    "\n",
    "Choose a partition of the interval $[a,b]$. That is, choose $N+1$ values $x_0,x_1,\\dots,x_N$ with $x_0=a$ and $x_N=b$. The right Riemann sum is\n",
    "\n",
    "$$\n",
    "\\int_a^b f(x) dx \\approx \\sum_{n=1}^N f(x_n) (x_n - x_{n-1})\n",
    "$$\n",
    "\n",
    "Note that $x_n$ is the right endpoint of the interval $[x_{n-1},x_n]$.\n",
    "\n",
    "The left Riemann sum is\n",
    "\n",
    "$$\n",
    "\\int_a^b f(x) dx \\approx \\sum_{n=1}^N f(x_{n-1}) (x_n - x_{n-1})\n",
    "$$\n",
    "\n",
    "Note that $x_{n-1}$ is the left endpoint of the interval $[x_{n-1},x_n]$.\n",
    "\n",
    "Usually, we use equally spaced points $\\Delta x = x_n - x_{n-1}$ where\n",
    "\n",
    "$$\n",
    "\\Delta x = \\frac{b - a}{N}\n",
    "$$"
   ]
  },
  {
   "cell_type": "markdown",
   "id": "9b0ad1be-1b6d-4ebd-ac2c-2785f903f054",
   "metadata": {},
   "source": [
    "Write a function called `riemannR` which takes (vectorized) function `f`, numbers `a`, `b` and `N` and returns the right Riemann with $N+1$ equally spaced points."
   ]
  },
  {
   "cell_type": "code",
   "execution_count": 2,
   "id": "5c3f7833-65d7-49e5-bb4a-4a51aa201301",
   "metadata": {},
   "outputs": [],
   "source": [
    "def riemannR(f,a,b,N):\n",
    "    x = np.linspace(a,b,N+1)\n",
    "    y = f(x)\n",
    "    dx = (b - a)/N\n",
    "    I = np.sum(y[1:])*dx\n",
    "    return I"
   ]
  },
  {
   "cell_type": "code",
   "execution_count": 3,
   "id": "3cbfd52a-3d32-4f88-93f1-363144a70fba",
   "metadata": {},
   "outputs": [
    {
     "data": {
      "text/plain": [
       "0.5555429564341916"
      ]
     },
     "execution_count": 3,
     "metadata": {},
     "output_type": "execute_result"
    }
   ],
   "source": [
    "f = lambda x: np.sin(x**2)\n",
    "a = 0; b = np.sqrt(np.pi/2);\n",
    "N = 100\n",
    "riemannR(f,a,b,N)"
   ]
  },
  {
   "cell_type": "markdown",
   "id": "52cb862c-ed19-4731-892d-ac6c9ff67794",
   "metadata": {},
   "source": [
    "Is this an overestimate or underestimate? Let's plot $y=\\sin(x^2)$."
   ]
  },
  {
   "cell_type": "code",
   "execution_count": 4,
   "id": "cb5a133c-994b-4115-8af0-0e7e3ac65cdd",
   "metadata": {},
   "outputs": [
    {
     "data": {
      "image/png": "[encoded data removed]",
      "text/plain": [
       "<Figure size 432x288 with 1 Axes>"
      ]
     },
     "metadata": {
      "needs_background": "light"
     },
     "output_type": "display_data"
    }
   ],
   "source": [
    "x = np.linspace(0,np.sqrt(np.pi/2),100)\n",
    "y = f(x)\n",
    "plt.plot(x,y)\n",
    "plt.show()"
   ]
  },
  {
   "cell_type": "markdown",
   "id": "cf6ab49a-49fa-4085-a6af-164e0b2ab792",
   "metadata": {},
   "source": [
    "The function is increasing therefore the approximation by right Riemann sums is an **overestimate**. (The left Riemann sum is an underestimate.)"
   ]
  },
  {
   "cell_type": "markdown",
   "id": "c4f28d78-54ba-443f-8440-bedf7e4392ae",
   "metadata": {},
   "source": [
    "## Error Formula\n",
    "\n",
    "Introduce notation $R_N(f)$ for the right Riemann sum with $N+1$ equally spaced points\n",
    "\n",
    "$$\n",
    "R_N(f) = \\frac{b-a}{N} \\sum_{n=1}^N f(x_n)\n",
    "$$\n",
    "\n",
    "Define the absolute error\n",
    "\n",
    "$$\n",
    "E_N^R(f) = \\left| \\int_a^b f(x) dx  - R_N(f) \\right|\n",
    "$$\n",
    "\n",
    "The error formula for a right/left Riemann sum is\n",
    "\n",
    "$$\n",
    "E_N^R(f) \\leq \\frac{(b-a)^2}{2N}K_1\n",
    "$$\n",
    "\n",
    "where $|f'(x)| \\leq K_1$ for all $x \\in [a,b]$."
   ]
  },
  {
   "cell_type": "markdown",
   "id": "3e312c17-8e28-4c68-baf0-5b980b975831",
   "metadata": {},
   "source": [
    "Foe example, determine $N$ which guarantees $E_N^R(f) \\leq 10^{-2}$ for the integral\n",
    "\n",
    "$$\n",
    "\\int_0^{\\sqrt{\\pi/2}} \\sin(x^2) dx\n",
    "$$"
   ]
  },
  {
   "cell_type": "markdown",
   "id": "40759713-d306-4623-a726-49a5f33053f4",
   "metadata": {},
   "source": [
    "Compute the derivative $f'(x) = 2x \\cos(x^2)$. Then $|f'(x)| \\leq \\pi$ for $x \\in [0,\\sqrt{\\pi/2}]$."
   ]
  },
  {
   "cell_type": "code",
   "execution_count": 5,
   "id": "5b85d031-8661-4fdf-8ae9-d5e623186fec",
   "metadata": {},
   "outputs": [
    {
     "data": {
      "text/plain": [
       "246.7401100272339"
      ]
     },
     "execution_count": 5,
     "metadata": {},
     "output_type": "execute_result"
    }
   ],
   "source": [
    "a = 0; b = np.sqrt(np.pi/2); K1 = np.pi;\n",
    "E = 10**(-2)\n",
    "N = (b - a)**2*K1/(2*E)\n",
    "N"
   ]
  },
  {
   "cell_type": "markdown",
   "id": "d9590c1a-cae4-4e80-a33d-b8b5ab52eeab",
   "metadata": {},
   "source": [
    "Therefore $N \\geq 247$."
   ]
  },
  {
   "cell_type": "code",
   "execution_count": 6,
   "id": "80233f46-6079-44b8-afba-cf7049fb9f1b",
   "metadata": {},
   "outputs": [
    {
     "data": {
      "text/plain": [
       "0.5518134583984771"
      ]
     },
     "execution_count": 6,
     "metadata": {},
     "output_type": "execute_result"
    }
   ],
   "source": [
    "f = lambda x: np.sin(x**2)\n",
    "a = 0; b = np.sqrt(np.pi/2);\n",
    "N = 247\n",
    "R = riemannR(f,a,b,N)\n",
    "R"
   ]
  }
 ],
 "metadata": {
  "kernelspec": {
   "display_name": "Python 3 (ipykernel)",
   "language": "python",
   "name": "python3"
  },
  "language_info": {
   "codemirror_mode": {
    "name": "ipython",
    "version": 3
   },
   "file_extension": ".py",
   "mimetype": "text/x-python",
   "name": "python",
   "nbconvert_exporter": "python",
   "pygments_lexer": "ipython3",
   "version": "3.9.7"
  }
 },
 "nbformat": 4,
 "nbformat_minor": 5
}
