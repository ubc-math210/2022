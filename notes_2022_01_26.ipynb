{
 "cells": [
  {
   "cell_type": "markdown",
   "id": "d18159de-f70a-4749-a7a0-cf6a3429e8ac",
   "metadata": {},
   "source": [
    "# MATH 210 Introduction to Mathematical Computing\n",
    "\n",
    "## January 26, 2022\n",
    "\n",
    "* Boolean values\n",
    "* Comparison operators\n",
    "* Boolean operators\n",
    "* Examples"
   ]
  },
  {
   "cell_type": "markdown",
   "id": "92594806-fc97-426c-97f4-060d63e4de33",
   "metadata": {},
   "source": [
    "## Boolean values\n",
    "\n",
    "There are two boolean values: `True` and `False`."
   ]
  },
  {
   "cell_type": "code",
   "execution_count": 1,
   "id": "817ef357-7775-4aac-ab16-d152366c3b25",
   "metadata": {},
   "outputs": [],
   "source": [
    "math_is_cool = True"
   ]
  },
  {
   "cell_type": "code",
   "execution_count": 2,
   "id": "35a71b86-8a2e-4656-9b8c-337e455b2a3c",
   "metadata": {},
   "outputs": [
    {
     "data": {
      "text/plain": [
       "True"
      ]
     },
     "execution_count": 2,
     "metadata": {},
     "output_type": "execute_result"
    }
   ],
   "source": [
    "math_is_cool"
   ]
  },
  {
   "cell_type": "code",
   "execution_count": 3,
   "id": "c89b76df-e965-4272-9c68-b11b06f5c1ff",
   "metadata": {},
   "outputs": [
    {
     "data": {
      "text/plain": [
       "bool"
      ]
     },
     "execution_count": 3,
     "metadata": {},
     "output_type": "execute_result"
    }
   ],
   "source": [
    "type(math_is_cool)"
   ]
  },
  {
   "cell_type": "code",
   "execution_count": 4,
   "id": "f480c5ad-ddd6-4dc0-b017-d7055f8dea6b",
   "metadata": {},
   "outputs": [],
   "source": [
    "math_is_scary = False"
   ]
  },
  {
   "cell_type": "code",
   "execution_count": 5,
   "id": "fecff586-2f19-4987-a701-bafb55cb5c8f",
   "metadata": {},
   "outputs": [
    {
     "data": {
      "text/plain": [
       "False"
      ]
     },
     "execution_count": 5,
     "metadata": {},
     "output_type": "execute_result"
    }
   ],
   "source": [
    "math_is_scary"
   ]
  },
  {
   "cell_type": "code",
   "execution_count": 6,
   "id": "692d6561-977a-448c-9893-c7e5670b03bc",
   "metadata": {},
   "outputs": [
    {
     "data": {
      "text/plain": [
       "bool"
      ]
     },
     "execution_count": 6,
     "metadata": {},
     "output_type": "execute_result"
    }
   ],
   "source": [
    "type(math_is_scary)"
   ]
  },
  {
   "cell_type": "markdown",
   "id": "28260d12-26e4-4322-bd3e-fc3f30c8c302",
   "metadata": {},
   "source": [
    "## Comparison Operators\n",
    "\n",
    "Compare numbers with operators: `>`, `<`, `==`, `<=`, `>=`, `!=`."
   ]
  },
  {
   "cell_type": "code",
   "execution_count": 7,
   "id": "cf758ca0-3f8d-4916-9c4b-a5222acc752b",
   "metadata": {},
   "outputs": [
    {
     "data": {
      "text/plain": [
       "True"
      ]
     },
     "execution_count": 7,
     "metadata": {},
     "output_type": "execute_result"
    }
   ],
   "source": [
    "1 < 2"
   ]
  },
  {
   "cell_type": "code",
   "execution_count": 8,
   "id": "e427d8d3-3e33-40c2-8e65-5fa78c43fc31",
   "metadata": {},
   "outputs": [
    {
     "data": {
      "text/plain": [
       "False"
      ]
     },
     "execution_count": 8,
     "metadata": {},
     "output_type": "execute_result"
    }
   ],
   "source": [
    "1 > 2"
   ]
  },
  {
   "cell_type": "code",
   "execution_count": 9,
   "id": "6671a407-fc22-4769-a8cc-9b1fd2f6a210",
   "metadata": {},
   "outputs": [
    {
     "data": {
      "text/plain": [
       "False"
      ]
     },
     "execution_count": 9,
     "metadata": {},
     "output_type": "execute_result"
    }
   ],
   "source": [
    "1 == 2"
   ]
  },
  {
   "cell_type": "code",
   "execution_count": 10,
   "id": "b62fc4a9-78d5-481f-aa63-5802c13a4072",
   "metadata": {},
   "outputs": [
    {
     "data": {
      "text/plain": [
       "True"
      ]
     },
     "execution_count": 10,
     "metadata": {},
     "output_type": "execute_result"
    }
   ],
   "source": [
    "1 != 2"
   ]
  },
  {
   "cell_type": "code",
   "execution_count": 11,
   "id": "86394c66-4302-437e-a7d1-8b52ff73af03",
   "metadata": {},
   "outputs": [
    {
     "data": {
      "text/plain": [
       "False"
      ]
     },
     "execution_count": 11,
     "metadata": {},
     "output_type": "execute_result"
    }
   ],
   "source": [
    "3.14159 == 3.14"
   ]
  },
  {
   "cell_type": "markdown",
   "id": "3760802f-6419-45d8-b27a-3f77ece4890f",
   "metadata": {},
   "source": [
    "It is usually a **bad** idea to compare floats with `==` because we are always dealing with rounding errors."
   ]
  },
  {
   "cell_type": "code",
   "execution_count": 12,
   "id": "facb2e71-78f0-44be-87b2-9a3568a21317",
   "metadata": {},
   "outputs": [
    {
     "data": {
      "text/plain": [
       "False"
      ]
     },
     "execution_count": 12,
     "metadata": {},
     "output_type": "execute_result"
    }
   ],
   "source": [
    "1.00000001 == 1"
   ]
  },
  {
   "cell_type": "markdown",
   "id": "9efd4b88-2cf8-4f22-881c-68711bfeb7fc",
   "metadata": {},
   "source": [
    "Note that Python stores floats with 16 digits of precision:"
   ]
  },
  {
   "cell_type": "code",
   "execution_count": 13,
   "id": "ca7ba323-1440-43e8-8c6a-5a127465a093",
   "metadata": {},
   "outputs": [
    {
     "data": {
      "text/plain": [
       "True"
      ]
     },
     "execution_count": 13,
     "metadata": {},
     "output_type": "execute_result"
    }
   ],
   "source": [
    "1.000000000000000000000000000000000000000000000000001 == 1"
   ]
  },
  {
   "cell_type": "markdown",
   "id": "6d0bd21d-c685-4941-9765-bb086ddf3eb3",
   "metadata": {},
   "source": [
    "The number on the left is rounded to 16 digits (and so is 1.0)."
   ]
  },
  {
   "cell_type": "code",
   "execution_count": 14,
   "id": "2bfc6a4f-a1a2-4cde-80d7-e52201952f5f",
   "metadata": {},
   "outputs": [
    {
     "data": {
      "text/plain": [
       "False"
      ]
     },
     "execution_count": 14,
     "metadata": {},
     "output_type": "execute_result"
    }
   ],
   "source": [
    "1.000000000000001 == 1"
   ]
  },
  {
   "cell_type": "markdown",
   "id": "8495dfa9-f2b2-48b7-92b0-d24906385bf4",
   "metadata": {},
   "source": [
    "## Boolean Operators\n",
    "\n",
    "Combine comparison operators using boolean operators `and`, `or` and `not`."
   ]
  },
  {
   "cell_type": "code",
   "execution_count": 15,
   "id": "c1f1e3b4-d81f-453a-90c0-1c50506dc1a3",
   "metadata": {},
   "outputs": [
    {
     "data": {
      "text/plain": [
       "True"
      ]
     },
     "execution_count": 15,
     "metadata": {},
     "output_type": "execute_result"
    }
   ],
   "source": [
    "(1 < 2) and (3.14159 > 3.14)"
   ]
  },
  {
   "cell_type": "code",
   "execution_count": 16,
   "id": "8f6d90ad-00f4-4462-b967-dfdc7634fe62",
   "metadata": {},
   "outputs": [
    {
     "data": {
      "text/plain": [
       "False"
      ]
     },
     "execution_count": 16,
     "metadata": {},
     "output_type": "execute_result"
    }
   ],
   "source": [
    "(1 < 2) and (3.14159 < 3.14)"
   ]
  },
  {
   "cell_type": "code",
   "execution_count": 17,
   "id": "9535c047-dedd-4b70-9987-e7259a0ffc63",
   "metadata": {},
   "outputs": [
    {
     "data": {
      "text/plain": [
       "True"
      ]
     },
     "execution_count": 17,
     "metadata": {},
     "output_type": "execute_result"
    }
   ],
   "source": [
    "(1 < 2) or (3.14159 < 3.14)"
   ]
  },
  {
   "cell_type": "markdown",
   "id": "88a4b742-44c4-4fa2-b2e2-19d4c1ea72d2",
   "metadata": {},
   "source": [
    "## if statements\n",
    "\n",
    "An `if` statement executes different blocks of code depending on boolean values. Let's do an example. Write an `if` statement which determines whether a quadratic polynomial $p(x) = ax^2 + bx + c$ has real, complex or repeated roots. Use the discriminant in the quadratic formula:\n",
    "\n",
    "$$\n",
    "\\frac{-b \\pm \\sqrt{b^2 - 4ac}}{2a}\n",
    "$$"
   ]
  },
  {
   "cell_type": "code",
   "execution_count": 18,
   "id": "a858182c-4fc1-438b-a45c-5a4d48398b8f",
   "metadata": {},
   "outputs": [
    {
     "name": "stdout",
     "output_type": "stream",
     "text": [
      "Roots are real and distinct.\n",
      "if statement complete.\n"
     ]
    }
   ],
   "source": [
    "a = 1\n",
    "b = 2\n",
    "c = -1\n",
    "D = b**2 - 4*a*c\n",
    "\n",
    "if D > 0:\n",
    "    print(\"Roots are real and distinct.\")\n",
    "elif D < 0:\n",
    "    print(\"Roots are complex.\")\n",
    "else:\n",
    "    print(\"Roots are real and repeated.\")\n",
    "\n",
    "print(\"if statement complete.\")"
   ]
  },
  {
   "cell_type": "markdown",
   "id": "5e1e1f84-4d2b-4012-b670-54d43bcd82d3",
   "metadata": {},
   "source": [
    "## Example\n",
    "\n",
    "Write a function called `poly_diff` which takes a Python list `p` (representing a polynomial $p(x) = c_0 + c_1 x + \\cdots + c_dx^d$ where $c_d \\ne 0$) and returns the list representing the derivative $p'(x)$.\n",
    "\n",
    "Don't try to do it all at once! Recall our steps for writing functions:\n",
    "\n",
    "1. Start with `def` statement.\n",
    "2. Write a short docstring.\n",
    "3. Return **any** value that is the correct type.\n",
    "4. Think of a simple example where you know the input and the output.\n",
    "5. Write the example below the function.\n",
    "6. Write the function and use your example to test your work!"
   ]
  },
  {
   "cell_type": "code",
   "execution_count": 19,
   "id": "6453c892-952e-4e98-956e-59ade934f685",
   "metadata": {},
   "outputs": [],
   "source": [
    "def poly_diff(p):\n",
    "    \"Compute the derivative p'(x).\"\n",
    "    if len(p) > 1:\n",
    "        dp = [n*p[n] for n in range(1,len(p))]\n",
    "    else:\n",
    "        dp = [0]    \n",
    "    return dp"
   ]
  },
  {
   "cell_type": "markdown",
   "id": "f81173d4-e6a2-4ce5-87fe-2582411d2bab",
   "metadata": {},
   "source": [
    "The function should return `[1,2]` when `p = [1,1,1]`. In other words, if $p(x) = 1 + x + x^2$ then $p'(x) = 1 + 2x$."
   ]
  },
  {
   "cell_type": "code",
   "execution_count": 20,
   "id": "c54c531e-d27e-40f4-a1a1-c619a05413e2",
   "metadata": {},
   "outputs": [
    {
     "data": {
      "text/plain": [
       "[1, 2]"
      ]
     },
     "execution_count": 20,
     "metadata": {},
     "output_type": "execute_result"
    }
   ],
   "source": [
    "poly_diff([1,1,1])"
   ]
  },
  {
   "cell_type": "markdown",
   "id": "bb53217c-c1ae-41b9-b1e5-a9c671fb3dd3",
   "metadata": {},
   "source": [
    "What about if $p(x) = 1$? if `p = [1]` then the output should be `[0]`."
   ]
  },
  {
   "cell_type": "code",
   "execution_count": 21,
   "id": "4b222002-c2f9-4943-821f-d35d922b73c6",
   "metadata": {},
   "outputs": [
    {
     "data": {
      "text/plain": [
       "[0]"
      ]
     },
     "execution_count": 21,
     "metadata": {},
     "output_type": "execute_result"
    }
   ],
   "source": [
    "poly_diff([1])"
   ]
  }
 ],
 "metadata": {
  "kernelspec": {
   "display_name": "Python 3 (ipykernel)",
   "language": "python",
   "name": "python3"
  },
  "language_info": {
   "codemirror_mode": {
    "name": "ipython",
    "version": 3
   },
   "file_extension": ".py",
   "mimetype": "text/x-python",
   "name": "python",
   "nbconvert_exporter": "python",
   "pygments_lexer": "ipython3",
   "version": "3.9.7"
  }
 },
 "nbformat": 4,
 "nbformat_minor": 5
}
