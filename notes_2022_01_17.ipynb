{
 "cells": [
  {
   "cell_type": "markdown",
   "id": "abc3678f-abfc-4f1d-9bd9-0dbe94c0256e",
   "metadata": {},
   "source": [
    "# MATH 210 Introduction to Mathematical Computing\n",
    "\n",
    "## January 17, 2022\n",
    "\n",
    "* Introduction to Python\n",
    "* Numbers and Variables\n",
    "* Arithmetic Operations\n",
    "* Examples"
   ]
  },
  {
   "cell_type": "markdown",
   "id": "0e26c898-0405-4347-bd48-e6dfb2cdaa7c",
   "metadata": {},
   "source": [
    "## Introduction to Python\n",
    "\n",
    "Python is a general purpose, \"easy to use\", open source, object oriented programming language. See [python.org](https://www.python.org) for more information."
   ]
  },
  {
   "cell_type": "markdown",
   "id": "e389787a-ed61-40ff-b42b-07d9b959f0ed",
   "metadata": {},
   "source": [
    "## Numbers and Variables\n",
    "\n",
    "There are 3 main numeric types in Python: integers, floating point numbers (aka floats), and complex numbers. Python stores the data differently depending on the type and so we need to keep track of what types we are working with."
   ]
  },
  {
   "cell_type": "markdown",
   "id": "3c4b1264-017a-4e3c-8e2c-c167dbb08a40",
   "metadata": {},
   "source": [
    "An integer is a whole number:"
   ]
  },
  {
   "cell_type": "code",
   "execution_count": 1,
   "id": "8e46eb89-a806-4a18-a1d6-877873cc10dd",
   "metadata": {},
   "outputs": [
    {
     "data": {
      "text/plain": [
       "8"
      ]
     },
     "execution_count": 1,
     "metadata": {},
     "output_type": "execute_result"
    }
   ],
   "source": [
    "8"
   ]
  },
  {
   "cell_type": "markdown",
   "id": "ce8fcd85-4998-42a5-89af-b78a0652e758",
   "metadata": {},
   "source": [
    "A float is a number written as a decimal:"
   ]
  },
  {
   "cell_type": "code",
   "execution_count": 2,
   "id": "c64018e8-bce8-47ab-9bdf-14f0721cbc80",
   "metadata": {},
   "outputs": [
    {
     "data": {
      "text/plain": [
       "3.14159"
      ]
     },
     "execution_count": 2,
     "metadata": {},
     "output_type": "execute_result"
    }
   ],
   "source": [
    "3.14159"
   ]
  },
  {
   "cell_type": "markdown",
   "id": "b3ba26b7-874c-436a-9a07-5e8d82bf6ee2",
   "metadata": {},
   "source": [
    "Use the symbol `j` for $j = \\sqrt{-1}$:"
   ]
  },
  {
   "cell_type": "code",
   "execution_count": 3,
   "id": "e3b11c65-5be9-4153-a546-c1eea6d05df0",
   "metadata": {},
   "outputs": [
    {
     "data": {
      "text/plain": [
       "(2+2j)"
      ]
     },
     "execution_count": 3,
     "metadata": {},
     "output_type": "execute_result"
    }
   ],
   "source": [
    "2 + 2j"
   ]
  },
  {
   "cell_type": "markdown",
   "id": "9f9e0882-08df-4218-8e55-a190338a1ed5",
   "metadata": {},
   "source": [
    "Use the Python function `type` to see the datatype of a value: "
   ]
  },
  {
   "cell_type": "code",
   "execution_count": 4,
   "id": "43b157bc-89cb-4e12-8abd-e6208f93ae8d",
   "metadata": {},
   "outputs": [
    {
     "data": {
      "text/plain": [
       "int"
      ]
     },
     "execution_count": 4,
     "metadata": {},
     "output_type": "execute_result"
    }
   ],
   "source": [
    "type(8)"
   ]
  },
  {
   "cell_type": "code",
   "execution_count": 5,
   "id": "545ab073-7b62-47b3-8de1-12a9a87b4ba7",
   "metadata": {},
   "outputs": [
    {
     "data": {
      "text/plain": [
       "float"
      ]
     },
     "execution_count": 5,
     "metadata": {},
     "output_type": "execute_result"
    }
   ],
   "source": [
    "type(3.14159)"
   ]
  },
  {
   "cell_type": "code",
   "execution_count": 6,
   "id": "08a96804-4578-4b29-bd62-e7ef4ed05dd6",
   "metadata": {},
   "outputs": [
    {
     "data": {
      "text/plain": [
       "complex"
      ]
     },
     "execution_count": 6,
     "metadata": {},
     "output_type": "execute_result"
    }
   ],
   "source": [
    "type(2 + 2j)"
   ]
  },
  {
   "cell_type": "markdown",
   "id": "28cb45d3-73a1-4472-a408-e83b00c7f727",
   "metadata": {},
   "source": [
    "If we want to save a value to use later, we assign a value to a variable using the assignment operator `=`. "
   ]
  },
  {
   "cell_type": "code",
   "execution_count": 7,
   "id": "f5a15cef-ae2d-4a8e-a02f-b7235cd328eb",
   "metadata": {},
   "outputs": [],
   "source": [
    "x = 12345"
   ]
  },
  {
   "cell_type": "code",
   "execution_count": 8,
   "id": "5d9e5b19-7d6f-4853-ba8b-30eddf5dcd78",
   "metadata": {},
   "outputs": [
    {
     "data": {
      "text/plain": [
       "12345"
      ]
     },
     "execution_count": 8,
     "metadata": {},
     "output_type": "execute_result"
    }
   ],
   "source": [
    "x"
   ]
  },
  {
   "cell_type": "code",
   "execution_count": 9,
   "id": "c14bbc29-7301-4b96-bac4-4d38ed55ce5d",
   "metadata": {},
   "outputs": [
    {
     "data": {
      "text/plain": [
       "int"
      ]
     },
     "execution_count": 9,
     "metadata": {},
     "output_type": "execute_result"
    }
   ],
   "source": [
    "type(x)"
   ]
  },
  {
   "cell_type": "code",
   "execution_count": 10,
   "id": "80979102-9d92-4a5c-8d13-e17ad864b9e0",
   "metadata": {},
   "outputs": [],
   "source": [
    "pi = 3.14159"
   ]
  },
  {
   "cell_type": "code",
   "execution_count": 11,
   "id": "88b0e108-1f4b-45ca-9e57-d9e9ef37aa54",
   "metadata": {},
   "outputs": [
    {
     "data": {
      "text/plain": [
       "3.14159"
      ]
     },
     "execution_count": 11,
     "metadata": {},
     "output_type": "execute_result"
    }
   ],
   "source": [
    "pi"
   ]
  },
  {
   "cell_type": "code",
   "execution_count": 12,
   "id": "45b939ab-2cc1-457b-8119-1661f8ca6d15",
   "metadata": {},
   "outputs": [
    {
     "data": {
      "text/plain": [
       "float"
      ]
     },
     "execution_count": 12,
     "metadata": {},
     "output_type": "execute_result"
    }
   ],
   "source": [
    "type(pi)"
   ]
  },
  {
   "cell_type": "markdown",
   "id": "12456622-b15c-4258-b9ce-4b1483f6eeb4",
   "metadata": {},
   "source": [
    "Use the Jupyter command `whos` to display all the variables currently defined:"
   ]
  },
  {
   "cell_type": "code",
   "execution_count": 13,
   "id": "1b411300-34c6-4448-8c0e-f2ed2da9e980",
   "metadata": {},
   "outputs": [
    {
     "name": "stdout",
     "output_type": "stream",
     "text": [
      "Variable   Type     Data/Info\n",
      "-----------------------------\n",
      "pi         float    3.14159\n",
      "x          int      12345\n"
     ]
    }
   ],
   "source": [
    "whos"
   ]
  },
  {
   "cell_type": "markdown",
   "id": "731f935b-6c8d-45f4-b9ec-82375bab6d73",
   "metadata": {},
   "source": [
    "## Arithmetic Operations\n",
    "\n",
    "Add numbers:"
   ]
  },
  {
   "cell_type": "code",
   "execution_count": 14,
   "id": "f2ab8584-c8aa-4050-afad-f005a04aa8ef",
   "metadata": {},
   "outputs": [
    {
     "data": {
      "text/plain": [
       "3"
      ]
     },
     "execution_count": 14,
     "metadata": {},
     "output_type": "execute_result"
    }
   ],
   "source": [
    "1 + 2"
   ]
  },
  {
   "cell_type": "markdown",
   "id": "212b2622-e163-4ca6-8b20-001e752565ee",
   "metadata": {},
   "source": [
    "If you add an `int` to a `float` the type of the result is a `float`:"
   ]
  },
  {
   "cell_type": "code",
   "execution_count": 15,
   "id": "c533621c-ef63-46ba-8fb1-30f6eee1f26b",
   "metadata": {},
   "outputs": [],
   "source": [
    "pi = 3 + 0.14159"
   ]
  },
  {
   "cell_type": "code",
   "execution_count": 16,
   "id": "435d9813-a5ba-4706-b86a-d876df2f72f4",
   "metadata": {},
   "outputs": [
    {
     "data": {
      "text/plain": [
       "3.14159"
      ]
     },
     "execution_count": 16,
     "metadata": {},
     "output_type": "execute_result"
    }
   ],
   "source": [
    "pi"
   ]
  },
  {
   "cell_type": "code",
   "execution_count": 17,
   "id": "e050a099-048d-4c78-b034-c7dbcbedf4b6",
   "metadata": {},
   "outputs": [
    {
     "data": {
      "text/plain": [
       "float"
      ]
     },
     "execution_count": 17,
     "metadata": {},
     "output_type": "execute_result"
    }
   ],
   "source": [
    "type(pi)"
   ]
  },
  {
   "cell_type": "markdown",
   "id": "5ec5d115-ea6b-4377-8b09-30d575675a1d",
   "metadata": {},
   "source": [
    "Subtract numbers:"
   ]
  },
  {
   "cell_type": "code",
   "execution_count": 18,
   "id": "5c3d0e2f-86c6-4b40-9f1e-0db0468dc090",
   "metadata": {},
   "outputs": [
    {
     "data": {
      "text/plain": [
       "4"
      ]
     },
     "execution_count": 18,
     "metadata": {},
     "output_type": "execute_result"
    }
   ],
   "source": [
    "7 - 3"
   ]
  },
  {
   "cell_type": "markdown",
   "id": "2534a2f0-c2bc-4728-85c8-27aa4c2cdec4",
   "metadata": {},
   "source": [
    "Divide numbers:"
   ]
  },
  {
   "cell_type": "code",
   "execution_count": 19,
   "id": "9acea230-ed16-4879-962e-8f2b40e997a7",
   "metadata": {},
   "outputs": [
    {
     "data": {
      "text/plain": [
       "4.5"
      ]
     },
     "execution_count": 19,
     "metadata": {},
     "output_type": "execute_result"
    }
   ],
   "source": [
    "9/2"
   ]
  },
  {
   "cell_type": "code",
   "execution_count": 20,
   "id": "588fa171-9596-4813-b82e-e237cbcaeaba",
   "metadata": {},
   "outputs": [
    {
     "data": {
      "text/plain": [
       "3.0"
      ]
     },
     "execution_count": 20,
     "metadata": {},
     "output_type": "execute_result"
    }
   ],
   "source": [
    "9/3"
   ]
  },
  {
   "cell_type": "markdown",
   "id": "b3c18475-e64b-4c37-833c-90713314d611",
   "metadata": {},
   "source": [
    "Division always returns a `float`."
   ]
  },
  {
   "cell_type": "markdown",
   "id": "c8dcb9dd-975b-4640-96af-c5d07fa8ee0a",
   "metadata": {},
   "source": [
    "Multiply numbers:"
   ]
  },
  {
   "cell_type": "code",
   "execution_count": 21,
   "id": "37eee155-eaf2-41b3-a615-1131082193c1",
   "metadata": {},
   "outputs": [
    {
     "data": {
      "text/plain": [
       "120"
      ]
     },
     "execution_count": 21,
     "metadata": {},
     "output_type": "execute_result"
    }
   ],
   "source": [
    "1*2*3*4*5"
   ]
  },
  {
   "cell_type": "code",
   "execution_count": 22,
   "id": "1b86f0cd-e742-43b7-a34e-fed1e657f6de",
   "metadata": {},
   "outputs": [
    {
     "data": {
      "text/plain": [
       "21.0"
      ]
     },
     "execution_count": 22,
     "metadata": {},
     "output_type": "execute_result"
    }
   ],
   "source": [
    "4.2*5"
   ]
  },
  {
   "cell_type": "markdown",
   "id": "b9cc244b-b67b-4e25-afc7-8f3cfa511d61",
   "metadata": {},
   "source": [
    "Compute powers:"
   ]
  },
  {
   "cell_type": "code",
   "execution_count": 23,
   "id": "28896926-d896-4a1b-8875-fe3e217fdafa",
   "metadata": {},
   "outputs": [
    {
     "data": {
      "text/plain": [
       "32"
      ]
     },
     "execution_count": 23,
     "metadata": {},
     "output_type": "execute_result"
    }
   ],
   "source": [
    "2**5"
   ]
  },
  {
   "cell_type": "code",
   "execution_count": 24,
   "id": "0da68d57-340b-4620-902a-113f663d47bc",
   "metadata": {},
   "outputs": [
    {
     "data": {
      "text/plain": [
       "1.4142135623730951"
      ]
     },
     "execution_count": 24,
     "metadata": {},
     "output_type": "execute_result"
    }
   ],
   "source": [
    "2**0.5"
   ]
  },
  {
   "cell_type": "code",
   "execution_count": 25,
   "id": "c41c8b43-d638-418a-a134-7bde6154372c",
   "metadata": {},
   "outputs": [
    {
     "data": {
      "text/plain": [
       "10.0"
      ]
     },
     "execution_count": 25,
     "metadata": {},
     "output_type": "execute_result"
    }
   ],
   "source": [
    "100**0.5"
   ]
  },
  {
   "cell_type": "markdown",
   "id": "17aeedbf-0053-4897-853c-f442ad776c20",
   "metadata": {},
   "source": [
    "## Examples\n",
    "\n",
    "The Taylor series of $e^x$ is\n",
    "\n",
    "$$\n",
    "e^x = \\sum_{k = 0}^{\\infty} \\frac{x^k}{k!}\n",
    "$$\n",
    "\n",
    "Approximate $e$ by computing the first 5 terms of the series for $x=1$."
   ]
  },
  {
   "cell_type": "code",
   "execution_count": 26,
   "id": "ac689fc2-305f-4c3f-991b-827f8120fffd",
   "metadata": {},
   "outputs": [],
   "source": [
    "e = 1/1 + 1/(1*2) + 1/(1*2*3) + 1/(1*2*3*4) + 1/(1*2*3*4*5)"
   ]
  },
  {
   "cell_type": "code",
   "execution_count": 27,
   "id": "02bac6c5-e753-45a8-b3ab-b31e0e35f1c3",
   "metadata": {},
   "outputs": [
    {
     "data": {
      "text/plain": [
       "1.7166666666666668"
      ]
     },
     "execution_count": 27,
     "metadata": {},
     "output_type": "execute_result"
    }
   ],
   "source": [
    "e"
   ]
  },
  {
   "cell_type": "markdown",
   "id": "3e7b6d63-7c15-48b0-869a-7ffad046140e",
   "metadata": {},
   "source": [
    "The Taylor series of $\\cos(x)$ is\n",
    "\n",
    "$$\n",
    "\\cos(x) = \\sum_{k = 0}^{\\infty} \\frac{(-1)^k x^{2k}}{(2k)!}\n",
    "$$\n",
    "\n",
    "Approximate $\\cos(1)$ by computing the first 5 terms of the series for $x=1$."
   ]
  },
  {
   "cell_type": "code",
   "execution_count": 28,
   "id": "0477d329-a305-49ba-846e-92e2e118fdf5",
   "metadata": {},
   "outputs": [],
   "source": [
    "cos1 = 1 - 1/(1*2) + 1/(1*2*3*4) - 1/(1*2*3*4*5*6) + 1/(1*2*3*4*5*6*7*8)"
   ]
  },
  {
   "cell_type": "code",
   "execution_count": 29,
   "id": "360cb803-75d1-488f-b6a5-9869b366c2e0",
   "metadata": {},
   "outputs": [
    {
     "data": {
      "text/plain": [
       "0.5403025793650793"
      ]
     },
     "execution_count": 29,
     "metadata": {},
     "output_type": "execute_result"
    }
   ],
   "source": [
    "cos1"
   ]
  }
 ],
 "metadata": {
  "kernelspec": {
   "display_name": "Python 3 (ipykernel)",
   "language": "python",
   "name": "python3"
  },
  "language_info": {
   "codemirror_mode": {
    "name": "ipython",
    "version": 3
   },
   "file_extension": ".py",
   "mimetype": "text/x-python",
   "name": "python",
   "nbconvert_exporter": "python",
   "pygments_lexer": "ipython3",
   "version": "3.9.7"
  }
 },
 "nbformat": 4,
 "nbformat_minor": 5
}
