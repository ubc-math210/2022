{
 "cells": [
  {
   "cell_type": "markdown",
   "id": "ca9f4d4d-e832-4009-a689-fae41069aba5",
   "metadata": {},
   "source": [
    "# MATH 210 Introduction to Mathematical Computing\n",
    "\n",
    "## March 9, 2022\n",
    "\n",
    "* Simpsons's rule\n",
    "* Implementation\n",
    "* Error formula"
   ]
  },
  {
   "cell_type": "code",
   "execution_count": 1,
   "id": "775e4660-30a5-4589-85fc-d116c8cad6e4",
   "metadata": {},
   "outputs": [],
   "source": [
    "import numpy as np\n",
    "import matplotlib.pyplot as plt"
   ]
  },
  {
   "cell_type": "markdown",
   "id": "bd5716d1-220b-4684-8372-d83ab81172a6",
   "metadata": {},
   "source": [
    "## Simpson's Rule\n",
    "\n",
    "Simpson's rule is the result of approximating $f(x)$ with degree 2 Taylor polynomials. We assume that $N$ is even. The formula is\n",
    "\n",
    "$$\n",
    "\\sum_{n=1}^{N/2} \\frac{f(x_{2n}) + 4 f(x_{2n-1}) + f(x_{2n-2})}{3} (x_n - x_{n-1})\n",
    "$$"
   ]
  },
  {
   "cell_type": "markdown",
   "id": "18bc1ddc-5c80-41d5-a304-8bf2a350ab22",
   "metadata": {},
   "source": [
    "Write a function called `simpsons` which takes `f`, `a`, `b` and `N` (assume $N$ is even) and returns Simpson's rule approximation."
   ]
  },
  {
   "cell_type": "code",
   "execution_count": 2,
   "id": "d8eeb0e7-14ce-4d17-93ea-1d214e8a8aa0",
   "metadata": {},
   "outputs": [],
   "source": [
    "def simpsons(f,a,b,N):\n",
    "    x = np.linspace(a,b,N+1)\n",
    "    y = f(x)\n",
    "    terms = y[2::2] + 4*y[1::2] + y[:-1:2]\n",
    "    return np.sum(terms)/3*(b - a)/N"
   ]
  },
  {
   "cell_type": "markdown",
   "id": "8f91bb2c-8ae7-4715-ba15-146da40b5fd1",
   "metadata": {},
   "source": [
    "Verify our function on an example where we know the exact answer:\n",
    "\n",
    "$$\n",
    "\\int_0^{\\pi/4} \\sin^2(x) \\, dx = \\frac{\\pi}{4}\n",
    "$$"
   ]
  },
  {
   "cell_type": "code",
   "execution_count": 27,
   "id": "937809e6-ca0c-40cb-9723-79d756995bb2",
   "metadata": {},
   "outputs": [
    {
     "data": {
      "text/plain": [
       "0.7853981633974483"
      ]
     },
     "execution_count": 27,
     "metadata": {},
     "output_type": "execute_result"
    }
   ],
   "source": [
    "f = lambda x: np.sin(x)**2\n",
    "a = 0; b = np.pi/2; N = 4\n",
    "simpsons(f,a,b,N)"
   ]
  },
  {
   "cell_type": "code",
   "execution_count": 28,
   "id": "3960a19b-e2d6-499e-8151-10af6d784c9e",
   "metadata": {},
   "outputs": [
    {
     "data": {
      "text/plain": [
       "0.7853981633974483"
      ]
     },
     "execution_count": 28,
     "metadata": {},
     "output_type": "execute_result"
    }
   ],
   "source": [
    "np.pi/4"
   ]
  },
  {
   "cell_type": "markdown",
   "id": "b4ac8916-ad6d-4286-a983-f985185b4bf9",
   "metadata": {},
   "source": [
    "Note that we select slices of vectors consisting of every second entry by the syntax:"
   ]
  },
  {
   "cell_type": "code",
   "execution_count": 5,
   "id": "3408fd00-2833-4d14-89c8-232a1c52fee2",
   "metadata": {},
   "outputs": [
    {
     "data": {
      "text/plain": [
       "array([0. , 0.1, 0.2, 0.3, 0.4, 0.5, 0.6, 0.7, 0.8, 0.9, 1. ])"
      ]
     },
     "execution_count": 5,
     "metadata": {},
     "output_type": "execute_result"
    }
   ],
   "source": [
    "v = np.linspace(0,1,11)\n",
    "v"
   ]
  },
  {
   "cell_type": "code",
   "execution_count": 6,
   "id": "ff12865f-f75b-41aa-8d9a-378ef994ac82",
   "metadata": {},
   "outputs": [
    {
     "data": {
      "text/plain": [
       "array([0.2, 0.4, 0.6, 0.8, 1. ])"
      ]
     },
     "execution_count": 6,
     "metadata": {},
     "output_type": "execute_result"
    }
   ],
   "source": [
    "v[2::2]"
   ]
  },
  {
   "cell_type": "code",
   "execution_count": 7,
   "id": "b14abed2-a8ed-409c-903f-781a706ade78",
   "metadata": {},
   "outputs": [
    {
     "data": {
      "text/plain": [
       "array([0.1, 0.3, 0.5, 0.7, 0.9])"
      ]
     },
     "execution_count": 7,
     "metadata": {},
     "output_type": "execute_result"
    }
   ],
   "source": [
    "v[1::2]"
   ]
  },
  {
   "cell_type": "code",
   "execution_count": 8,
   "id": "e3642544-76bc-43d8-9873-d6af9190067d",
   "metadata": {},
   "outputs": [
    {
     "data": {
      "text/plain": [
       "array([0. , 0.2, 0.4, 0.6, 0.8])"
      ]
     },
     "execution_count": 8,
     "metadata": {},
     "output_type": "execute_result"
    }
   ],
   "source": [
    "v[:-1:2]"
   ]
  },
  {
   "cell_type": "markdown",
   "id": "c36018eb-4147-4c48-b297-0e21d73f1bea",
   "metadata": {},
   "source": [
    "## Error formula\n",
    "\n",
    "Introduce notation for Simpson's rule on $N$ equal subintervals\n",
    "\n",
    "$$\n",
    "S_N(f) = \\frac{b-a}{3N} \\sum_{n=1}^{N/2} (f(x_{2n}) + 4 f(x_{2n-1}) + f(x_{2n-2}))\n",
    "$$"
   ]
  },
  {
   "cell_type": "markdown",
   "id": "fa8212c6-8467-4ae4-ad95-00933c2890a3",
   "metadata": {},
   "source": [
    "A bound on the error is given by\n",
    "\n",
    "$$\n",
    "E_N^S(f) = \\left| \\int_a^b f(x) dx - S_N(f) \\right| \\leq \\frac{(b-a)^5}{180N^4}K_4\n",
    "$$\n",
    "\n",
    "where $|f''''(x)| \\leq K_4$ for all $x \\in [a,b]$."
   ]
  },
  {
   "cell_type": "markdown",
   "id": "144046f2-60b2-48e9-83ca-791ad05c50ad",
   "metadata": {},
   "source": [
    "What can we say about $E_N^S(f)$ if $f(x)$ is a degree 3 polynomial? If $f(x) = c_0 + c_1 x + c_2 x^2 + c_3 x^3$ then $f''''(x) = 0$ therefore $E_N^S(f) = 0$. In other words, Simpson's rule is exact for any degree 3 polynomial and any $N$."
   ]
  },
  {
   "cell_type": "markdown",
   "id": "fbfe9e7c-b2b8-47d2-85be-4c9091a38a92",
   "metadata": {},
   "source": [
    "## NumPy and SciPy functions\n",
    "\n",
    "There are NumPy ans SciPy functions to implement numerical integration."
   ]
  },
  {
   "cell_type": "code",
   "execution_count": 34,
   "id": "6fa01e1a-8078-40ac-8013-bd7e12c38b62",
   "metadata": {},
   "outputs": [
    {
     "data": {
      "text/plain": [
       "0.7462107961317493"
      ]
     },
     "execution_count": 34,
     "metadata": {},
     "output_type": "execute_result"
    }
   ],
   "source": [
    "f = lambda x: np.exp(-x**2)\n",
    "a = 0; b = 1; N = 10\n",
    "x = np.linspace(a,b,N+1)\n",
    "y = f(x)\n",
    "np.trapz(y,x)"
   ]
  },
  {
   "cell_type": "code",
   "execution_count": 35,
   "id": "c91d47df-ce4a-45ab-8ad5-ce92189a1e2a",
   "metadata": {},
   "outputs": [],
   "source": [
    "import scipy.integrate as spi"
   ]
  },
  {
   "cell_type": "code",
   "execution_count": 36,
   "id": "33c96680-a3b4-446c-b6c1-84a06f9af601",
   "metadata": {},
   "outputs": [
    {
     "data": {
      "text/plain": [
       "0.7468553797909873"
      ]
     },
     "execution_count": 36,
     "metadata": {},
     "output_type": "execute_result"
    }
   ],
   "source": [
    "f = lambda x: np.exp(-x**2)\n",
    "a = 0; b = 1; N = 4\n",
    "x = np.linspace(a,b,N+1)\n",
    "y = f(x)\n",
    "spi.simpson(y,x)"
   ]
  }
 ],
 "metadata": {
  "kernelspec": {
   "display_name": "Python 3 (ipykernel)",
   "language": "python",
   "name": "python3"
  },
  "language_info": {
   "codemirror_mode": {
    "name": "ipython",
    "version": 3
   },
   "file_extension": ".py",
   "mimetype": "text/x-python",
   "name": "python",
   "nbconvert_exporter": "python",
   "pygments_lexer": "ipython3",
   "version": "3.9.7"
  }
 },
 "nbformat": 4,
 "nbformat_minor": 5
}
