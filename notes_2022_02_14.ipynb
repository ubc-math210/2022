{
 "cells": [
  {
   "cell_type": "markdown",
   "id": "384fb477-8dc9-4253-8b90-7c52d47ab16a",
   "metadata": {},
   "source": [
    "# MATH 210 Introduction to Mathematical Computing\n",
    "\n",
    "## February 14, 2022\n",
    "\n",
    "* NumPy\n",
    "* Matplotlib"
   ]
  },
  {
   "cell_type": "markdown",
   "id": "1332e4a1-f7b5-40d9-9b4d-c8501482d0c7",
   "metadata": {},
   "source": [
    "## Packages\n",
    "\n",
    "A Python package is a collection of Python code in external files that we import as needed. For example, there is no vector or matrix object in Python. We import NumPy to work with arrays of numbers."
   ]
  },
  {
   "cell_type": "code",
   "execution_count": 1,
   "id": "276d1efe-7805-4398-97a4-d8820c8f97ce",
   "metadata": {},
   "outputs": [],
   "source": [
    "import numpy as np"
   ]
  },
  {
   "cell_type": "markdown",
   "id": "27961e92-1509-4860-a532-728019b082a3",
   "metadata": {},
   "source": [
    "The main array object in NumPy is the `ndarray`:"
   ]
  },
  {
   "cell_type": "code",
   "execution_count": 2,
   "id": "2a3d682d-d387-4623-a22a-11794d2c5250",
   "metadata": {},
   "outputs": [],
   "source": [
    "x = np.array([-1,0,1])"
   ]
  },
  {
   "cell_type": "code",
   "execution_count": 3,
   "id": "c8527b88-816f-4bbf-b923-8bb43d8883cf",
   "metadata": {},
   "outputs": [
    {
     "data": {
      "text/plain": [
       "numpy.ndarray"
      ]
     },
     "execution_count": 3,
     "metadata": {},
     "output_type": "execute_result"
    }
   ],
   "source": [
    "type(x)"
   ]
  },
  {
   "cell_type": "code",
   "execution_count": 4,
   "id": "5cd5d3ef-1b64-4d98-b47c-e6851be0d37b",
   "metadata": {},
   "outputs": [
    {
     "data": {
      "text/plain": [
       "array([-1,  0,  1])"
      ]
     },
     "execution_count": 4,
     "metadata": {},
     "output_type": "execute_result"
    }
   ],
   "source": [
    "x"
   ]
  },
  {
   "cell_type": "markdown",
   "id": "dc87772e-534c-4e3d-b0a8-54cd34013941",
   "metadata": {},
   "source": [
    "NumPy arrays behave like vectors and matrices:"
   ]
  },
  {
   "cell_type": "code",
   "execution_count": 5,
   "id": "cd8ef383-0c75-43e7-811b-ca115792edd4",
   "metadata": {},
   "outputs": [],
   "source": [
    "y = np.array([4,2,-1])"
   ]
  },
  {
   "cell_type": "code",
   "execution_count": 6,
   "id": "04c3c2ee-2f57-4094-bcea-978f3a1d1c6c",
   "metadata": {},
   "outputs": [
    {
     "data": {
      "text/plain": [
       "array([3, 2, 0])"
      ]
     },
     "execution_count": 6,
     "metadata": {},
     "output_type": "execute_result"
    }
   ],
   "source": [
    "x + y"
   ]
  },
  {
   "cell_type": "markdown",
   "id": "3edbeeca-38df-4fce-a6e8-04a521afc0e4",
   "metadata": {},
   "source": [
    "Python lists don't behave like vectors. For example, adding Python lists results in concatenation:"
   ]
  },
  {
   "cell_type": "code",
   "execution_count": 7,
   "id": "c809c84f-2d53-4f3e-bf60-ec238184c976",
   "metadata": {},
   "outputs": [
    {
     "data": {
      "text/plain": [
       "[-1, 0, 1, 4, 2, -1]"
      ]
     },
     "execution_count": 7,
     "metadata": {},
     "output_type": "execute_result"
    }
   ],
   "source": [
    "list1 = [-1,0,1]\n",
    "list2 = [4,2,-1]\n",
    "list1 + list2"
   ]
  },
  {
   "cell_type": "markdown",
   "id": "8a41a53e-81d5-4758-b537-f9df7f70a141",
   "metadata": {},
   "source": [
    "## NumPy arrays\n",
    "\n",
    "There are several functions for creating NumPy arrays.\n",
    "\n",
    "* `np.array(list)` creates a NumPy array from `list`\n",
    "* `np.linspace(a,b,N)` creates the NumPy array of `N` values from `a` to `b`\n",
    "* `np.arange(a,b,step)` creates the NumPy array of values from `a` to `b` (exclusively) with step size `step`"
   ]
  },
  {
   "cell_type": "code",
   "execution_count": 8,
   "id": "13f3ff58-6937-40e7-b38a-ffe406aa6fd3",
   "metadata": {},
   "outputs": [
    {
     "data": {
      "text/plain": [
       "array([ 1, -2,  4])"
      ]
     },
     "execution_count": 8,
     "metadata": {},
     "output_type": "execute_result"
    }
   ],
   "source": [
    "np.array([1,-2,4])"
   ]
  },
  {
   "cell_type": "code",
   "execution_count": 9,
   "id": "e9e3853e-598e-4bb1-bbd9-df3db80340ae",
   "metadata": {},
   "outputs": [
    {
     "data": {
      "text/plain": [
       "array([0. , 0.1, 0.2, 0.3, 0.4, 0.5, 0.6, 0.7, 0.8, 0.9, 1. ])"
      ]
     },
     "execution_count": 9,
     "metadata": {},
     "output_type": "execute_result"
    }
   ],
   "source": [
    "np.linspace(0,1,11)"
   ]
  },
  {
   "cell_type": "code",
   "execution_count": 10,
   "id": "51a11fa2-6ed8-4997-b301-78c7490db535",
   "metadata": {},
   "outputs": [
    {
     "data": {
      "text/plain": [
       "array([0. , 0.1, 0.2, 0.3, 0.4, 0.5, 0.6, 0.7, 0.8, 0.9])"
      ]
     },
     "execution_count": 10,
     "metadata": {},
     "output_type": "execute_result"
    }
   ],
   "source": [
    "np.arange(0,1,0.1)"
   ]
  },
  {
   "cell_type": "code",
   "execution_count": 11,
   "id": "0ac53906-26b5-44ca-aa5c-80c62fe235d8",
   "metadata": {},
   "outputs": [
    {
     "data": {
      "text/plain": [
       "array([0. , 0.1, 0.2, 0.3, 0.4, 0.5, 0.6, 0.7, 0.8, 0.9, 1. ])"
      ]
     },
     "execution_count": 11,
     "metadata": {},
     "output_type": "execute_result"
    }
   ],
   "source": [
    "np.arange(0,1.1,0.1)"
   ]
  },
  {
   "cell_type": "markdown",
   "id": "09eb7809-be7e-4b2a-afd8-ce128adfd87b",
   "metadata": {},
   "source": [
    "## Array Operations\n",
    "\n",
    "Arithmetic operations `+`, `-`, `*`, `/`, `**` operate elementwise."
   ]
  },
  {
   "cell_type": "code",
   "execution_count": 12,
   "id": "b599df47-a8af-4ffa-a899-62eeabc60f33",
   "metadata": {},
   "outputs": [],
   "source": [
    "x = np.array([5.0,-1.0,2.0])\n",
    "y = np.array([2.0,-4.0,-1.0])"
   ]
  },
  {
   "cell_type": "code",
   "execution_count": 13,
   "id": "646ccdc8-c12c-4d6d-98d4-e000ced44542",
   "metadata": {},
   "outputs": [
    {
     "data": {
      "text/plain": [
       "array([ 7., -5.,  1.])"
      ]
     },
     "execution_count": 13,
     "metadata": {},
     "output_type": "execute_result"
    }
   ],
   "source": [
    "x + y"
   ]
  },
  {
   "cell_type": "code",
   "execution_count": 14,
   "id": "34ba9767-7b8a-4b2a-a274-986729cb65ab",
   "metadata": {},
   "outputs": [
    {
     "data": {
      "text/plain": [
       "array([3., 3., 3.])"
      ]
     },
     "execution_count": 14,
     "metadata": {},
     "output_type": "execute_result"
    }
   ],
   "source": [
    "x - y"
   ]
  },
  {
   "cell_type": "code",
   "execution_count": 15,
   "id": "8af5a610-62b2-467b-8d8d-5353b58e80d5",
   "metadata": {},
   "outputs": [
    {
     "data": {
      "text/plain": [
       "array([10.,  4., -2.])"
      ]
     },
     "execution_count": 15,
     "metadata": {},
     "output_type": "execute_result"
    }
   ],
   "source": [
    "x*y"
   ]
  },
  {
   "cell_type": "code",
   "execution_count": 16,
   "id": "c6f04ed9-25d4-4c0d-9427-908646713883",
   "metadata": {},
   "outputs": [
    {
     "data": {
      "text/plain": [
       "array([ 2.5 ,  0.25, -2.  ])"
      ]
     },
     "execution_count": 16,
     "metadata": {},
     "output_type": "execute_result"
    }
   ],
   "source": [
    "x/y"
   ]
  },
  {
   "cell_type": "code",
   "execution_count": 17,
   "id": "e77e0036-c4f3-4aba-bfe4-87a49a10e37c",
   "metadata": {},
   "outputs": [
    {
     "data": {
      "text/plain": [
       "array([25. ,  1. ,  0.5])"
      ]
     },
     "execution_count": 17,
     "metadata": {},
     "output_type": "execute_result"
    }
   ],
   "source": [
    "x**y"
   ]
  },
  {
   "cell_type": "markdown",
   "id": "f2112469-c5f2-417e-9b1b-a5d6dd9eb064",
   "metadata": {},
   "source": [
    "## Mathematical Functions\n",
    "\n",
    "NumPy gives us all the usual math functions."
   ]
  },
  {
   "cell_type": "code",
   "execution_count": 18,
   "id": "15c1a4e7-f09b-4609-9635-67c4e2fd08b3",
   "metadata": {},
   "outputs": [
    {
     "data": {
      "text/plain": [
       "2.718281828459045"
      ]
     },
     "execution_count": 18,
     "metadata": {},
     "output_type": "execute_result"
    }
   ],
   "source": [
    "np.exp(1)"
   ]
  },
  {
   "cell_type": "code",
   "execution_count": 19,
   "id": "2f911569-2387-43d6-9dd9-aada1efa6512",
   "metadata": {},
   "outputs": [
    {
     "data": {
      "text/plain": [
       "0.7071067811865476"
      ]
     },
     "execution_count": 19,
     "metadata": {},
     "output_type": "execute_result"
    }
   ],
   "source": [
    "np.cos(np.pi/4)"
   ]
  },
  {
   "cell_type": "code",
   "execution_count": 20,
   "id": "b9767c9b-5ccf-46dc-8a10-1cfb21ce9d3f",
   "metadata": {},
   "outputs": [
    {
     "data": {
      "text/plain": [
       "0.7071067811865475"
      ]
     },
     "execution_count": 20,
     "metadata": {},
     "output_type": "execute_result"
    }
   ],
   "source": [
    "1/np.sqrt(2)"
   ]
  },
  {
   "cell_type": "code",
   "execution_count": 21,
   "id": "e870ddef-aa53-4e55-a968-20c87be5d7b2",
   "metadata": {},
   "outputs": [
    {
     "data": {
      "text/plain": [
       "0.7853981633974483"
      ]
     },
     "execution_count": 21,
     "metadata": {},
     "output_type": "execute_result"
    }
   ],
   "source": [
    "np.arctan(1)"
   ]
  },
  {
   "cell_type": "code",
   "execution_count": 22,
   "id": "a475b675-46bd-4c17-bc90-29d5f58f8583",
   "metadata": {},
   "outputs": [
    {
     "data": {
      "text/plain": [
       "0.7853981633974483"
      ]
     },
     "execution_count": 22,
     "metadata": {},
     "output_type": "execute_result"
    }
   ],
   "source": [
    "np.pi/4"
   ]
  },
  {
   "cell_type": "code",
   "execution_count": 23,
   "id": "240ebce3-207a-42ac-88a2-8c02779faaa2",
   "metadata": {},
   "outputs": [
    {
     "data": {
      "text/plain": [
       "0.6931471805599453"
      ]
     },
     "execution_count": 23,
     "metadata": {},
     "output_type": "execute_result"
    }
   ],
   "source": [
    "np.log(2)"
   ]
  },
  {
   "cell_type": "markdown",
   "id": "0f6ed82e-f89d-4a14-8bcc-a4340e6e6db3",
   "metadata": {},
   "source": [
    "## Plotting with Matplotlib\n",
    "\n",
    "Matplotlib is the main plotting package in Python. Import the subpackage `pyplot`:"
   ]
  },
  {
   "cell_type": "code",
   "execution_count": 24,
   "id": "b9b9ccb1-4757-453b-90f0-9a508c454b38",
   "metadata": {},
   "outputs": [],
   "source": [
    "import matplotlib.pyplot as plt"
   ]
  },
  {
   "cell_type": "markdown",
   "id": "63f29be7-1335-4807-98bc-70533b4b3b05",
   "metadata": {},
   "source": [
    "The basic setup for plotting a function is:"
   ]
  },
  {
   "cell_type": "code",
   "execution_count": 25,
   "id": "0f69bb5e-e23e-4a32-aea8-77809eea8588",
   "metadata": {},
   "outputs": [
    {
     "data": {
      "image/png": "[encoded data removed]",
      "text/plain": [
       "<Figure size 432x288 with 1 Axes>"
      ]
     },
     "metadata": {
      "needs_background": "light"
     },
     "output_type": "display_data"
    }
   ],
   "source": [
    "x = np.linspace(0,5,100)\n",
    "y = np.cos(np.pi*x) + np.sin(2*np.pi*x)\n",
    "plt.plot(x,y,'.-')\n",
    "plt.grid(True), plt.xlim([0,5]), plt.title(\"Our super cool plot!\")\n",
    "plt.show()"
   ]
  }
 ],
 "metadata": {
  "kernelspec": {
   "display_name": "Python 3 (ipykernel)",
   "language": "python",
   "name": "python3"
  },
  "language_info": {
   "codemirror_mode": {
    "name": "ipython",
    "version": 3
   },
   "file_extension": ".py",
   "mimetype": "text/x-python",
   "name": "python",
   "nbconvert_exporter": "python",
   "pygments_lexer": "ipython3",
   "version": "3.9.7"
  }
 },
 "nbformat": 4,
 "nbformat_minor": 5
}
