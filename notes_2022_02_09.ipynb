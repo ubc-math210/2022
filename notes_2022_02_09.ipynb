{
 "cells": [
  {
   "cell_type": "markdown",
   "id": "adb999f9-0b9f-46a3-81e6-de2ba2a28da7",
   "metadata": {},
   "source": [
    "# MATH 210 Introduction to Mathematical Computing\n",
    "\n",
    "## February 9, 2022\n",
    "\n",
    "* Newton's method\n",
    "* Examples"
   ]
  },
  {
   "cell_type": "markdown",
   "id": "831cebbf-4ecd-4232-aca2-0a1eb89c80c5",
   "metadata": {},
   "source": [
    "## Newton's Method\n",
    "\n",
    "Let $f(x)$ be a differentiable function. The linear approximation of $f(x)$ at $x=a$ is\n",
    "\n",
    "$$\n",
    "y = f(a) + f'(a)(x - a)\n",
    "$$\n",
    "\n",
    "This is the same as the Taylor polynomial of degree 1.\n",
    "\n",
    "Idea: Use the linear approximation of $f(x)$ near a root to approximate the root. In other words, find the $x$-intercept of\n",
    "\n",
    "$$\n",
    "0 = f(a) + f'(a)(x - a)\n",
    "\\Rightarrow\n",
    "x = a - \\frac{f(a)}{f'(a)}\n",
    "$$"
   ]
  },
  {
   "cell_type": "markdown",
   "id": "6976d94b-720b-40cc-9925-4018538bdd14",
   "metadata": {},
   "source": [
    "This defines a recursive sequence which (hopefully) converges to a solution of $f(x)=0$:\n",
    "\n",
    "$$\n",
    "x_{n+1} = x_n - \\frac{f(x_n)}{f'(x_n)}\n",
    "$$"
   ]
  },
  {
   "cell_type": "markdown",
   "id": "f1a5d5bd-708b-4871-99e9-4a1284952a8b",
   "metadata": {},
   "source": [
    "## Implementation\n",
    "\n",
    "Write a function called `newton` which takes input parameters `f`, `Df`, `x0`, and `N`, and returns the value $x_N$ after $N$ iterations of Newton's method."
   ]
  },
  {
   "cell_type": "code",
   "execution_count": 1,
   "id": "fcf4cbcd-7a3e-4c5b-b84e-520ebd09ded6",
   "metadata": {},
   "outputs": [],
   "source": [
    "def newton(f,Df,x0,N):\n",
    "    xn = x0\n",
    "    for n in range(1,N+1):\n",
    "        xn = xn - f(xn)/Df(xn)\n",
    "        print(\"n =\",n,\", xn =\",xn)\n",
    "    return xn"
   ]
  },
  {
   "cell_type": "code",
   "execution_count": 2,
   "id": "e67b3a3f-ba17-4643-b49b-5e0b901cf457",
   "metadata": {},
   "outputs": [
    {
     "name": "stdout",
     "output_type": "stream",
     "text": [
      "n = 1 , xn = 1.5\n",
      "n = 2 , xn = 1.4166666666666667\n",
      "n = 3 , xn = 1.4142156862745099\n",
      "n = 4 , xn = 1.4142135623746899\n",
      "n = 5 , xn = 1.4142135623730951\n"
     ]
    },
    {
     "data": {
      "text/plain": [
       "1.4142135623730951"
      ]
     },
     "execution_count": 2,
     "metadata": {},
     "output_type": "execute_result"
    }
   ],
   "source": [
    "f = lambda x: x**2 - 2\n",
    "Df = lambda x: 2*x\n",
    "x0 = 2\n",
    "N = 5\n",
    "newton(f,Df,x0,N)"
   ]
  },
  {
   "cell_type": "markdown",
   "id": "5d9ffd80-3fe2-413f-acdd-1839b1dbc74d",
   "metadata": {},
   "source": [
    "## Questions\n",
    "\n",
    "Does Newton's method always converge? No!\n",
    "\n",
    "Give an example of a nonconstant differentiable function $f(x)$ such that $f(x)=0$ has a solution but Newton's method does not converge: $f(x) = x - x^2$ and $x_0 = 1/2$ because $f'(x_0) = 0$.\n",
    "\n",
    "Give an example of a function $f(x)$ such that $f(x)=0$ has a solution and $f'(x) \\ne 0$ but Newton's method does not converge: $f(x) = x^{1/3}$ because there is a vertical asymptote at $x=0$. To illustrate this example, we need to write\n",
    "\n",
    "$$\n",
    "x^{1/3} = \\text{sign}(x) |x|^{1/3}\n",
    "$$\n",
    "\n",
    "where $\\text{sign}(x) = |x|/x$ if $x\\ne 0$ and $\\text{sign}(x) = 0$ if $x=0$. Otherwise Python gives us complex numbers when computing $x^{1/3}$. Note that $f(x)$ is not differentiable at $x=0$."
   ]
  },
  {
   "cell_type": "code",
   "execution_count": 3,
   "id": "d668fc07-2957-4152-a629-12825ae23c2b",
   "metadata": {},
   "outputs": [
    {
     "name": "stdout",
     "output_type": "stream",
     "text": [
      "n = 1 , xn = -2.0\n",
      "n = 2 , xn = 4.0\n",
      "n = 3 , xn = -7.999999999999998\n",
      "n = 4 , xn = 15.999999999999998\n",
      "n = 5 , xn = -31.999999999999986\n",
      "n = 6 , xn = 63.99999999999994\n",
      "n = 7 , xn = -127.99999999999989\n",
      "n = 8 , xn = 255.99999999999972\n",
      "n = 9 , xn = -511.99999999999926\n",
      "n = 10 , xn = 1023.9999999999982\n"
     ]
    },
    {
     "data": {
      "text/plain": [
       "1023.9999999999982"
      ]
     },
     "execution_count": 3,
     "metadata": {},
     "output_type": "execute_result"
    }
   ],
   "source": [
    "sign = lambda x: abs(x)/x if x !=0 else 0\n",
    "f = lambda x: sign(x)*abs(x)**(1/3)\n",
    "Df = lambda x: 1/3*abs(x)**(-2/3)\n",
    "x0 = 1\n",
    "N = 10\n",
    "newton(f,Df,x0,N)"
   ]
  }
 ],
 "metadata": {
  "kernelspec": {
   "display_name": "Python 3 (ipykernel)",
   "language": "python",
   "name": "python3"
  },
  "language_info": {
   "codemirror_mode": {
    "name": "ipython",
    "version": 3
   },
   "file_extension": ".py",
   "mimetype": "text/x-python",
   "name": "python",
   "nbconvert_exporter": "python",
   "pygments_lexer": "ipython3",
   "version": "3.9.7"
  }
 },
 "nbformat": 4,
 "nbformat_minor": 5
}
