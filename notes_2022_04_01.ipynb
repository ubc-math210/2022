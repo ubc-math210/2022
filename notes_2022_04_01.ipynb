{
 "cells": [
  {
   "cell_type": "markdown",
   "id": "83a2b1a6-0323-44e8-8f52-fdc947d90c98",
   "metadata": {},
   "source": [
    "# MATH 210 Introduction to Mathematical Computing\n",
    "\n",
    "## April 1, 2022\n",
    "\n",
    "* Review of matrices\n",
    "* `scipy.linalg`\n",
    "* Polynomial interpolation"
   ]
  },
  {
   "cell_type": "code",
   "execution_count": 1,
   "id": "6c4bc2b5-0632-4e04-a068-67cc06911932",
   "metadata": {},
   "outputs": [],
   "source": [
    "import numpy as np\n",
    "import matplotlib.pyplot as plt"
   ]
  },
  {
   "cell_type": "markdown",
   "id": "68ecffaa-76b8-43c1-abad-d2a033bfddf0",
   "metadata": {},
   "source": [
    "## Review of matrices\n",
    "\n",
    "Create a matrix as a 2D NumPy array:"
   ]
  },
  {
   "cell_type": "code",
   "execution_count": 2,
   "id": "c7951f9e-adbf-42be-950f-766ede7c8811",
   "metadata": {},
   "outputs": [
    {
     "data": {
      "text/plain": [
       "array([[1., 2.],\n",
       "       [3., 4.],\n",
       "       [5., 6.]])"
      ]
     },
     "execution_count": 2,
     "metadata": {},
     "output_type": "execute_result"
    }
   ],
   "source": [
    "A = np.array([[1.,2.],[3.,4.],[5.,6.]])\n",
    "A"
   ]
  },
  {
   "cell_type": "markdown",
   "id": "5173c4f0-b300-4b46-86dc-99a8c5f98101",
   "metadata": {},
   "source": [
    "Check the number of dimensions of $A$ and the shape:"
   ]
  },
  {
   "cell_type": "code",
   "execution_count": 3,
   "id": "bc44fb29-6f47-4965-95e4-741c04e61341",
   "metadata": {},
   "outputs": [
    {
     "data": {
      "text/plain": [
       "2"
      ]
     },
     "execution_count": 3,
     "metadata": {},
     "output_type": "execute_result"
    }
   ],
   "source": [
    "A.ndim"
   ]
  },
  {
   "cell_type": "code",
   "execution_count": 4,
   "id": "49e7efe2-c350-49c9-b95a-ef7312010b4b",
   "metadata": {},
   "outputs": [
    {
     "data": {
      "text/plain": [
       "(3, 2)"
      ]
     },
     "execution_count": 4,
     "metadata": {},
     "output_type": "execute_result"
    }
   ],
   "source": [
    "A.shape"
   ]
  },
  {
   "cell_type": "markdown",
   "id": "17088211-9db7-404a-9da7-27f5e407e706",
   "metadata": {},
   "source": [
    "This means that $A$ is a 2-dimensional NumPy array with 3 rows and 2 columns."
   ]
  },
  {
   "cell_type": "markdown",
   "id": "017b2b56-606b-4dd9-8e1d-1d736db756c7",
   "metadata": {},
   "source": [
    "Select a row from a matrix:"
   ]
  },
  {
   "cell_type": "code",
   "execution_count": 5,
   "id": "dd56eff4-8252-4afb-b89e-bb9baf371edb",
   "metadata": {},
   "outputs": [
    {
     "data": {
      "text/plain": [
       "array([1., 2.])"
      ]
     },
     "execution_count": 5,
     "metadata": {},
     "output_type": "execute_result"
    }
   ],
   "source": [
    "r0 = A[0,:]\n",
    "r0"
   ]
  },
  {
   "cell_type": "markdown",
   "id": "7de34577-6a25-4e87-99de-38843e3080fa",
   "metadata": {},
   "source": [
    "Check the number of dimensions of $\\mathbf{r}_0$ and the shape:"
   ]
  },
  {
   "cell_type": "code",
   "execution_count": 6,
   "id": "3e8e197a-619f-4dd8-9596-7ca64b63f457",
   "metadata": {},
   "outputs": [
    {
     "data": {
      "text/plain": [
       "1"
      ]
     },
     "execution_count": 6,
     "metadata": {},
     "output_type": "execute_result"
    }
   ],
   "source": [
    "r0.ndim"
   ]
  },
  {
   "cell_type": "code",
   "execution_count": 7,
   "id": "9340403e-b45b-48ed-8584-0dcc4511bf77",
   "metadata": {},
   "outputs": [
    {
     "data": {
      "text/plain": [
       "(2,)"
      ]
     },
     "execution_count": 7,
     "metadata": {},
     "output_type": "execute_result"
    }
   ],
   "source": [
    "r0.shape"
   ]
  },
  {
   "cell_type": "markdown",
   "id": "afeaf8e1-f0f0-41d9-b6e6-a0bc5a072766",
   "metadata": {},
   "source": [
    "This means that $\\mathbf{r}_0$ is a 1-dimensional array with 2 entries."
   ]
  },
  {
   "cell_type": "markdown",
   "id": "9cb86fdc-f5ee-4124-b3c6-4d06ac0e6cc9",
   "metadata": {},
   "source": [
    "Select a column from a matrix:"
   ]
  },
  {
   "cell_type": "code",
   "execution_count": 8,
   "id": "b68df87e-bcd7-49a8-9c6f-8e70979b759d",
   "metadata": {},
   "outputs": [
    {
     "data": {
      "text/plain": [
       "array([2., 4., 6.])"
      ]
     },
     "execution_count": 8,
     "metadata": {},
     "output_type": "execute_result"
    }
   ],
   "source": [
    "c1 = A[:,1]\n",
    "c1"
   ]
  },
  {
   "cell_type": "markdown",
   "id": "e8041835-1dc2-4df0-b912-15aab534a844",
   "metadata": {},
   "source": [
    "Check the number of dimensions of $\\mathbf{c}_1$ and the shape:"
   ]
  },
  {
   "cell_type": "code",
   "execution_count": 9,
   "id": "f5af08b9-f045-4638-967f-df0b0696448c",
   "metadata": {},
   "outputs": [
    {
     "data": {
      "text/plain": [
       "1"
      ]
     },
     "execution_count": 9,
     "metadata": {},
     "output_type": "execute_result"
    }
   ],
   "source": [
    "c1.ndim"
   ]
  },
  {
   "cell_type": "code",
   "execution_count": 10,
   "id": "966f62fd-60d2-414e-aff6-cf3f8b632aec",
   "metadata": {},
   "outputs": [
    {
     "data": {
      "text/plain": [
       "(3,)"
      ]
     },
     "execution_count": 10,
     "metadata": {},
     "output_type": "execute_result"
    }
   ],
   "source": [
    "c1.shape"
   ]
  },
  {
   "cell_type": "markdown",
   "id": "6e724ac2-c9e5-4745-bfc0-aa20021febd3",
   "metadata": {},
   "source": [
    "This means that $\\mathbf{c}_1$ is a 1-dimensional array with 3 entries."
   ]
  },
  {
   "cell_type": "markdown",
   "id": "4acd5423-9172-4ff1-9645-ba1abedeef35",
   "metadata": {},
   "source": [
    "Matrix multiplication is given by the operator `@`:"
   ]
  },
  {
   "cell_type": "code",
   "execution_count": 11,
   "id": "3f21d301-445e-492d-834f-eb84b3a2c882",
   "metadata": {},
   "outputs": [
    {
     "data": {
      "text/plain": [
       "array([[1., 2.],\n",
       "       [3., 4.],\n",
       "       [5., 6.]])"
      ]
     },
     "execution_count": 11,
     "metadata": {},
     "output_type": "execute_result"
    }
   ],
   "source": [
    "A = np.array([[1.,2.],[3.,4.],[5.,6.]])\n",
    "A"
   ]
  },
  {
   "cell_type": "code",
   "execution_count": 12,
   "id": "34b0ab83-3885-4a45-991d-cb57ab41b978",
   "metadata": {},
   "outputs": [
    {
     "data": {
      "text/plain": [
       "array([[ 3., -2.],\n",
       "       [ 1.,  2.]])"
      ]
     },
     "execution_count": 12,
     "metadata": {},
     "output_type": "execute_result"
    }
   ],
   "source": [
    "B = np.array([[3.,-2.],[1.,2.]])\n",
    "B"
   ]
  },
  {
   "cell_type": "code",
   "execution_count": 13,
   "id": "c382d2d9-1d0f-442e-a676-397e6b5fcd58",
   "metadata": {},
   "outputs": [
    {
     "data": {
      "text/plain": [
       "array([[ 5.,  2.],\n",
       "       [13.,  2.],\n",
       "       [21.,  2.]])"
      ]
     },
     "execution_count": 13,
     "metadata": {},
     "output_type": "execute_result"
    }
   ],
   "source": [
    "A@B"
   ]
  },
  {
   "cell_type": "markdown",
   "id": "51560240-0342-4bc0-a753-d09e7ad140b4",
   "metadata": {},
   "source": [
    "## `scipy.linalg`\n",
    "\n",
    "We will use the package `scipy.linalg` for linear algebra functions. The most important function is `scipy.linalg.solve` for solving linear systems."
   ]
  },
  {
   "cell_type": "code",
   "execution_count": 14,
   "id": "dc2bb992-f94b-4789-b14d-5fe03da18355",
   "metadata": {},
   "outputs": [],
   "source": [
    "import scipy.linalg as la"
   ]
  },
  {
   "cell_type": "code",
   "execution_count": 15,
   "id": "5a694c46-e9a4-420d-9519-e9d745d2502e",
   "metadata": {},
   "outputs": [
    {
     "data": {
      "text/plain": [
       "array([[3., 7.],\n",
       "       [2., 8.]])"
      ]
     },
     "execution_count": 15,
     "metadata": {},
     "output_type": "execute_result"
    }
   ],
   "source": [
    "M = np.array([[3.,7.],[2.,8.]])\n",
    "M"
   ]
  },
  {
   "cell_type": "markdown",
   "id": "087a3aa2-2b22-4685-aea7-a8f9aaebce76",
   "metadata": {},
   "source": [
    "Compute the determinant:"
   ]
  },
  {
   "cell_type": "code",
   "execution_count": 16,
   "id": "e67e22b4-0974-4aad-b086-a81a1ca6701b",
   "metadata": {},
   "outputs": [
    {
     "data": {
      "text/plain": [
       "9.999999999999998"
      ]
     },
     "execution_count": 16,
     "metadata": {},
     "output_type": "execute_result"
    }
   ],
   "source": [
    "la.det(M)"
   ]
  },
  {
   "cell_type": "markdown",
   "id": "79db5d34-ac21-4307-9434-c2ee7585f4aa",
   "metadata": {},
   "source": [
    "Compute the inverse:"
   ]
  },
  {
   "cell_type": "code",
   "execution_count": 17,
   "id": "8fec7d3b-11ac-4bd2-addc-9ddc0e226d35",
   "metadata": {},
   "outputs": [
    {
     "data": {
      "text/plain": [
       "array([[ 0.8, -0.7],\n",
       "       [-0.2,  0.3]])"
      ]
     },
     "execution_count": 17,
     "metadata": {},
     "output_type": "execute_result"
    }
   ],
   "source": [
    "Minv = la.inv(M)\n",
    "Minv"
   ]
  },
  {
   "cell_type": "markdown",
   "id": "49eaaa8b-d7af-4d59-b6c7-43be34aee7a1",
   "metadata": {},
   "source": [
    "Verify that $M M^{-1} = I$ is the identity matrix."
   ]
  },
  {
   "cell_type": "code",
   "execution_count": 18,
   "id": "6c424782-fbd8-4bae-819c-11746bc88216",
   "metadata": {},
   "outputs": [
    {
     "data": {
      "text/plain": [
       "array([[1.0000000e+00, 4.4408921e-16],\n",
       "       [0.0000000e+00, 1.0000000e+00]])"
      ]
     },
     "execution_count": 18,
     "metadata": {},
     "output_type": "execute_result"
    }
   ],
   "source": [
    "M@Minv"
   ]
  },
  {
   "cell_type": "markdown",
   "id": "91fc8a4a-9e61-46ee-9f00-4dbbf9f7e0dd",
   "metadata": {},
   "source": [
    "Solve a linear system $A \\mathbf{x} = \\mathbf{b}$ using `la.solve(A,b)`."
   ]
  },
  {
   "cell_type": "code",
   "execution_count": 19,
   "id": "e34f5170-d8e5-4e8a-815e-1ecf7bb1c11b",
   "metadata": {},
   "outputs": [
    {
     "data": {
      "text/plain": [
       "array([[ 2., -1.,  0.],\n",
       "       [-1.,  2., -1.],\n",
       "       [ 0., -1.,  2.]])"
      ]
     },
     "execution_count": 19,
     "metadata": {},
     "output_type": "execute_result"
    }
   ],
   "source": [
    "A = np.array([[2.,-1.,0.],[-1.,2.,-1.],[0.,-1.,2.]])\n",
    "A"
   ]
  },
  {
   "cell_type": "code",
   "execution_count": 20,
   "id": "8ee55537-89da-4722-981c-10e0311895da",
   "metadata": {},
   "outputs": [
    {
     "data": {
      "text/plain": [
       "array([1., 0., 1.])"
      ]
     },
     "execution_count": 20,
     "metadata": {},
     "output_type": "execute_result"
    }
   ],
   "source": [
    "b = np.array([1.,0.,1.])\n",
    "b"
   ]
  },
  {
   "cell_type": "code",
   "execution_count": 21,
   "id": "afbdacd2-defa-49ce-bbae-daf4f17c6e20",
   "metadata": {},
   "outputs": [
    {
     "data": {
      "text/plain": [
       "array([1., 1., 1.])"
      ]
     },
     "execution_count": 21,
     "metadata": {},
     "output_type": "execute_result"
    }
   ],
   "source": [
    "x = la.solve(A,b)\n",
    "x"
   ]
  },
  {
   "cell_type": "markdown",
   "id": "0273d8e1-a826-474e-9ee8-75d5f67ebcd9",
   "metadata": {},
   "source": [
    "Verify $A \\mathbf{x} = \\mathbf{b}$."
   ]
  },
  {
   "cell_type": "code",
   "execution_count": 22,
   "id": "7c0ba6ba-e17e-4c6b-aa84-13b12c2439bd",
   "metadata": {},
   "outputs": [
    {
     "data": {
      "text/plain": [
       "array([1., 0., 1.])"
      ]
     },
     "execution_count": 22,
     "metadata": {},
     "output_type": "execute_result"
    }
   ],
   "source": [
    "A@x"
   ]
  },
  {
   "cell_type": "markdown",
   "id": "a9f2cc52-3a19-4285-82d0-5f3105be337a",
   "metadata": {},
   "source": [
    "## Examples\n",
    "\n",
    "Solve $A\\mathbf{x} = \\mathbf{b}$ for different $\\mathbf{b}$ vectors where the matrix $A$ is given by\n",
    "$$\n",
    "A = \n",
    "\\begin{bmatrix}\n",
    " 2 & -1 &    &   & & \\\\\n",
    "-1 &  2 & -1 &   & & \\\\\n",
    "   & -1 &  2 & -1 & &  \\\\\n",
    "   &    &    & \\ddots & & \\\\\n",
    "   &    & &  -1 & 2 &  -1 \\\\\n",
    "   &    & &    & -1 &  2\n",
    "\\end{bmatrix}\n",
    "$$"
   ]
  },
  {
   "cell_type": "code",
   "execution_count": 23,
   "id": "772da276-2215-4255-a310-b483069a33e1",
   "metadata": {},
   "outputs": [
    {
     "data": {
      "text/plain": [
       "array([[ 2., -1.,  0.,  0.,  0.],\n",
       "       [-1.,  2., -1.,  0.,  0.],\n",
       "       [ 0., -1.,  2., -1.,  0.],\n",
       "       [ 0.,  0., -1.,  2., -1.],\n",
       "       [ 0.,  0.,  0., -1.,  2.]])"
      ]
     },
     "execution_count": 23,
     "metadata": {},
     "output_type": "execute_result"
    }
   ],
   "source": [
    "N = 5\n",
    "A = 2*np.eye(N) - np.diag(np.ones(N-1),1) - np.diag(np.ones(N-1),-1)\n",
    "A"
   ]
  },
  {
   "cell_type": "code",
   "execution_count": 24,
   "id": "d6aa3707-8c3a-4f23-9f66-37cb15c28698",
   "metadata": {},
   "outputs": [],
   "source": [
    "b = np.ones(N)"
   ]
  },
  {
   "cell_type": "code",
   "execution_count": 25,
   "id": "9b210689-71ad-472f-9523-a382eab50d7f",
   "metadata": {},
   "outputs": [
    {
     "data": {
      "text/plain": [
       "array([2.5, 4. , 4.5, 4. , 2.5])"
      ]
     },
     "execution_count": 25,
     "metadata": {},
     "output_type": "execute_result"
    }
   ],
   "source": [
    "x = la.solve(A,b)\n",
    "x"
   ]
  },
  {
   "cell_type": "code",
   "execution_count": 26,
   "id": "50fb08f1-93d2-4d22-92d6-8c9851c4d3a6",
   "metadata": {},
   "outputs": [
    {
     "data": {
      "image/png": "[encoded data removed]",
      "text/plain": [
       "<Figure size 432x288 with 2 Axes>"
      ]
     },
     "metadata": {
      "needs_background": "light"
     },
     "output_type": "display_data"
    }
   ],
   "source": [
    "N = 50\n",
    "A = 2*np.eye(N) - np.diag(np.ones(N-1),1) - np.diag(np.ones(N-1),-1)\n",
    "plt.imshow(A,cmap='binary'), plt.colorbar()\n",
    "plt.show()"
   ]
  },
  {
   "cell_type": "code",
   "execution_count": 27,
   "id": "114081b5-1713-408a-bc89-747f314efe41",
   "metadata": {},
   "outputs": [
    {
     "data": {
      "image/png": "[encoded data removed]",
      "text/plain": [
       "<Figure size 432x288 with 1 Axes>"
      ]
     },
     "metadata": {
      "needs_background": "light"
     },
     "output_type": "display_data"
    }
   ],
   "source": [
    "b = np.ones(N)\n",
    "x = la.solve(A,b)\n",
    "plt.bar(range(N),x), plt.grid(True)\n",
    "plt.show()"
   ]
  },
  {
   "cell_type": "markdown",
   "id": "b2059f50-1ec9-4068-bfd3-c5d80e1932c8",
   "metadata": {},
   "source": [
    "## Polynomial interpolation\n",
    "\n",
    "Let $d$ be a positive integer. Consider $d+1$ data points\n",
    "\n",
    "$$\n",
    "(t_0,y_0) \\ , \\ (t_1,y_1) \\ , \\ \\dots \\ , \\ (t_d,y_d)\n",
    "$$\n",
    "\n",
    "such that $t_i \\ne t_j$ ($i \\ne j$). There is a unique polynomial $p(x)$ of degree (at most) $d$\n",
    "\n",
    "$$\n",
    "p(x) = c_0 + c_1 t + c_2 t^2 + \\cdots + c_d t^d\n",
    "$$\n",
    "\n",
    "such that $p(t_n) = y_n$. We say $p(x)$ is an **interpolant** (or interpolating polynomial) for the data.\n",
    "\n",
    "How do we compute the coefficients $c_0,c_1,\\dots,c_d$? Each point gives an equation $p(t_n) = y_n$, $n=0,\\dots,d$:\n",
    "\n",
    "$$\n",
    "\\begin{array}{ccccccccccc}\n",
    "c_0 & + & c_1 t_0 & + & c_2t_0^2 & + & \\cdots & + & c_dt_0^d & = & y_0 \\\\\n",
    "c_0 & + & c_1 t_1 & + & c_2t_1^2 & + & \\cdots & + & c_dt_1^d & = & y_1 \\\\\n",
    "& & \\vdots & & & & & & \\vdots & & \\\\\n",
    "c_0 & + & c_1 t_d & + & c_2t_d^2 & + & \\cdots & + & c_dt_d^d & = & y_d\n",
    "\\end{array}\n",
    "$$\n",
    "\n",
    "In matrix notation, this is $A \\mathbf{c} = \\mathbf{y}$ where\n",
    "\n",
    "$$\n",
    "A = \\begin{bmatrix}\n",
    "1 & t_0 & t_0^2 & \\cdots & t_0^d \\\\\n",
    "1 & t_1 & t_1^2 & \\cdots & t_1^d \\\\\n",
    "\\vdots & \\vdots & \\vdots & \\ddots & \\vdots \\\\\n",
    "1 & t_d & t_d^2 & \\cdots & t_d^d\n",
    "\\end{bmatrix}\n",
    "\\hspace{15mm}\n",
    "\\mathbf{c} = \\begin{bmatrix} c_0 \\\\ c_1 \\\\ \\vdots \\\\ c_d \\end{bmatrix}\n",
    "\\hspace{15mm}\n",
    "\\mathbf{y} = \\begin{bmatrix} y_0 \\\\ y_1 \\\\ \\vdots \\\\ y_d \\end{bmatrix}\n",
    "$$\n",
    "\n",
    "The matrix $A$ is called the **Vandermonde** matrix. Therefore, we compute the coefficients of the interpolating polynomial $p(x)$ by solving the systems of equations $A \\mathbf{c} = \\mathbf{y}$."
   ]
  },
  {
   "cell_type": "code",
   "execution_count": 28,
   "id": "54a6bbeb-7e5b-4000-96d0-af0dfbc9888a",
   "metadata": {},
   "outputs": [
    {
     "data": {
      "text/plain": [
       "array([[  1,   0,   0,   0,   0],\n",
       "       [  1,   1,   1,   1,   1],\n",
       "       [  1,   2,   4,   8,  16],\n",
       "       [  1,   3,   9,  27,  81],\n",
       "       [  1,   4,  16,  64, 256]])"
      ]
     },
     "execution_count": 28,
     "metadata": {},
     "output_type": "execute_result"
    }
   ],
   "source": [
    "np.vander([0,1,2,3,4],increasing=True)"
   ]
  },
  {
   "cell_type": "code",
   "execution_count": 29,
   "id": "cae02977-9d4e-4fd1-a144-9a1761c226f6",
   "metadata": {},
   "outputs": [
    {
     "data": {
      "text/plain": [
       "array([ 0.,  2., -1.])"
      ]
     },
     "execution_count": 29,
     "metadata": {},
     "output_type": "execute_result"
    }
   ],
   "source": [
    "y = np.array([0.,1.,0.]) # p(x) = -x(x - 2)\n",
    "N = len(y)\n",
    "t = np.arange(0,N)\n",
    "A = np.vander(t,increasing=True)\n",
    "c = la.solve(A,y)\n",
    "c"
   ]
  },
  {
   "cell_type": "code",
   "execution_count": 30,
   "id": "b9ee0583-536f-4bbd-a6bf-76d918a4f738",
   "metadata": {},
   "outputs": [
    {
     "data": {
      "image/png": "[encoded data removed]",
      "text/plain": [
       "<Figure size 432x288 with 1 Axes>"
      ]
     },
     "metadata": {
      "needs_background": "light"
     },
     "output_type": "display_data"
    }
   ],
   "source": [
    "y = np.random.randint(-5,10,10)\n",
    "N = len(y)\n",
    "t = np.arange(0,N)\n",
    "A = np.vander(t,increasing=True)\n",
    "c = la.solve(A,y)\n",
    "T = np.linspace(0,N-1,20*N)\n",
    "Y = sum([c[n]*T**n for n in range(0,N)])\n",
    "plt.plot(t,y,'r.',T,Y)\n",
    "plt.show()"
   ]
  }
 ],
 "metadata": {
  "kernelspec": {
   "display_name": "Python 3 (ipykernel)",
   "language": "python",
   "name": "python3"
  },
  "language_info": {
   "codemirror_mode": {
    "name": "ipython",
    "version": 3
   },
   "file_extension": ".py",
   "mimetype": "text/x-python",
   "name": "python",
   "nbconvert_exporter": "python",
   "pygments_lexer": "ipython3",
   "version": "3.9.7"
  }
 },
 "nbformat": 4,
 "nbformat_minor": 5
}
