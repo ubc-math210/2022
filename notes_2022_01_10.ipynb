{
 "cells": [
  {
   "cell_type": "markdown",
   "id": "0325c790-bb06-4f63-b5f8-a875043d9539",
   "metadata": {},
   "source": [
    "# MATH 210 Introduction to Mathematical Computing\n",
    "\n",
    "## January 10, 2022\n",
    "\n",
    "* Polls!\n",
    "* Markdown and LaTeX examples"
   ]
  },
  {
   "cell_type": "markdown",
   "id": "293754ee-9b7d-464a-8287-5f630c05ba01",
   "metadata": {},
   "source": [
    "## Polls!"
   ]
  },
  {
   "cell_type": "markdown",
   "id": "a5e8dd00-a612-4f08-a433-0ea650c6b7d2",
   "metadata": {},
   "source": [
    "**Question**\n",
    "\n",
    "How much Python experience do you have?\n",
    "\n",
    "A. I'm an expert! (3/156 2%)\n",
    "\n",
    "B. I use it a lot but still learning (5/156 3%)\n",
    "\n",
    "C. I've used it before but not too much (61/156 39%)\n",
    "\n",
    "D. Absolutely none! (87/156 56%)"
   ]
  },
  {
   "cell_type": "markdown",
   "id": "33ede0e4-bb53-4bea-906a-4eb57893b53a",
   "metadata": {},
   "source": [
    "**Question**\n",
    "\n",
    "What year are you in?\n",
    "\n",
    "A. 4th year or above (19/156 12%)\n",
    "\n",
    "B. 3rd year (69/156 44%)\n",
    "\n",
    "C. 2nd year (64/156 41%)\n",
    "\n",
    "D. 1st year (4/156 3%)"
   ]
  },
  {
   "cell_type": "markdown",
   "id": "95affbe0-9211-4914-8eaf-aea14260b6a8",
   "metadata": {},
   "source": [
    "**Question**\n",
    "\n",
    "What program are you in?\n",
    "\n",
    "A. MATH (118/155 76%)\n",
    "\n",
    "B. STAT (22/155 14%)\n",
    "\n",
    "C. ECON (18/155 12%)\n",
    "\n",
    "D. CPSC (2/155 1%)\n",
    "\n",
    "E. PHYS (7/155 5%)\n",
    "\n",
    "F. OTHER (18/155 12%) - BIOL, COMM, ENGG, SCI, Neuroscience, PHIL, ENG, EDUC"
   ]
  },
  {
   "cell_type": "markdown",
   "id": "af709f49-08da-492a-bb07-b0b98fa1e29a",
   "metadata": {},
   "source": [
    "**Question**\n",
    "\n",
    "How much LaTeX experience do you have?\n",
    "\n",
    "A. I'm an expert! (4/158 3%)\n",
    "\n",
    "B. I use it a lot but still learning (19/158 12%)\n",
    "\n",
    "C. I've used it before but not too much (51/158 32%)\n",
    "\n",
    "D. Absolutely none! (84/158 53%)"
   ]
  },
  {
   "cell_type": "markdown",
   "id": "15ac58a5-a78d-44d0-ba05-cdd50b658375",
   "metadata": {},
   "source": [
    "## LaTeX examples"
   ]
  },
  {
   "cell_type": "markdown",
   "id": "5ea0de52-bc30-4170-a6f7-d7b7b47810ec",
   "metadata": {},
   "source": [
    "### Euler's Formula\n",
    "\n",
    "$$\n",
    "e^{i \\theta} = \\cos \\theta + i \\sin \\theta\n",
    "$$"
   ]
  },
  {
   "cell_type": "markdown",
   "id": "2a186372-7113-4008-afeb-9198ca46d23b",
   "metadata": {},
   "source": [
    "### Fermat's Last Thoerem\n",
    "\n",
    "There is no (nonzero) integer solution to the equation\n",
    "\n",
    "$$\n",
    "x^n + y^n = z^n\n",
    "$$\n",
    "\n",
    "for $n > 2$."
   ]
  },
  {
   "cell_type": "markdown",
   "id": "80fc7f6c-2105-462b-ae18-8170a3f78c23",
   "metadata": {},
   "source": [
    "### Quadratic Formula\n",
    "\n",
    "Roots of $ax^2 + bx + c = 0$ are\n",
    "\n",
    "$$\n",
    "r = \\frac{-b \\pm \\sqrt{b^2 - 4ac}}{2a}\n",
    "$$"
   ]
  }
 ],
 "metadata": {
  "kernelspec": {
   "display_name": "Python 3 (ipykernel)",
   "language": "python",
   "name": "python3"
  },
  "language_info": {
   "codemirror_mode": {
    "name": "ipython",
    "version": 3
   },
   "file_extension": ".py",
   "mimetype": "text/x-python",
   "name": "python",
   "nbconvert_exporter": "python",
   "pygments_lexer": "ipython3",
   "version": "3.9.7"
  }
 },
 "nbformat": 4,
 "nbformat_minor": 5
}
