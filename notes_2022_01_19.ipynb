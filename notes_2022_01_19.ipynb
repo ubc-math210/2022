{
 "cells": [
  {
   "cell_type": "markdown",
   "id": "1fe93f23-de2f-4fb3-b0df-a1739b6be6a5",
   "metadata": {},
   "source": [
    "# MATH 210 Introduction to Mathematical Computing\n",
    "\n",
    "## January 19, 2022\n",
    "\n",
    "* Sequences: lists, tuples and range objects\n",
    "* List comprehensions\n",
    "* Builtin Python functions: `type`, `print`, `sum`"
   ]
  },
  {
   "cell_type": "markdown",
   "id": "4060e6af-cb30-49bc-84e9-75be076dde93",
   "metadata": {},
   "source": [
    "## Sequences\n",
    "\n",
    "There are 3 main sequence types: lists, tuples and range objects.\n",
    "\n",
    "We use square brackets `[ ... ]` to define a Python `list`:"
   ]
  },
  {
   "cell_type": "code",
   "execution_count": 1,
   "id": "e30320f9-c23b-44ad-a950-69fd60b89e4d",
   "metadata": {},
   "outputs": [],
   "source": [
    "squares = [1,4,9,16,25,36,49,64,81,100]"
   ]
  },
  {
   "cell_type": "code",
   "execution_count": 2,
   "id": "8ee0a667-bf61-4c4b-94aa-5b620ef58bfa",
   "metadata": {},
   "outputs": [
    {
     "data": {
      "text/plain": [
       "[1, 4, 9, 16, 25, 36, 49, 64, 81, 100]"
      ]
     },
     "execution_count": 2,
     "metadata": {},
     "output_type": "execute_result"
    }
   ],
   "source": [
    "squares"
   ]
  },
  {
   "cell_type": "code",
   "execution_count": 3,
   "id": "3d335289-1f8c-491c-894f-4751944bdce5",
   "metadata": {},
   "outputs": [
    {
     "data": {
      "text/plain": [
       "list"
      ]
     },
     "execution_count": 3,
     "metadata": {},
     "output_type": "execute_result"
    }
   ],
   "source": [
    "type(squares)"
   ]
  },
  {
   "cell_type": "markdown",
   "id": "34e71272-088f-4ac8-bfbc-2bd357166dc8",
   "metadata": {},
   "source": [
    "We use parentheses `( ... )` to define a Python `tuple`:"
   ]
  },
  {
   "cell_type": "code",
   "execution_count": 4,
   "id": "b0849615-0bd0-4e46-ac37-0472521f2993",
   "metadata": {},
   "outputs": [],
   "source": [
    "date = (2022,1,19)"
   ]
  },
  {
   "cell_type": "code",
   "execution_count": 5,
   "id": "90fc0521-3df3-42e7-ace6-44af414bdf97",
   "metadata": {},
   "outputs": [
    {
     "data": {
      "text/plain": [
       "(2022, 1, 19)"
      ]
     },
     "execution_count": 5,
     "metadata": {},
     "output_type": "execute_result"
    }
   ],
   "source": [
    "date"
   ]
  },
  {
   "cell_type": "code",
   "execution_count": 6,
   "id": "9f1c46c1-7ea1-4f79-b2b5-97c334261eb6",
   "metadata": {},
   "outputs": [
    {
     "data": {
      "text/plain": [
       "tuple"
      ]
     },
     "execution_count": 6,
     "metadata": {},
     "output_type": "execute_result"
    }
   ],
   "source": [
    "type(date)"
   ]
  },
  {
   "cell_type": "markdown",
   "id": "5ef52367-8ccb-4cd5-a288-45f96bac7794",
   "metadata": {},
   "source": [
    "The differences between a Python `list` and a `tuple` are technical and not really important to us. If you want to look it up, a `list` is mutable (we can modify entries) and `tuple` is not mutable (cannot modify entries).\n",
    "\n",
    "For example, let's modify the first entry (at index 0) of our list `squares`:"
   ]
  },
  {
   "cell_type": "code",
   "execution_count": 7,
   "id": "169f1587-1570-4123-931e-1d62bd8ff654",
   "metadata": {},
   "outputs": [
    {
     "data": {
      "text/plain": [
       "1"
      ]
     },
     "execution_count": 7,
     "metadata": {},
     "output_type": "execute_result"
    }
   ],
   "source": [
    "squares[0]"
   ]
  },
  {
   "cell_type": "code",
   "execution_count": 8,
   "id": "485cdf3e-02d4-4e9a-8996-5a03b6409d13",
   "metadata": {},
   "outputs": [],
   "source": [
    "squares[0] = -1"
   ]
  },
  {
   "cell_type": "code",
   "execution_count": 9,
   "id": "e6f8ddd9-2835-40b0-8dfd-55e2ea72280b",
   "metadata": {},
   "outputs": [
    {
     "data": {
      "text/plain": [
       "[-1, 4, 9, 16, 25, 36, 49, 64, 81, 100]"
      ]
     },
     "execution_count": 9,
     "metadata": {},
     "output_type": "execute_result"
    }
   ],
   "source": [
    "squares"
   ]
  },
  {
   "cell_type": "markdown",
   "id": "131762d0-b474-4ea0-994c-0c23a6d51407",
   "metadata": {},
   "source": [
    "But we get an error if we try to change the tuple `date`:"
   ]
  },
  {
   "cell_type": "code",
   "execution_count": 10,
   "id": "89ba52eb-80a1-46ce-b887-0ea9cd071413",
   "metadata": {},
   "outputs": [
    {
     "data": {
      "text/plain": [
       "2022"
      ]
     },
     "execution_count": 10,
     "metadata": {},
     "output_type": "execute_result"
    }
   ],
   "source": [
    "date[0]"
   ]
  },
  {
   "cell_type": "code",
   "execution_count": 11,
   "id": "e6b02706-e85b-4f00-957b-164d0290d10b",
   "metadata": {},
   "outputs": [
    {
     "ename": "TypeError",
     "evalue": "'tuple' object does not support item assignment",
     "output_type": "error",
     "traceback": [
      "\u001b[0;31m---------------------------------------------------------------------------\u001b[0m",
      "\u001b[0;31mTypeError\u001b[0m                                 Traceback (most recent call last)",
      "\u001b[0;32m/tmp/ipykernel_200/510473522.py\u001b[0m in \u001b[0;36m<module>\u001b[0;34m\u001b[0m\n\u001b[0;32m----> 1\u001b[0;31m \u001b[0mdate\u001b[0m\u001b[0;34m[\u001b[0m\u001b[0;36m0\u001b[0m\u001b[0;34m]\u001b[0m \u001b[0;34m=\u001b[0m \u001b[0;36m1922\u001b[0m\u001b[0;34m\u001b[0m\u001b[0;34m\u001b[0m\u001b[0m\n\u001b[0m",
      "\u001b[0;31mTypeError\u001b[0m: 'tuple' object does not support item assignment"
     ]
    }
   ],
   "source": [
    "date[0] = 1922"
   ]
  },
  {
   "cell_type": "markdown",
   "id": "df5c6765-2399-46d0-893e-d39347b32419",
   "metadata": {},
   "source": [
    "A `range` object is an efficient sequence generator. A range object does not have any entries until you ask for them. The command `range(a,b)` creates a range object which begins at integer `a` and increments by 1 up to but not including integer `b`. Notice that the length of the sequence is `b - a`."
   ]
  },
  {
   "cell_type": "code",
   "execution_count": 12,
   "id": "4bfae340-78e0-4123-a91d-edee94b3e7c1",
   "metadata": {},
   "outputs": [],
   "source": [
    "numbers = range(1,11)"
   ]
  },
  {
   "cell_type": "code",
   "execution_count": 13,
   "id": "ee53313c-9d90-4432-b006-ae3fa1ecdc67",
   "metadata": {},
   "outputs": [
    {
     "data": {
      "text/plain": [
       "range(1, 11)"
      ]
     },
     "execution_count": 13,
     "metadata": {},
     "output_type": "execute_result"
    }
   ],
   "source": [
    "numbers"
   ]
  },
  {
   "cell_type": "code",
   "execution_count": 14,
   "id": "e5f42179-d6b5-4cf2-8bb4-5ea06115709e",
   "metadata": {},
   "outputs": [
    {
     "data": {
      "text/plain": [
       "range"
      ]
     },
     "execution_count": 14,
     "metadata": {},
     "output_type": "execute_result"
    }
   ],
   "source": [
    "type(numbers)"
   ]
  },
  {
   "cell_type": "markdown",
   "id": "d35b3635-0239-48b3-8719-2a60a55f695a",
   "metadata": {},
   "source": [
    "Use the Python function `list` to converts a `range` to a `list`."
   ]
  },
  {
   "cell_type": "code",
   "execution_count": 15,
   "id": "6993eac5-520e-4c86-b565-c26572796fe4",
   "metadata": {},
   "outputs": [
    {
     "data": {
      "text/plain": [
       "[1, 2, 3, 4, 5, 6, 7, 8, 9, 10]"
      ]
     },
     "execution_count": 15,
     "metadata": {},
     "output_type": "execute_result"
    }
   ],
   "source": [
    "list(numbers)"
   ]
  },
  {
   "cell_type": "markdown",
   "id": "e692109d-98b2-4e97-9373-00b7338a46fd",
   "metadata": {},
   "source": [
    "The command `range(a,b,n)` creates a range object which begins at integer `a` and increments by `n` up to but not including integer `b`."
   ]
  },
  {
   "cell_type": "code",
   "execution_count": 16,
   "id": "8495a51c-6195-4172-be70-e75c3c0d9655",
   "metadata": {},
   "outputs": [],
   "source": [
    "evens = range(0,21,2)"
   ]
  },
  {
   "cell_type": "code",
   "execution_count": 17,
   "id": "673c3ed6-156e-4847-913d-e954b6e6f9ab",
   "metadata": {},
   "outputs": [
    {
     "data": {
      "text/plain": [
       "[0, 2, 4, 6, 8, 10, 12, 14, 16, 18, 20]"
      ]
     },
     "execution_count": 17,
     "metadata": {},
     "output_type": "execute_result"
    }
   ],
   "source": [
    "list(evens)"
   ]
  },
  {
   "cell_type": "markdown",
   "id": "39fc7e08-e39c-49aa-b854-7cede6bcd97f",
   "metadata": {},
   "source": [
    "## List Comprehensions\n",
    "\n",
    "A list comprehension is a simple construction to create lists. The syntax of a list comprehension is:\n",
    "\n",
    "```\n",
    "[expression for item in iterable]\n",
    "```\n",
    "\n",
    "where:\n",
    "* `expression` is a Python expression like `x**2`\n",
    "* `item` is a variable name like `x` as in the example in line above\n",
    "* `iterable` is any sequence of values"
   ]
  },
  {
   "cell_type": "code",
   "execution_count": 18,
   "id": "c27b2f95-bda4-4984-842b-77fb5c4afdb5",
   "metadata": {},
   "outputs": [],
   "source": [
    "squares = [n**2 for n in range(1,17)]"
   ]
  },
  {
   "cell_type": "code",
   "execution_count": 19,
   "id": "5ff06544-1230-4e76-a844-0da874822825",
   "metadata": {},
   "outputs": [
    {
     "name": "stdout",
     "output_type": "stream",
     "text": [
      "[1, 4, 9, 16, 25, 36, 49, 64, 81, 100, 121, 144, 169, 196, 225, 256]\n"
     ]
    }
   ],
   "source": [
    "print(squares)"
   ]
  },
  {
   "cell_type": "markdown",
   "id": "f317261b-738b-46fa-975b-117cad19190f",
   "metadata": {},
   "source": [
    "Can we use a list comprehension to generate the sequence of Fibonacci numbers? Recall, Fibonacci numbers are $1,1,2,3,5,8,13,21,...$, given by the recursive formula\n",
    "\n",
    "$$\n",
    "x_n = x_{n-1} + x_{n-2}\n",
    "$$\n",
    "\n",
    "No! Lists comprehensions only work for explicit sequences where we have a expression for each term as a function of the index `n` only."
   ]
  },
  {
   "cell_type": "markdown",
   "id": "43134e7e-717c-4878-a8b6-cb7f94d94b2e",
   "metadata": {},
   "source": [
    "## Builtin Functions\n",
    "\n",
    "Python has many builtin functions. We have seen a few already like `type`, `print`, `list`, and `range`. There is also `sum` which adds all the entries in a sequence."
   ]
  },
  {
   "cell_type": "code",
   "execution_count": 20,
   "id": "e8df474e-c2f5-43b6-9ba5-85845e457ee5",
   "metadata": {},
   "outputs": [
    {
     "data": {
      "text/plain": [
       "15"
      ]
     },
     "execution_count": 20,
     "metadata": {},
     "output_type": "execute_result"
    }
   ],
   "source": [
    "sum([1,2,3,4,5])"
   ]
  },
  {
   "cell_type": "markdown",
   "id": "366e77c2-51ca-41ec-bf2c-76618d22b06d",
   "metadata": {},
   "source": [
    "Let's do an example. The Taylor series of $\\ln(1+x)$ is\n",
    "\n",
    "$$\n",
    "\\ln(1+x) = \\sum_{n = 1}^{\\infty} (-1)^{n+1} \\frac{x^n}{n}\n",
    "$$"
   ]
  },
  {
   "cell_type": "markdown",
   "id": "17ca1934-108a-4a6f-890c-673919309b4a",
   "metadata": {},
   "source": [
    "Let's use a partial sum to approximate $\\ln(1.5)$ ($x=0.5$)\n",
    "\n",
    "$$\n",
    "\\ln(1.5) \\approx \\sum_{n = 1}^{N} (-1)^{n+1} \\frac{(0.5)^n}{n}\n",
    "$$"
   ]
  },
  {
   "cell_type": "code",
   "execution_count": 21,
   "id": "b4491fb5-06da-43cc-9018-3b66c49bbc5b",
   "metadata": {},
   "outputs": [
    {
     "name": "stdout",
     "output_type": "stream",
     "text": [
      "0.40546510849507883\n"
     ]
    }
   ],
   "source": [
    "N = 25\n",
    "terms = [(-1)**(n+1)*(0.5)**n/n for n in range(1,N+1)]\n",
    "result = sum(terms)\n",
    "print(result)"
   ]
  },
  {
   "cell_type": "markdown",
   "id": "87161ad9-e97b-4858-aabf-7df2823336cd",
   "metadata": {},
   "source": [
    "Use a graphing calculator to find the first 9 decimal values of the exact value\n",
    "\n",
    "$$\n",
    "\\ln(1.5) \\approx 0.405465108\n",
    "$$"
   ]
  }
 ],
 "metadata": {
  "kernelspec": {
   "display_name": "Python 3 (ipykernel)",
   "language": "python",
   "name": "python3"
  },
  "language_info": {
   "codemirror_mode": {
    "name": "ipython",
    "version": 3
   },
   "file_extension": ".py",
   "mimetype": "text/x-python",
   "name": "python",
   "nbconvert_exporter": "python",
   "pygments_lexer": "ipython3",
   "version": "3.9.7"
  }
 },
 "nbformat": 4,
 "nbformat_minor": 5
}
