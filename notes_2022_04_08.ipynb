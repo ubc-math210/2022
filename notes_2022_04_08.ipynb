{
 "cells": [
  {
   "cell_type": "markdown",
   "id": "d1aa6da6-2f40-447a-9ac5-eb1a88aeabec",
   "metadata": {},
   "source": [
    "# MATH 210 Introduction to Mathematical Computing\n",
    "\n",
    "## April 8, 2022\n",
    "\n",
    "* Eigenvalues and eigenvectors\n",
    "* Diagonalization\n",
    "* Orthogonal diagonalization of symmetric matrices"
   ]
  },
  {
   "cell_type": "code",
   "execution_count": 1,
   "id": "093bf0c3-090a-45d7-9741-3d4071c12a05",
   "metadata": {},
   "outputs": [],
   "source": [
    "import numpy as np\n",
    "import matplotlib.pyplot as plt\n",
    "import scipy.linalg as la"
   ]
  },
  {
   "cell_type": "markdown",
   "id": "b8164562-da9d-464f-87ae-2b807b92f334",
   "metadata": {},
   "source": [
    "## Eigenvalues and eigenvectors"
   ]
  },
  {
   "cell_type": "markdown",
   "id": "168b1544-3f7f-44f5-aed9-ab1d68c8cfef",
   "metadata": {},
   "source": [
    "Let $A$ be a square matrix. A number $\\lambda$ is an eigenvalue of $A$ if\n",
    "\n",
    "$$\n",
    "A \\mathbf{v} = \\lambda \\mathbf{v}\n",
    "$$\n",
    "\n",
    "for some nonzero vector $\\mathbf{v}$. The vector $\\mathbf{v}$ is called an eigenvector for $\\lambda$."
   ]
  },
  {
   "cell_type": "markdown",
   "id": "1acad3b2-428f-4484-aee9-883f29891c66",
   "metadata": {},
   "source": [
    "We can find eigenvalues of small matrices (like size $n \\leq 4$) by computing roots of the characteristic polynomial\n",
    "\n",
    "$$\n",
    "c_A(x) = \\mathrm{det}(A - x I)\n",
    "$$\n",
    "\n",
    "where $I$ is the identity matrix (same size as $A$)."
   ]
  },
  {
   "cell_type": "markdown",
   "id": "56492663-332f-4b7d-a5ba-6bdb41ee69ca",
   "metadata": {},
   "source": [
    "But this is not how `scipy.linalg.eig` computes eigenvalues.\n",
    "\n",
    "Use `la.eig` to compute eigenvalues of\n",
    "\n",
    "$$\n",
    "A = \\begin{bmatrix} 1 & 2 \\\\ 2  & 1 \\end{bmatrix}\n",
    "$$"
   ]
  },
  {
   "cell_type": "code",
   "execution_count": 2,
   "id": "ef657d34-9bb3-4b8c-9154-2b7f36829fed",
   "metadata": {},
   "outputs": [],
   "source": [
    "A = np.array([[1,2],[2,1]])\n",
    "result = la.eig(A)"
   ]
  },
  {
   "cell_type": "code",
   "execution_count": 3,
   "id": "2de01c69-56ac-4c7a-9154-230064283e57",
   "metadata": {},
   "outputs": [
    {
     "data": {
      "text/plain": [
       "tuple"
      ]
     },
     "execution_count": 3,
     "metadata": {},
     "output_type": "execute_result"
    }
   ],
   "source": [
    "type(result)"
   ]
  },
  {
   "cell_type": "code",
   "execution_count": 4,
   "id": "71c79c8f-2e59-44e6-a506-55828e2cdd47",
   "metadata": {},
   "outputs": [
    {
     "data": {
      "text/plain": [
       "array([ 3.+0.j, -1.+0.j])"
      ]
     },
     "execution_count": 4,
     "metadata": {},
     "output_type": "execute_result"
    }
   ],
   "source": [
    "evals = result[0]\n",
    "evals"
   ]
  },
  {
   "cell_type": "code",
   "execution_count": 5,
   "id": "3d3174ec-588f-4953-b4a8-c5baf5118200",
   "metadata": {},
   "outputs": [
    {
     "data": {
      "text/plain": [
       "array([[ 0.70710678, -0.70710678],\n",
       "       [ 0.70710678,  0.70710678]])"
      ]
     },
     "execution_count": 5,
     "metadata": {},
     "output_type": "execute_result"
    }
   ],
   "source": [
    "evecs = result[1]\n",
    "evecs"
   ]
  },
  {
   "cell_type": "markdown",
   "id": "0f55df31-3346-4b3b-94d6-5f46075961b9",
   "metadata": {},
   "source": [
    "The function `scipy.linalg.eig` returns a `tuple` of length 2 with 1D NumPy array of eigenvalues and 2D NumPy array with corresponding eigenvectors in the columns. Notice the eigenvalue vector always has complex numbers even if the eigenvalues are real.\n",
    "\n",
    "Eigenvalues of real symmetric matrices are **always** real numbers. So we can use the function `np.real` to get the real part."
   ]
  },
  {
   "cell_type": "code",
   "execution_count": 6,
   "id": "373737f6-864f-4003-95a8-59b08d4a9caa",
   "metadata": {},
   "outputs": [
    {
     "data": {
      "text/plain": [
       "array([ 3., -1.])"
      ]
     },
     "execution_count": 6,
     "metadata": {},
     "output_type": "execute_result"
    }
   ],
   "source": [
    "evals = np.real(evals)\n",
    "evals"
   ]
  },
  {
   "cell_type": "markdown",
   "id": "f3af8588-34bc-45ec-8b89-153ffd923a7d",
   "metadata": {},
   "source": [
    "Verify $A \\mathbf{v}_0 = \\lambda_0 \\mathbf{v}_0$:"
   ]
  },
  {
   "cell_type": "code",
   "execution_count": 7,
   "id": "ff39f7d4-9cbe-47db-85a1-08c1181ea8d3",
   "metadata": {},
   "outputs": [
    {
     "data": {
      "text/plain": [
       "array([0.70710678, 0.70710678])"
      ]
     },
     "execution_count": 7,
     "metadata": {},
     "output_type": "execute_result"
    }
   ],
   "source": [
    "v0 = evecs[:,0]\n",
    "v0"
   ]
  },
  {
   "cell_type": "code",
   "execution_count": 8,
   "id": "db072f2b-bb5c-402d-81ba-6c07ecab9223",
   "metadata": {},
   "outputs": [
    {
     "data": {
      "text/plain": [
       "array([2.12132034, 2.12132034])"
      ]
     },
     "execution_count": 8,
     "metadata": {},
     "output_type": "execute_result"
    }
   ],
   "source": [
    "A @ v0"
   ]
  },
  {
   "cell_type": "code",
   "execution_count": 9,
   "id": "8d64db2c-c7ac-46f8-851b-74066af4c5bb",
   "metadata": {},
   "outputs": [
    {
     "data": {
      "text/plain": [
       "array([2.12132034, 2.12132034])"
      ]
     },
     "execution_count": 9,
     "metadata": {},
     "output_type": "execute_result"
    }
   ],
   "source": [
    "evals[0]*v0"
   ]
  },
  {
   "cell_type": "markdown",
   "id": "ab9806ba-46a5-42de-8171-43f3d9a3fc02",
   "metadata": {},
   "source": [
    "## Diagonalization\n",
    "\n",
    "Suppose that $A$ is size $n$ with $n$ eigenvalues and $n$ linearly independent eigenvectors. Then $A = PDP^{-1}$ where\n",
    "\n",
    "$$\n",
    "D = \\begin{bmatrix} \\lambda_0 & & \\\\ & \\ddots & \\\\ & & \\lambda_{n-1} \\end{bmatrix}\n",
    "\\hspace{10mm}\n",
    "P = \\begin{bmatrix} & & \\\\ \\mathbf{v}_0 & \\cdots & \\mathbf{v}_{n-1} \\\\ & & \\end{bmatrix}\n",
    "$$"
   ]
  },
  {
   "cell_type": "markdown",
   "id": "fe51369d-170a-4e09-adca-4f7d7184309f",
   "metadata": {},
   "source": [
    "Then it is easy to compute powers of $A$:\n",
    "\n",
    "$$\n",
    "A^k = (PDP^{-1})^k = PDP^{-1} PDP^{-1} \\cdots PDP^{-1} = PD^kP^{-1}\n",
    "$$"
   ]
  },
  {
   "cell_type": "code",
   "execution_count": 10,
   "id": "6976e6d3-ca67-41eb-9d93-dd641f973268",
   "metadata": {},
   "outputs": [
    {
     "data": {
      "text/plain": [
       "array([[1, 2],\n",
       "       [2, 1]])"
      ]
     },
     "execution_count": 10,
     "metadata": {},
     "output_type": "execute_result"
    }
   ],
   "source": [
    "A"
   ]
  },
  {
   "cell_type": "code",
   "execution_count": 11,
   "id": "e0699183-164f-46ba-bb66-7c9062166a36",
   "metadata": {},
   "outputs": [
    {
     "data": {
      "text/plain": [
       "array([[13, 14],\n",
       "       [14, 13]])"
      ]
     },
     "execution_count": 11,
     "metadata": {},
     "output_type": "execute_result"
    }
   ],
   "source": [
    "A @ A @ A"
   ]
  },
  {
   "cell_type": "code",
   "execution_count": 12,
   "id": "bdd98a67-3c94-49cc-99b5-ecdd5380a72a",
   "metadata": {},
   "outputs": [
    {
     "data": {
      "text/plain": [
       "array([[ 3.,  0.],\n",
       "       [ 0., -1.]])"
      ]
     },
     "execution_count": 12,
     "metadata": {},
     "output_type": "execute_result"
    }
   ],
   "source": [
    "D = np.diag(evals)\n",
    "D"
   ]
  },
  {
   "cell_type": "code",
   "execution_count": 13,
   "id": "f547d664-9773-4ea4-9cfd-27c0a2b74b94",
   "metadata": {},
   "outputs": [
    {
     "data": {
      "text/plain": [
       "array([[ 0.70710678, -0.70710678],\n",
       "       [ 0.70710678,  0.70710678]])"
      ]
     },
     "execution_count": 13,
     "metadata": {},
     "output_type": "execute_result"
    }
   ],
   "source": [
    "P = evecs\n",
    "P"
   ]
  },
  {
   "cell_type": "code",
   "execution_count": 14,
   "id": "37741907-0472-42b4-817d-2fdd068e7ec7",
   "metadata": {},
   "outputs": [
    {
     "data": {
      "text/plain": [
       "array([[13., 14.],\n",
       "       [14., 13.]])"
      ]
     },
     "execution_count": 14,
     "metadata": {},
     "output_type": "execute_result"
    }
   ],
   "source": [
    "P @ D**3 @ la.inv(P)"
   ]
  },
  {
   "cell_type": "markdown",
   "id": "0113d3e3-e313-440d-b3e2-7a715618a6a9",
   "metadata": {},
   "source": [
    "## Symmetric matrices\n",
    "\n",
    "Let $A$ be a symmetric matrix of size $n$.\n",
    "\n",
    "* The eigenvalues of $A$ are **real** numbers\n",
    "* The eigenvectors (corresponding to different eigenvalues) of $A$ are orthogonal\n",
    "* $A$ is orthogonally diagonalizable $A = PDP^T$"
   ]
  },
  {
   "cell_type": "code",
   "execution_count": 15,
   "id": "9ad951b8-5036-4578-ab09-30c45e070294",
   "metadata": {},
   "outputs": [
    {
     "data": {
      "text/plain": [
       "array([[ 2., -1.,  0., ...,  0.,  0.,  0.],\n",
       "       [-1.,  2., -1., ...,  0.,  0.,  0.],\n",
       "       [ 0., -1.,  2., ...,  0.,  0.,  0.],\n",
       "       ...,\n",
       "       [ 0.,  0.,  0., ...,  2., -1.,  0.],\n",
       "       [ 0.,  0.,  0., ..., -1.,  2., -1.],\n",
       "       [ 0.,  0.,  0., ...,  0., -1.,  2.]])"
      ]
     },
     "execution_count": 15,
     "metadata": {},
     "output_type": "execute_result"
    }
   ],
   "source": [
    "N = 50\n",
    "A = 2*np.eye(N) - np.diag(np.ones(N-1),1) - np.diag(np.ones(N-1),-1)\n",
    "A"
   ]
  },
  {
   "cell_type": "code",
   "execution_count": 16,
   "id": "1954f61c-e183-468e-a77f-45a636fe8e5a",
   "metadata": {},
   "outputs": [
    {
     "data": {
      "text/plain": [
       "array([3.99620666e+00, 3.98484102e+00, 3.96594620e+00, 3.93959387e+00,\n",
       "       3.90588400e+00, 3.86494446e+00, 3.81693054e+00, 3.76202439e+00,\n",
       "       3.70043427e+00, 3.63239382e+00, 3.55816115e+00, 3.47801783e+00,\n",
       "       3.39226789e+00, 3.30123660e+00, 3.20526927e+00, 3.10472995e+00,\n",
       "       3.00000000e+00, 2.89147671e+00, 2.77957175e+00, 2.66470960e+00,\n",
       "       2.54732598e+00, 2.42786617e+00, 2.30678331e+00, 2.18453672e+00,\n",
       "       2.06159012e+00, 1.93840988e+00, 1.81546328e+00, 1.69321669e+00,\n",
       "       1.57213383e+00, 1.45267402e+00, 1.33529040e+00, 1.22042825e+00,\n",
       "       1.10852329e+00, 3.79334253e-03, 1.51589807e-02, 3.40538006e-02,\n",
       "       6.04061279e-02, 9.41159991e-02, 1.35055541e-01, 1.83069456e-01,\n",
       "       2.37975611e-01, 2.99565729e-01, 3.67606175e-01, 4.41838851e-01,\n",
       "       5.21982166e-01, 6.07732108e-01, 6.98763400e-01, 7.94730727e-01,\n",
       "       8.95270054e-01, 1.00000000e+00])"
      ]
     },
     "execution_count": 16,
     "metadata": {},
     "output_type": "execute_result"
    }
   ],
   "source": [
    "result = la.eig(A)\n",
    "evals = np.real(result[0])\n",
    "evecs = result[1]\n",
    "evals"
   ]
  },
  {
   "cell_type": "code",
   "execution_count": 17,
   "id": "b8338078-3782-4ce9-b550-68cf767fa85e",
   "metadata": {},
   "outputs": [
    {
     "data": {
      "image/png": "[encoded data removed]",
      "text/plain": [
       "<Figure size 432x288 with 2 Axes>"
      ]
     },
     "metadata": {
      "needs_background": "light"
     },
     "output_type": "display_data"
    }
   ],
   "source": [
    "P = evecs\n",
    "PPT = np.round(P @ P.T,5)\n",
    "plt.imshow(PPT,cmap='binary'), plt.colorbar()\n",
    "plt.show()"
   ]
  },
  {
   "cell_type": "code",
   "execution_count": 18,
   "id": "04865bb9-006c-4cfb-b9af-7c97624f1833",
   "metadata": {},
   "outputs": [
    {
     "data": {
      "image/png": "[encoded data removed]",
      "text/plain": [
       "<Figure size 432x288 with 1 Axes>"
      ]
     },
     "metadata": {
      "needs_background": "light"
     },
     "output_type": "display_data"
    }
   ],
   "source": [
    "plt.scatter(range(N),np.sort(evals))\n",
    "plt.show()"
   ]
  }
 ],
 "metadata": {
  "kernelspec": {
   "display_name": "Python 3 (ipykernel)",
   "language": "python",
   "name": "python3"
  },
  "language_info": {
   "codemirror_mode": {
    "name": "ipython",
    "version": 3
   },
   "file_extension": ".py",
   "mimetype": "text/x-python",
   "name": "python",
   "nbconvert_exporter": "python",
   "pygments_lexer": "ipython3",
   "version": "3.9.7"
  }
 },
 "nbformat": 4,
 "nbformat_minor": 5
}
