{
 "cells": [
  {
   "cell_type": "markdown",
   "id": "f76a556d-7eef-4ec1-9d34-f1917472ca0f",
   "metadata": {},
   "source": [
    "# MATH 210 Introduction to Mathematical Computing\n",
    "\n",
    "## January 14, 2022\n",
    "\n",
    "* Introduction to LaTeX\n",
    "* LaTeX examples"
   ]
  },
  {
   "cell_type": "markdown",
   "id": "f8f7d73b-68b3-4f2d-82aa-ffcc1277c9f9",
   "metadata": {},
   "source": [
    "## Introduction to LaTeX\n",
    "\n",
    "[LaTeX](https://www.latex-project.org) is a programming environment for creating scientific documents. LaTeX is a powerful tool with many features but we are only focusing on a small part consisting of mathematical symbols."
   ]
  },
  {
   "cell_type": "markdown",
   "id": "5f40319f-a6e7-4890-ac25-40190b3d2e09",
   "metadata": {},
   "source": [
    "See the [WikiBook](https://en.wikibooks.org/wiki/LaTeX/Mathematics\n",
    ") for common mathematical symbols and [Detexify](https://detexify.kirelabs.org/classify.html\n",
    ") for anything you can think of!"
   ]
  },
  {
   "cell_type": "markdown",
   "id": "56736fbd-f171-4654-8b70-850619a47c0c",
   "metadata": {},
   "source": [
    "Write LaTeX code in dollar signs `$ ... $` to display math inline. For example, `$\\int_a^b f(x)dx$` renders inline as $\\int_a^b f(x)dx$."
   ]
  },
  {
   "cell_type": "markdown",
   "id": "64bb76d5-ee9c-4348-b5d1-e450432ebe15",
   "metadata": {},
   "source": [
    "Write LaTeX code in double dollar signs `$$ ... $$` to display math in display mode (ie. in its own paragraph, centered and bigger). For example,\n",
    "\n",
    "`$$\\int_a^b f(x)dx$$`\n",
    "\n",
    "renders as\n",
    "\n",
    "$$\n",
    "\\int_a^b f(x)dx\n",
    "$$"
   ]
  },
  {
   "cell_type": "markdown",
   "id": "48360761-5ed7-43b7-9388-3ae482623409",
   "metadata": {},
   "source": [
    "## LaTeX examples\n",
    "\n",
    "The **derivative** of $f(x)$ at $x=a$ is the limit\n",
    "\n",
    "$$\n",
    "f'(a) = \\lim_{x \\to a} \\frac{f(x) - f(a)}{x - a}\n",
    "$$"
   ]
  },
  {
   "cell_type": "markdown",
   "id": "4a2ed80c-0c26-490b-9df4-20dc6a1c236e",
   "metadata": {},
   "source": [
    "The **Taylor series** of $e^x$ is\n",
    "\n",
    "$$\n",
    "e^x = \\sum_{k = 0}^{\\infty} \\frac{x^k}{k!}\n",
    "$$"
   ]
  },
  {
   "cell_type": "markdown",
   "id": "d2dc51fc-2cbb-497a-89e6-88796d8ecd95",
   "metadata": {},
   "source": [
    "The **determinant** of a 2 by 2 matrix is\n",
    "\n",
    "$$\n",
    "\\det \\left( \\begin{bmatrix} a & b \\\\ c & d \\end{bmatrix} \\right) = ad - bc\n",
    "$$"
   ]
  },
  {
   "cell_type": "markdown",
   "id": "2b4a8cd2-a261-40ae-88fe-a739fcef2f7c",
   "metadata": {},
   "source": [
    "The **absolute value** $\\lvert x \\rvert$ can be written as a piecewise function\n",
    "\n",
    "$$\n",
    "|x| = \\left\\{ \\begin{array}{cc} x & \\text{if } x \\geq 0 \\\\ -x & \\text{if } x<0 \\end{array} \\right.\n",
    "$$"
   ]
  },
  {
   "cell_type": "markdown",
   "id": "9384cdb6-6e5b-42ae-b6ab-f4fea94a0a5b",
   "metadata": {},
   "source": [
    "The **line integral** of $f(x,y)$ over a closed curve $C$ is\n",
    "\n",
    "$$\n",
    "\\oint_C f(x,y) \\, ds\n",
    "$$"
   ]
  },
  {
   "cell_type": "markdown",
   "id": "6fc2339c-b340-4078-a1e4-4a50e766e305",
   "metadata": {},
   "source": [
    "The **logistic equation** for a population $P$ with growth rate $r$ and carrying capacity $K$ is given by\n",
    "\n",
    "$$\n",
    "\\frac{dP}{dt} = rP \\left( 1 - \\frac{P}{K} \\right)\n",
    "$$"
   ]
  },
  {
   "cell_type": "markdown",
   "id": "a94b2b17-b917-44d1-bdde-da2ad82f7abf",
   "metadata": {},
   "source": [
    "The **divergence** of $f(x,y,z)$ is\n",
    "\n",
    "$$\n",
    "\\text{div} f = \\frac{\\partial f}{\\partial x} + \\frac{\\partial f}{\\partial y} + \\frac{\\partial f}{\\partial z}\n",
    "$$"
   ]
  },
  {
   "cell_type": "markdown",
   "id": "13e52e87-acdc-498b-9521-4f2be1936dd8",
   "metadata": {},
   "source": [
    "Let's do an example from [Table of Integrals, Series and Products](http://fisica.ciens.ucv.ve/~svincenz/TISPISGIMR.pdf). See 3.736.1 on page 429 :\n",
    "\n",
    "$$\n",
    "\\int_0^{\\infty} \\frac{\\cos(ax) \\, dx}{(b^2 + x^2)(b^4 - x^4)}\n",
    "=\n",
    "\\frac{\\pi}{8b^5} \\left[ \\sin(ab) + (2 + ab)e^{-ab} \\right]\n",
    "$$"
   ]
  }
 ],
 "metadata": {
  "kernelspec": {
   "display_name": "Python 3 (ipykernel)",
   "language": "python",
   "name": "python3"
  },
  "language_info": {
   "codemirror_mode": {
    "name": "ipython",
    "version": 3
   },
   "file_extension": ".py",
   "mimetype": "text/x-python",
   "name": "python",
   "nbconvert_exporter": "python",
   "pygments_lexer": "ipython3",
   "version": "3.9.7"
  }
 },
 "nbformat": 4,
 "nbformat_minor": 5
}
