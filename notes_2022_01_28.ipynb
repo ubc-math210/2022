{
 "cells": [
  {
   "cell_type": "markdown",
   "id": "15e85a49-03ab-4784-a7c4-4b36bfe5ae2c",
   "metadata": {},
   "source": [
    "# MATH 210 Introduction to Mathematical Computing\n",
    "\n",
    "## January 28, 2022\n",
    "\n",
    "* `for` loops\n",
    "* Recursive sequences"
   ]
  },
  {
   "cell_type": "markdown",
   "id": "6ab5f550-12e8-4608-a462-1937d502a859",
   "metadata": {},
   "source": [
    "## for Loops\n",
    "\n",
    "A `for` loop is a block of code that repeats with different values of a variable. The syntax is:\n",
    "\n",
    "```\n",
    "for item in iterable:\n",
    "    Python code\n",
    "    Python code\n",
    "    Python code\n",
    "```\n",
    "\n",
    "The key features of the `for` loop construction are:\n",
    "\n",
    "* Begins with the `for` keyword\n",
    "* `item` is any variable name\n",
    "* `iterable` is a sequence like `[1,2,3]` or `range(0,10)`\n",
    "* End the `for` statement with a colon `:`\n",
    "* Loop block is indented 4 spaces\n",
    "* Block is executed for each value in iterable\n",
    "\n",
    "We use `for` loops to do iteration as in Newton's method or numerical methods for differential equations."
   ]
  },
  {
   "cell_type": "markdown",
   "id": "88d27f35-0fb2-432a-b2a9-81a48a1297a1",
   "metadata": {},
   "source": [
    "Let's do a simple example to compute the squares of numbers from 1 to 10."
   ]
  },
  {
   "cell_type": "code",
   "execution_count": 1,
   "id": "c617bb58-7cb8-4717-96a9-d5263ea29b82",
   "metadata": {},
   "outputs": [
    {
     "name": "stdout",
     "output_type": "stream",
     "text": [
      "1 squared is 1\n",
      "2 squared is 4\n",
      "3 squared is 9\n",
      "4 squared is 16\n",
      "5 squared is 25\n",
      "6 squared is 36\n",
      "7 squared is 49\n",
      "8 squared is 64\n",
      "9 squared is 81\n",
      "10 squared is 100\n",
      "End for loop.\n"
     ]
    }
   ],
   "source": [
    "for number in range(1,11):\n",
    "    number_squared = number**2\n",
    "    print(number,\"squared is\",number_squared)\n",
    "\n",
    "print(\"End for loop.\") "
   ]
  },
  {
   "cell_type": "markdown",
   "id": "65820b52-ae3c-42e9-9789-afb612bb1515",
   "metadata": {},
   "source": [
    "Paste the code in to [Python tutor](https://pythontutor.com/visualize.html) to see how the loops executes.\n",
    "\n",
    "We can use a `for` loop to construct a list using the list method `.append`."
   ]
  },
  {
   "cell_type": "code",
   "execution_count": 2,
   "id": "be44f53f-7849-4410-b684-c0a5538d2a41",
   "metadata": {},
   "outputs": [],
   "source": [
    "squares = [1,4,9,16,25]"
   ]
  },
  {
   "cell_type": "code",
   "execution_count": 3,
   "id": "85ccd6a3-5be7-46b9-8dcd-4313bb3f9f5c",
   "metadata": {},
   "outputs": [
    {
     "data": {
      "text/plain": [
       "[1, 4, 9, 16, 25]"
      ]
     },
     "execution_count": 3,
     "metadata": {},
     "output_type": "execute_result"
    }
   ],
   "source": [
    "squares"
   ]
  },
  {
   "cell_type": "code",
   "execution_count": 4,
   "id": "ef34a88a-9559-42b9-a682-eb5e431c64bc",
   "metadata": {},
   "outputs": [],
   "source": [
    "squares.append(36)"
   ]
  },
  {
   "cell_type": "code",
   "execution_count": 5,
   "id": "40b33342-2034-470f-b3f5-e59215d55234",
   "metadata": {},
   "outputs": [
    {
     "data": {
      "text/plain": [
       "[1, 4, 9, 16, 25, 36]"
      ]
     },
     "execution_count": 5,
     "metadata": {},
     "output_type": "execute_result"
    }
   ],
   "source": [
    "squares"
   ]
  },
  {
   "cell_type": "code",
   "execution_count": 6,
   "id": "decd075e-f823-4304-bbec-c28de906561e",
   "metadata": {},
   "outputs": [
    {
     "name": "stdout",
     "output_type": "stream",
     "text": [
      "[1, 4, 9, 16, 25, 36, 49, 64, 81, 100]\n"
     ]
    }
   ],
   "source": [
    "squares = []\n",
    "for n in range(1,11):\n",
    "    squares.append(n**2)\n",
    "print(squares)"
   ]
  },
  {
   "cell_type": "markdown",
   "id": "44e933b2-a825-44bc-8e12-819f7d54cfda",
   "metadata": {},
   "source": [
    "The code above is called \"initialize and update\". It is equivalent to the list comprehension below:"
   ]
  },
  {
   "cell_type": "code",
   "execution_count": 7,
   "id": "8d6c6e1a-3e23-48bb-ab5f-74f5a462abcb",
   "metadata": {},
   "outputs": [
    {
     "name": "stdout",
     "output_type": "stream",
     "text": [
      "[1, 4, 9, 16, 25, 36, 49, 64, 81, 100]\n"
     ]
    }
   ],
   "source": [
    "squares = [n**2 for n in range(1,11)]\n",
    "print(squares)"
   ]
  },
  {
   "cell_type": "markdown",
   "id": "c7699711-4ccf-4a0d-86b1-e931069c4ab1",
   "metadata": {},
   "source": [
    "## Examples\n",
    "\n",
    "### Fibonacci\n",
    "\n",
    "Write a function called `fibonacci` which takes an integer `N` and returns the list of the first `N` numbers in the Fibonacci sequence:\n",
    "\n",
    "$$\n",
    "x_{n+2} = x_{n+1} + x_n \\ \\ \\ , \\ \\ \\ x_0 = x_1 = 1\n",
    "$$\n",
    "\n",
    "The integer `N` should be bigger or equal to 2. Let's print an error message and return `None` if `N < 2` or `N` is not an integer."
   ]
  },
  {
   "cell_type": "code",
   "execution_count": 8,
   "id": "39c1ca2e-22fe-42f0-94a5-c6baaa772030",
   "metadata": {},
   "outputs": [],
   "source": [
    "def fibonacci(N):\n",
    "    if type(N) != int:\n",
    "        print(\"Error: N must be an integer greater than or equal to 2.\")\n",
    "        x = None\n",
    "    elif N < 2:\n",
    "        print(\"Error: N must be an integer greater than or equal to 2.\")\n",
    "        x = None\n",
    "    else:\n",
    "        x = [1,1]\n",
    "        for n in range(2,N):\n",
    "            x.append(x[-1] + x[-2])\n",
    "    return x"
   ]
  },
  {
   "cell_type": "markdown",
   "id": "b5fba916-66db-4369-b8a4-da93d885ebca",
   "metadata": {},
   "source": [
    "When `N = 7` the output is `[1,1,2,3,5,8,13]`:"
   ]
  },
  {
   "cell_type": "code",
   "execution_count": 9,
   "id": "f8f8684f-aaee-4780-94ab-d190bc2efcc6",
   "metadata": {},
   "outputs": [
    {
     "data": {
      "text/plain": [
       "[1, 1, 2, 3, 5, 8, 13]"
      ]
     },
     "execution_count": 9,
     "metadata": {},
     "output_type": "execute_result"
    }
   ],
   "source": [
    "fibonacci(7)"
   ]
  },
  {
   "cell_type": "markdown",
   "id": "2e492ffd-a659-4fe8-ad38-2ed247283306",
   "metadata": {},
   "source": [
    "Return `None` if `N < 2` or `N` not an integer."
   ]
  },
  {
   "cell_type": "code",
   "execution_count": 10,
   "id": "c370cc70-bdf9-4e32-88dd-958fcd901ce2",
   "metadata": {},
   "outputs": [
    {
     "name": "stdout",
     "output_type": "stream",
     "text": [
      "Error: N must be an integer greater than or equal to 2.\n"
     ]
    }
   ],
   "source": [
    "fibonacci(1)"
   ]
  },
  {
   "cell_type": "code",
   "execution_count": 11,
   "id": "27f26d47-5952-4cce-b057-aed7f26b7f4a",
   "metadata": {},
   "outputs": [
    {
     "name": "stdout",
     "output_type": "stream",
     "text": [
      "Error: N must be an integer greater than or equal to 2.\n"
     ]
    }
   ],
   "source": [
    "fibonacci(2.5)"
   ]
  },
  {
   "cell_type": "markdown",
   "id": "fc653680-fd17-480c-9099-c9c4d8fbd4c2",
   "metadata": {},
   "source": [
    "## Factorial\n",
    "\n",
    "Write a function called `factorial` which takes an integer `N` and returns $N!$. Let's print an error message if `N` is not an integer or if `N < 0`. Recall $0! = 1$."
   ]
  },
  {
   "cell_type": "code",
   "execution_count": 12,
   "id": "ee8cefc1-de0c-43d6-84cd-78fc6117a5e8",
   "metadata": {},
   "outputs": [],
   "source": [
    "def factorial(N):\n",
    "    if type(N) != int:\n",
    "        print(\"Error: N must be an integer greater than or equal to 0.\")\n",
    "        result = None\n",
    "    elif N < 0:\n",
    "        print(\"Error: N must be an integer greater than or equal to 0.\")\n",
    "        result = None\n",
    "    else:\n",
    "        result = 1\n",
    "        for n in range(2,N+1):\n",
    "            result = result*n\n",
    "    return result"
   ]
  },
  {
   "cell_type": "markdown",
   "id": "a1d6c2f1-84ce-4779-beea-0801303cf4de",
   "metadata": {},
   "source": [
    "We know $0! = 1$, $1! = 1$ and $5! = 120$."
   ]
  },
  {
   "cell_type": "code",
   "execution_count": 13,
   "id": "ca885cf2-1e1e-4f88-a2ac-57dd3829e13a",
   "metadata": {},
   "outputs": [
    {
     "data": {
      "text/plain": [
       "1"
      ]
     },
     "execution_count": 13,
     "metadata": {},
     "output_type": "execute_result"
    }
   ],
   "source": [
    "factorial(0)"
   ]
  },
  {
   "cell_type": "code",
   "execution_count": 14,
   "id": "ec161723-0eef-4c3c-89eb-923fd5424959",
   "metadata": {},
   "outputs": [
    {
     "data": {
      "text/plain": [
       "1"
      ]
     },
     "execution_count": 14,
     "metadata": {},
     "output_type": "execute_result"
    }
   ],
   "source": [
    "factorial(1)"
   ]
  },
  {
   "cell_type": "code",
   "execution_count": 15,
   "id": "7e60782f-a442-4f12-954d-3714323b40ff",
   "metadata": {},
   "outputs": [
    {
     "data": {
      "text/plain": [
       "120"
      ]
     },
     "execution_count": 15,
     "metadata": {},
     "output_type": "execute_result"
    }
   ],
   "source": [
    "factorial(5)"
   ]
  },
  {
   "cell_type": "code",
   "execution_count": 16,
   "id": "d070ad25-06de-4565-9df1-294b8978b951",
   "metadata": {},
   "outputs": [
    {
     "name": "stdout",
     "output_type": "stream",
     "text": [
      "Error: N must be an integer greater than or equal to 0.\n"
     ]
    }
   ],
   "source": [
    "factorial(1.1)"
   ]
  },
  {
   "cell_type": "code",
   "execution_count": 17,
   "id": "5e5c9114-7842-475c-b810-7ae7ca48f2a6",
   "metadata": {},
   "outputs": [
    {
     "name": "stdout",
     "output_type": "stream",
     "text": [
      "Error: N must be an integer greater than or equal to 0.\n"
     ]
    }
   ],
   "source": [
    "factorial(-1)"
   ]
  }
 ],
 "metadata": {
  "kernelspec": {
   "display_name": "Python 3 (ipykernel)",
   "language": "python",
   "name": "python3"
  },
  "language_info": {
   "codemirror_mode": {
    "name": "ipython",
    "version": 3
   },
   "file_extension": ".py",
   "mimetype": "text/x-python",
   "name": "python",
   "nbconvert_exporter": "python",
   "pygments_lexer": "ipython3",
   "version": "3.9.7"
  }
 },
 "nbformat": 4,
 "nbformat_minor": 5
}
