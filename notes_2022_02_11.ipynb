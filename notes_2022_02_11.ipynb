{
 "cells": [
  {
   "cell_type": "markdown",
   "id": "ad9784eb-2bbe-4a5d-804d-00fb28cf4fec",
   "metadata": {},
   "source": [
    "# MATH 210 Introduction to Mathematical Computing\n",
    "\n",
    "## February 11, 2022\n",
    "\n",
    "* Secant method\n",
    "* Examples"
   ]
  },
  {
   "cell_type": "markdown",
   "id": "59cc4fa4-3b0b-4dc6-9969-a193235e5a97",
   "metadata": {},
   "source": [
    "## Secant Method\n",
    "\n",
    "Let $f(x)$ be a continuous function. Suppose $f(a)f(b) < 0$ so that there exists $c \\in (a,b)$ such that $f(c) = 0$. Construct the secant line (ie. line connecting points $(a,f(a))$ and $(b,f(b))$) and find the $x$-intercept. The equation of the secant line is\n",
    "\n",
    "$$\n",
    "y = \\frac{f(b) - f(a)}{b - a} (x - a) + f(a)\n",
    "$$\n",
    "\n",
    "The $x$-intercept is\n",
    "\n",
    "$$\n",
    "0 = \\left( \\frac{f(b) - f(a)}{b - a} \\right) (x - a) + f(a)\n",
    "\\Rightarrow\n",
    "m = a - \\left( \\frac{b - a}{f(b) - f(a)} \\right)f(a)\n",
    "$$\n",
    "\n",
    "Like the bisection method, choose the new interval:\n",
    "\n",
    "* $[a,m]$ if $f(a)f(m) < 0$\n",
    "* $[m,b]$ if $f(b)f(m) < 0$\n",
    "\n",
    "Let's write a function called `secant` which takes input parameters `f`, `a`, `b` and `N` which implements $N$ iterations of the secant method. We decide to return the $x$-intercept of the secant line of the $N$th interval."
   ]
  },
  {
   "cell_type": "code",
   "execution_count": 1,
   "id": "c1dd5b33-cbbf-41ad-af98-beb7f24c2d92",
   "metadata": {},
   "outputs": [],
   "source": [
    "def secant(f,a,b,N):\n",
    "    an = a\n",
    "    bn = b\n",
    "    for n in range(1,N+1):\n",
    "        m = an - (bn - an)/(f(bn) - f(an))*f(an)\n",
    "        if f(m)*f(an) < 0:\n",
    "            bn = m\n",
    "        elif f(m)*f(bn) < 0:\n",
    "            an = m\n",
    "        else:\n",
    "            print(\"Secant methods fails.\")\n",
    "            return None\n",
    "    m = an - (bn - an)/(f(bn) - f(an))*f(an)\n",
    "    return m"
   ]
  },
  {
   "cell_type": "code",
   "execution_count": 2,
   "id": "eca7797e-7464-4be9-8ac5-3db3ead46af7",
   "metadata": {},
   "outputs": [
    {
     "data": {
      "text/plain": [
       "1.3333333333333333"
      ]
     },
     "execution_count": 2,
     "metadata": {},
     "output_type": "execute_result"
    }
   ],
   "source": [
    "f = lambda x: x**2 - 2\n",
    "a = 0\n",
    "b = 2\n",
    "secant(f,a,b,1)"
   ]
  },
  {
   "cell_type": "markdown",
   "id": "a7ea3958-4cb1-401a-96a9-351635c350d9",
   "metadata": {},
   "source": [
    "## Example\n",
    "\n",
    "Approximate all solutions of $x^5 - x + 1 = 0$.\n",
    "\n",
    "* Since $f(x)$ has degree 5, there are at most 5 solutions.\n",
    "* It's an odd degree so there are either 1, 3 or 5 solutions.\n",
    "* $f(x) = x^5 - x + 1$ is continuous.\n",
    "* Solve $f'(x) = 0$ to find critical points. Since $f'(x) = 5x^4 - 1$ we have critical points at $x = \\pm (1/5)^{1/4}$.\n",
    "* Plug in $f((1/5)^{1/4}) = (1/5)^{5/4} - (1/5)^{1/4} + 1 > 0$ and $f(-(1/5)^{1/4}) = -(1/5)^{5/4} + (1/5)^{1/4} + 1 > 0$.\n",
    "* Plug in some points: $f(-1) = 1$, $f(0) = 1$, $f(1) = 1$, $f(-2) = -2^5+3 < 0$.\n",
    "* Since $f(x)$ is continuous and $f(-2)f(-1) < 0$, there is a solution in $[-2,-1]$.\n",
    "\n",
    "Put this all together. The function is increasing on $(-\\infty,-(1/5)^{1/4})$ and $((1/5)^{1/4},\\infty)$. The function is decreasing on $(-(1/5)^{1/4},(1/5)^{1/4})$. Both critical points are above $x$-axis. Therefore there is only one solution of $f(x)=0$ and it is located in the interval $[-2,-1]$.\n",
    "\n",
    "Approximate the solution with the secant method."
   ]
  },
  {
   "cell_type": "code",
   "execution_count": 3,
   "id": "bc4287bb-6c0c-422c-b2bb-d26b69b49de0",
   "metadata": {},
   "outputs": [
    {
     "data": {
      "text/plain": [
       "-1.1567791679122"
      ]
     },
     "execution_count": 3,
     "metadata": {},
     "output_type": "execute_result"
    }
   ],
   "source": [
    "f = lambda x: x**5 - x + 1\n",
    "a = -2\n",
    "b = -1\n",
    "secant(f,a,b,10)"
   ]
  }
 ],
 "metadata": {
  "kernelspec": {
   "display_name": "Python 3 (ipykernel)",
   "language": "python",
   "name": "python3"
  },
  "language_info": {
   "codemirror_mode": {
    "name": "ipython",
    "version": 3
   },
   "file_extension": ".py",
   "mimetype": "text/x-python",
   "name": "python",
   "nbconvert_exporter": "python",
   "pygments_lexer": "ipython3",
   "version": "3.9.7"
  }
 },
 "nbformat": 4,
 "nbformat_minor": 5
}
