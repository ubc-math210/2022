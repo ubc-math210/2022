{
 "cells": [
  {
   "cell_type": "markdown",
   "id": "1c4f9e79-d530-4cba-ad7b-a0f6a5f1f622",
   "metadata": {
    "tags": []
   },
   "source": [
    "# MATH 210 Introduction to Mathematical Computing\n",
    "\n",
    "## January 31, 2022\n",
    "\n",
    "* Recap of Python we've learned so far\n",
    "* Sequences\n",
    "* Monotone Convergence Theorem\n",
    "* Examples"
   ]
  },
  {
   "cell_type": "markdown",
   "id": "c8566650-3c4a-4dcc-b6e4-95ff52ef6822",
   "metadata": {},
   "source": [
    "## Python we've learned so far\n",
    "\n",
    "### Numbers and Variables\n",
    "\n",
    "* There are 3 main numeric types: integers, floats and complex numbers\n",
    "* Assign values to variables using the `=` operator\n",
    "* Check the type using the `type` function\n",
    "* We have the usual arithmetic operators: `+`, `-`, `*`, `**`, `/`\n",
    "\n",
    "### Sequence Types\n",
    "\n",
    "* There are 3 main sequence types: lists, tuples and range objects\n",
    "* Square brackets `[ ... ]` is the syntax for lists\n",
    "* Round parentheses `( ... )` is the syntax for tuples\n",
    "* We almost always use lists instead of tuples\n",
    "* Use `range` in list comprehensions and for loops\n",
    "* Construct lists with list comprehensions\n",
    "* Access entry at index `n` in a list `x` using the syntax `x[n]`\n",
    "\n",
    "### Functions\n",
    "\n",
    "* There are builtin functions ready to use: `sum`, `len`, `type`, `max`, `min`\n",
    "* We create our own functions with `def` keyword and function construction\n",
    "* Indentation defines the body of the function\n",
    "* `return` keyword identifies the output value\n",
    "* Text on the second line (after `def`) provides a documentation string\n",
    "* Use the `lambda` keyword to define functions in a single line \n",
    "\n",
    "### Loops\n",
    "\n",
    "* `for` loops execute a block of code repeatedly for each entry in a sequence\n",
    "* We can use `for` loops to construct lists\n",
    "* We can use `for` loops to compute a sum\n",
    "* Indentation defines the body of the loop\n",
    "\n",
    "### Logic\n",
    "\n",
    "* There are 2 boolean values: `True` and `False`\n",
    "* We have the usual comparison operators: `>`, `<`, `==`, `<=`, `>=`, `!=`\n",
    "* We use `if` statements to execute different blocks of code depending on conditions\n",
    "* Indentation defines the body of each part of an `if` statement"
   ]
  },
  {
   "cell_type": "markdown",
   "id": "ad5cdfd2-0c98-4f4b-a2c1-c906bf34ed3f",
   "metadata": {},
   "source": [
    "## Sequences\n",
    "\n",
    "In mathematics, a **sequence** is an infinite list of numbers indexed by integers $\\{ a_n \\}_{n=1}^{\\infty}$. A sequence can be given by an explicit formula such as\n",
    "\n",
    "$$\n",
    "a_n = \\left( 1 + \\frac{1}{n} \\right)^n\n",
    "$$\n",
    "\n",
    "A sequence can also be given by a recursive formula such as\n",
    "\n",
    "$$\n",
    "a_n = \\sqrt{2 + a_{n-1}} \\ , \\ a_0 = 1\n",
    "$$"
   ]
  },
  {
   "cell_type": "markdown",
   "id": "4c00519e-2f59-4182-b3b0-c510572595fd",
   "metadata": {},
   "source": [
    "We can use a `for` loop in Python to construct the values $a_n$.\n",
    "\n",
    "A sequence $\\{ a_n \\}_{n=1}^{\\infty}$ **converges** to a value $L$ if the values $a_n$ gets infinitely close to $L$ as $n$ goes to $\\infty$ and we write\n",
    "\n",
    "$$\n",
    "\\lim_{n \\to \\infty} a_n = L\n",
    "$$"
   ]
  },
  {
   "cell_type": "markdown",
   "id": "bd027a59-92a5-4d24-b6ca-d51f3536b0fc",
   "metadata": {},
   "source": [
    "Idea: given a sequence $\\{ a_n \\}$ we want to show that it converges and then compute $L$ (or show it diverges)."
   ]
  },
  {
   "cell_type": "markdown",
   "id": "e61e298f-0621-485a-8be6-9df2bd6de018",
   "metadata": {},
   "source": [
    "## Increasing and Decreasing\n",
    "\n",
    "A sequence $\\{ a_n \\}$ is **increasing** if  $a_n \\leq a_{n+1}$ for all $n$, and **strictly increasing** if $a_n < a_{n+1}$.\n",
    "\n",
    "A sequence $\\{ a_n \\}$ is **decreasing** if  $a_n \\geq a_{n+1}$ for all $n$, and **strictly decreasing** if $a_n > a_{n+1}$.\n",
    "\n",
    "A sequence is **monotonic** if it is either increasing or decreasing (strictly or not).\n",
    "\n",
    "A sequence is **bounded** if there exists numbers $K$ and $L$ such that $K \\leq a_n \\leq L$ for all $n$."
   ]
  },
  {
   "cell_type": "markdown",
   "id": "ea5f5319-2c4e-4add-b3a3-9a770dfbc538",
   "metadata": {},
   "source": [
    "## Monotone Convergence Theorem\n",
    "\n",
    "If a sequence is monotonic and bounded then it converges."
   ]
  },
  {
   "cell_type": "markdown",
   "id": "4c952d69-529f-4681-a546-3ea2a0e2c00a",
   "metadata": {},
   "source": [
    "## Examples\n",
    "\n",
    "1. Show that the sequence $a_n = \\sqrt{2 + a_{n-1}} \\ , \\ a_0 = 1$ converges.\n",
    "2. Approximate the limit $L$.\n",
    "3. Prove the exact value of $L$."
   ]
  },
  {
   "cell_type": "markdown",
   "id": "779b793a-e3f5-4060-9c12-fcbf0a5a13fc",
   "metadata": {},
   "source": [
    "Mathematical induction:\n",
    "\n",
    "Step 1 (Base case): $a_0 < 2$\n",
    "\n",
    "Step 2 (Induction step): Assume $a_n < 2$. Then $a_{n+1} = \\sqrt{2 + a_n} < \\sqrt{2 + 2} = 2$.\n",
    "\n",
    "This shows that the sequence is bounded above by 2.\n",
    "\n",
    "Now let's show the sequence is strictly increasing.\n",
    "\n",
    "Mathematical induction:\n",
    "\n",
    "Step 1 (Base case): $a_0 = 1$ and $a_1 = \\sqrt{3} > 1$\n",
    "\n",
    "Step 2 (Induction step): Assume $a_n < a_{n+1}$. Then $a_{n+2} = \\sqrt{a_{n+1} + 2} > \\sqrt{a_n + 2} = a_{n+1}$.\n",
    "\n",
    "Therefore the sequence is strictly increasing.\n",
    "\n",
    "Now let's approximate the limit $L$."
   ]
  },
  {
   "cell_type": "code",
   "execution_count": 1,
   "id": "a74249d0-bb1c-4290-9282-0432174b7af5",
   "metadata": {},
   "outputs": [],
   "source": [
    "x = [1]\n",
    "steps = 10\n",
    "for n in range(0,steps):\n",
    "    x.append((2 + x[n])**0.5)"
   ]
  },
  {
   "cell_type": "code",
   "execution_count": 2,
   "id": "63e8af25-8be7-4f46-88f0-3f7c58feb811",
   "metadata": {},
   "outputs": [
    {
     "data": {
      "text/plain": [
       "[1,\n",
       " 1.7320508075688772,\n",
       " 1.9318516525781366,\n",
       " 1.9828897227476208,\n",
       " 1.995717846477207,\n",
       " 1.9989291749527314,\n",
       " 1.9997322758191236,\n",
       " 1.9999330678348022,\n",
       " 1.9999832668887012,\n",
       " 1.9999958167178002,\n",
       " 1.9999989541791767]"
      ]
     },
     "execution_count": 2,
     "metadata": {},
     "output_type": "execute_result"
    }
   ],
   "source": [
    "x"
   ]
  },
  {
   "cell_type": "markdown",
   "id": "1cc41e69-ba99-49f3-b65d-113898f6d68b",
   "metadata": {},
   "source": [
    "Finally, let's prove the limit is $L=2$. The equation $a_{n+1} = \\sqrt{a_n + 2}$ implies the limit satisfies\n",
    "\n",
    "\\begin{align*}\n",
    "\\lim_{n \\to \\infty} a_{n+1} &= \\lim_{n \\to \\infty} \\sqrt{a_n + 2} \\\\\n",
    "L &= \\sqrt{L + 2} \\\\\n",
    "L^2 &= L + 2 \\\\\n",
    "L^2 - L - 2 &= 0 \\\\\n",
    "(L - 2)(L + 1) &= 0\n",
    "\\end{align*}\n",
    "\n",
    "Therefore $L=2$."
   ]
  }
 ],
 "metadata": {
  "kernelspec": {
   "display_name": "Python 3 (ipykernel)",
   "language": "python",
   "name": "python3"
  },
  "language_info": {
   "codemirror_mode": {
    "name": "ipython",
    "version": 3
   },
   "file_extension": ".py",
   "mimetype": "text/x-python",
   "name": "python",
   "nbconvert_exporter": "python",
   "pygments_lexer": "ipython3",
   "version": "3.9.7"
  }
 },
 "nbformat": 4,
 "nbformat_minor": 5
}
