{
 "cells": [
  {
   "cell_type": "markdown",
   "id": "07f62bc0-54d8-419b-9a86-439dcf63548b",
   "metadata": {},
   "source": [
    "# MATH 210 Introduction to Mathematical Computing\n",
    "\n",
    "## March 7, 2022\n",
    "\n",
    "* Trapezoid Rule\n",
    "* Error Formula\n",
    "* Examples"
   ]
  },
  {
   "cell_type": "code",
   "execution_count": 1,
   "id": "56db9b43-e3ca-411c-a614-126a9d0c636a",
   "metadata": {},
   "outputs": [],
   "source": [
    "import numpy as np\n",
    "import matplotlib.pyplot as plt"
   ]
  },
  {
   "cell_type": "markdown",
   "id": "1a07fa2a-dcea-4d6f-810b-23082aed9424",
   "metadata": {},
   "source": [
    "## Trapezoid Rule"
   ]
  },
  {
   "cell_type": "markdown",
   "id": "93ea8a24-b95b-4b70-9c8e-310513bb695c",
   "metadata": {},
   "source": [
    "The trapezoid rule on $N$ subintervals is\n",
    "\n",
    "$$\n",
    "\\int_a^b f(x) \\, dx \\approx \\sum_{n=1}^N \\left( \\frac{f(x_n) + f(x_{n-1})}{2} \\right) (x_n - x_{n-1})\n",
    "$$\n",
    "\n",
    "Note that the trapezoid rule is the average of the right and left Riemann sums.\n",
    "\n",
    "Write a function called `trapz` which takes input parameters `f`, `a`, `b` and `N`, and returns the trapezoid rule approximation on $N$ subintervals of equal length."
   ]
  },
  {
   "cell_type": "code",
   "execution_count": 2,
   "id": "35db4d14-b9e5-4f52-8d34-cfa215639363",
   "metadata": {},
   "outputs": [],
   "source": [
    "def trapz(f,a,b,N):\n",
    "    x = np.linspace(a,b,N+1)\n",
    "    y = f(x)\n",
    "    return (b-a)/N*np.sum(y[1:] + y[:-1])/2"
   ]
  },
  {
   "cell_type": "markdown",
   "id": "c3027893-06bd-4106-ae32-b2a11527328c",
   "metadata": {},
   "source": [
    "## Example\n",
    "\n",
    "Test our function using an example where we know the exact value:\n",
    "\n",
    "$$\n",
    "\\int_0^1 \\frac{1}{1 + x^2} dx = \\left. \\arctan(x) \\right|_0^1 = \\arctan(1) - \\arctan(0) = \\frac{\\pi}{4}\n",
    "$$"
   ]
  },
  {
   "cell_type": "code",
   "execution_count": 3,
   "id": "1ca5ec9a-69dc-4280-90d6-d79b26562a5e",
   "metadata": {},
   "outputs": [
    {
     "name": "stdout",
     "output_type": "stream",
     "text": [
      "0.7853939967307819\n"
     ]
    }
   ],
   "source": [
    "f = lambda x: 1/(1 + x**2)\n",
    "a = 0; b = 1; N = 100;\n",
    "I = trapz(f,a,b,N)\n",
    "print(I)"
   ]
  },
  {
   "cell_type": "code",
   "execution_count": 4,
   "id": "18319c9c-06db-42c8-be1e-9e7cd2c4dd08",
   "metadata": {},
   "outputs": [
    {
     "data": {
      "text/plain": [
       "0.7853981633974483"
      ]
     },
     "execution_count": 4,
     "metadata": {},
     "output_type": "execute_result"
    }
   ],
   "source": [
    "np.pi/4"
   ]
  },
  {
   "cell_type": "code",
   "execution_count": 5,
   "id": "3a6ebeed-4226-496a-91d0-97a4d807f984",
   "metadata": {},
   "outputs": [
    {
     "data": {
      "image/png": "[encoded data removed]",
      "text/plain": [
       "<Figure size 432x288 with 1 Axes>"
      ]
     },
     "metadata": {
      "needs_background": "light"
     },
     "output_type": "display_data"
    }
   ],
   "source": [
    "x = np.linspace(0,1,100)\n",
    "y = 1/(1 + x**2)\n",
    "plt.plot(x,y)\n",
    "plt.show()"
   ]
  },
  {
   "cell_type": "markdown",
   "id": "56f6db23-d5a1-445f-8b7d-c4f275432dc0",
   "metadata": {},
   "source": [
    "## Example\n",
    "\n",
    "Is the trapezoid rule approximation for $\\int_1^2 x^x dx$ an overestimate or underestimate?\n",
    "\n",
    "It's an overestimate since $f(x) = x^x$ is concave up."
   ]
  },
  {
   "cell_type": "code",
   "execution_count": 6,
   "id": "668d58c1-aff1-4e3f-89b1-2eb9ddf6dedf",
   "metadata": {},
   "outputs": [
    {
     "data": {
      "image/png": "[encoded data removed]",
      "text/plain": [
       "<Figure size 432x288 with 1 Axes>"
      ]
     },
     "metadata": {
      "needs_background": "light"
     },
     "output_type": "display_data"
    }
   ],
   "source": [
    "x = np.linspace(1,2,100)\n",
    "y = x**x\n",
    "plt.plot(x,y)\n",
    "plt.show()"
   ]
  },
  {
   "cell_type": "markdown",
   "id": "da429e7e-e307-439d-a7a4-303cf83f7d04",
   "metadata": {},
   "source": [
    "## Error Formula"
   ]
  },
  {
   "cell_type": "markdown",
   "id": "bab06624-d69d-40a9-8d12-e1d9362be521",
   "metadata": {},
   "source": [
    "Introduce notation for the trapezoid rule on $N$ subintervals of equal length\n",
    "\n",
    "$$\n",
    "T_N(f) = \\frac{b - a}{2N} \\sum_{n=1}^N (f(x_n) + f(x_{n-1}))\n",
    "$$\n",
    "\n",
    "The error bound for the trapezoid rule is\n",
    "\n",
    "$$\n",
    "E_N^T(f) = \\left| \\int_a^b f(x)dx - T_N(f) \\right| \\leq \\frac{(b-a)^3}{12N^2}K_2\n",
    "$$\n",
    "\n",
    "where $|f''(x)| \\leq K_2$ for all $x \\in [a,b]$."
   ]
  },
  {
   "cell_type": "markdown",
   "id": "fb4d931e-c3b0-4956-a3aa-5042d9d3af52",
   "metadata": {},
   "source": [
    "## Example\n",
    "\n",
    "Find $N$ which guarantees the error for the trapezoid rule approximation of\n",
    "\n",
    "$$\n",
    "\\int_e^{e^2} \\ln(\\ln(x)) \\, dx\n",
    "$$\n",
    "\n",
    "is less than 0.001. Is $T_N(f)$ an overestimate or underestimate?\n",
    "\n",
    "Compute\n",
    "\n",
    "$$\n",
    "f'(x) = \\frac{1}{x \\ln(x)}\n",
    "$$\n",
    "\n",
    "Now compute\n",
    "\n",
    "$$\n",
    "f''(x) = -\\frac{\\ln(x) + 1}{(x \\ln(x))^2}\n",
    "$$\n",
    "\n",
    "Since both $x$ and $\\ln(x)$ are increasing:\n",
    "\n",
    "* $\\ln(x) + 1 \\leq 3$ for $x \\in [e,e^2]$\n",
    "* $1/(x \\ln(x))^2 \\leq 1/e^2$ for $x \\in [e,e^2]$\n",
    "\n",
    "Therefore\n",
    "\n",
    "$$\n",
    "| f''(x) | = \\frac{\\ln(x) + 1}{(x \\ln(x))^2} \\leq \\frac{3}{e^2}\n",
    "$$\n"
   ]
  },
  {
   "cell_type": "code",
   "execution_count": 7,
   "id": "d8d2c0e6-4aaa-4667-9a74-1d08b29e620d",
   "metadata": {},
   "outputs": [
    {
     "data": {
      "text/plain": [
       "58.71632169148998"
      ]
     },
     "execution_count": 7,
     "metadata": {},
     "output_type": "execute_result"
    }
   ],
   "source": [
    "a = np.exp(1); b = np.exp(2); E = 0.001; K2 = 3/np.exp(2)\n",
    "N = np.sqrt((b-a)**3/12/E*K2)\n",
    "N"
   ]
  },
  {
   "cell_type": "code",
   "execution_count": 8,
   "id": "341b703c-32a8-493f-9515-c6868f969f56",
   "metadata": {},
   "outputs": [
    {
     "name": "stdout",
     "output_type": "stream",
     "text": [
      "2.0624300903751123\n"
     ]
    }
   ],
   "source": [
    "f = lambda x:np.log(np.log(x))\n",
    "a = np.exp(1); b = np.exp(2); N = 59;\n",
    "I = trapz(f,a,b,N)\n",
    "print(I)"
   ]
  },
  {
   "cell_type": "markdown",
   "id": "376522d9-86c5-4415-9337-7be625c3d6bd",
   "metadata": {},
   "source": [
    "We could also plot the function to see the maximum value is at the left endpoint $x=e$."
   ]
  },
  {
   "cell_type": "code",
   "execution_count": 9,
   "id": "40b9db52-d94a-4281-8e13-1ed84bd9c2be",
   "metadata": {},
   "outputs": [
    {
     "data": {
      "image/png": "[encoded data removed]",
      "text/plain": [
       "<Figure size 432x288 with 1 Axes>"
      ]
     },
     "metadata": {
      "needs_background": "light"
     },
     "output_type": "display_data"
    }
   ],
   "source": [
    "x = np.linspace(np.exp(1),np.exp(2),100)\n",
    "y = -(np.log(x) + 1)/(x*np.log(x))**2\n",
    "plt.plot(x,y)\n",
    "plt.show()"
   ]
  },
  {
   "cell_type": "code",
   "execution_count": 10,
   "id": "f15e9fd3-685d-4c2d-805b-1192de6cb4a9",
   "metadata": {},
   "outputs": [
    {
     "data": {
      "text/plain": [
       "0.40600584970983805"
      ]
     },
     "execution_count": 10,
     "metadata": {},
     "output_type": "execute_result"
    }
   ],
   "source": [
    "3/np.exp(2)"
   ]
  },
  {
   "cell_type": "code",
   "execution_count": 11,
   "id": "936832b4-27ba-4e5c-9fc8-daf7311ce977",
   "metadata": {},
   "outputs": [
    {
     "data": {
      "text/plain": [
       "0.2706705664732254"
      ]
     },
     "execution_count": 11,
     "metadata": {},
     "output_type": "execute_result"
    }
   ],
   "source": [
    "2/np.exp(2)"
   ]
  }
 ],
 "metadata": {
  "kernelspec": {
   "display_name": "Python 3 (ipykernel)",
   "language": "python",
   "name": "python3"
  },
  "language_info": {
   "codemirror_mode": {
    "name": "ipython",
    "version": 3
   },
   "file_extension": ".py",
   "mimetype": "text/x-python",
   "name": "python",
   "nbconvert_exporter": "python",
   "pygments_lexer": "ipython3",
   "version": "3.9.7"
  }
 },
 "nbformat": 4,
 "nbformat_minor": 5
}
