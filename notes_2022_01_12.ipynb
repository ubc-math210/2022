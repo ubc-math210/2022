{
 "cells": [
  {
   "cell_type": "markdown",
   "id": "89e56141-d6d9-4a2b-8394-fbc4984a66a8",
   "metadata": {},
   "source": [
    "# MATH 210 Introduction to Mathematical Computing\n",
    "\n",
    "## January 12, 2022\n",
    "\n",
    "* Jupyter notebooks: cells and modes\n",
    "* Markdown: headers, text formatting, links and images"
   ]
  },
  {
   "cell_type": "markdown",
   "id": "7aafb189-b02d-4b5f-b39d-ff079855ccbb",
   "metadata": {},
   "source": [
    "## Jupyter notebooks\n",
    "\n",
    "A Jupyter notebook is a `.ipynb` file and it contains cells. There are (at least) 2 kinds of cells: markdown cells and code cells.\n",
    "\n",
    "We write text, markdown, LaTeX and HTML in markdown cells and we write Python code in code cells. Select a cell and look in the toolbar to see what kind of cell it is.\n",
    "\n",
    "For example, this cell is a markdown cell and the cell below is a code cell."
   ]
  },
  {
   "cell_type": "code",
   "execution_count": 1,
   "id": "6b57933b-a40b-469d-9c06-1d8443214d3d",
   "metadata": {},
   "outputs": [
    {
     "data": {
      "text/plain": [
       "3"
      ]
     },
     "execution_count": 1,
     "metadata": {},
     "output_type": "execute_result"
    }
   ],
   "source": [
    "1 + 2"
   ]
  },
  {
   "cell_type": "markdown",
   "id": "f5ee4031-707c-4ffc-9216-d2ba8483a113",
   "metadata": {},
   "source": [
    "There are 2 modes in Jupyter notebook: command mode and edit mode.\n",
    "\n",
    "We enter commands to edit the cells in a notebook in command mode. For example, we can add cells, cut cells and paste cells in command mode, and we edit the contents of cells in edit mode.\n",
    "\n",
    "When the cursor is visible in a cell then we are in edit mode. Switch to command mode by pressing `ESC`. Switch to edit mode by pressing `ENTER` (or double click a cell).\n",
    "\n",
    "There are several keyboard shortcuts in command mode:\n",
    "\n",
    "* `x` to cut a cell\n",
    "* `c` to copy a cell\n",
    "* `v` to paste a cell\n",
    "* `a` to add a cell above\n",
    "*`b` to add a cell below\n",
    "* `m` to switch to a markdown cell\n",
    "* `y` to switch to a code cell"
   ]
  },
  {
   "cell_type": "markdown",
   "id": "400f0322-4cc8-4735-a863-1df12420a00d",
   "metadata": {},
   "source": [
    "## Markdown\n",
    "\n",
    "Markdown is a simple text-to-HTML language.\n",
    "\n",
    "Create headers using `#`:\n",
    "\n",
    "# Header 1\n",
    "\n",
    "## Header 2\n",
    "\n",
    "### Header 3"
   ]
  },
  {
   "cell_type": "markdown",
   "id": "30eab821-7c3f-4e4e-8d39-f5e9f18ee759",
   "metadata": {},
   "source": [
    "Create numbered lists:\n",
    "\n",
    "1. Number theory\n",
    "2. Complex analysis\n",
    "3. Topology\n",
    "4. Group theory"
   ]
  },
  {
   "cell_type": "markdown",
   "id": "320dbda5-4e7c-4b00-9643-185febf1238a",
   "metadata": {},
   "source": [
    "Create unordered lists:\n",
    "\n",
    "* Emmy Noether\n",
    "* Srinivasa Ramanujan\n",
    "* Paul Erdos\n",
    "* Aryabhatta"
   ]
  },
  {
   "cell_type": "markdown",
   "id": "72c577a0-fe4b-467b-8e45-c4ac20dd9658",
   "metadata": {},
   "source": [
    "Create links with the syntax `[text](url)`. For example [UBC Mathematics](https://www.math.ubc.ca)."
   ]
  },
  {
   "cell_type": "markdown",
   "id": "2758706d-c533-4f95-9e49-258213fb7d99",
   "metadata": {},
   "source": [
    "Include images with the syntax `![text](url)`. For example:\n",
    "\n",
    "![UBC Math Department](https://www.math.ubc.ca/sites/default/files/styles/home_page_image/public/field_collections/Mathematics_Building_UBC_01.jpg?itok=9O7btG-g&timestamp=1611099133)"
   ]
  },
  {
   "cell_type": "markdown",
   "id": "fee68c64-ecd5-45a6-a694-566f08a8ec5d",
   "metadata": {},
   "source": [
    "Create a table:\n",
    "\n",
    "| Country | Capital |\n",
    "| :---: | :---: |\n",
    "| Canada | Ottawa |\n",
    "| Denmark | Copenhagen |\n",
    "| Netherlands | Amsterdam |\n",
    "| Sweden | Stockholm |\n",
    "| Chile | Santiago |\n",
    "| Malaysia | Kuala Lumpur |\n",
    "| Kenya | Nairobi |"
   ]
  },
  {
   "cell_type": "markdown",
   "id": "b2539651-81c8-4fc5-ac56-4f8de5525c0a",
   "metadata": {},
   "source": [
    "Format text such as **strong**, *emphasis*, `verbatim`. In summary:\n",
    "\n",
    "| Syntax | Format |\n",
    "| :---: | :---: |\n",
    "| `**strong**` | **strong** |\n",
    "| `*emphasis*` | *emphasis* |\n",
    "| ``` `verbatim` ``` | `verbatim` |"
   ]
  },
  {
   "cell_type": "markdown",
   "id": "db4cf9c6-7301-46f1-a935-c359723de771",
   "metadata": {},
   "source": [
    "One more image ...\n",
    "\n",
    "![Kittens 1](https://www.petmd.com/sites/default/files/petmd-kitten-facts.jpg)"
   ]
  }
 ],
 "metadata": {
  "kernelspec": {
   "display_name": "Python 3 (ipykernel)",
   "language": "python",
   "name": "python3"
  },
  "language_info": {
   "codemirror_mode": {
    "name": "ipython",
    "version": 3
   },
   "file_extension": ".py",
   "mimetype": "text/x-python",
   "name": "python",
   "nbconvert_exporter": "python",
   "pygments_lexer": "ipython3",
   "version": "3.9.7"
  }
 },
 "nbformat": 4,
 "nbformat_minor": 5
}
