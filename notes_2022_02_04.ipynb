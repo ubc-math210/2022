{
 "cells": [
  {
   "cell_type": "markdown",
   "id": "e271c3b8-4188-4725-b3ed-4efb4dc4c63d",
   "metadata": {},
   "source": [
    "# MATH 210 Introduction to Mathematical Computing\n",
    "\n",
    "## February 4, 2022\n",
    "\n",
    "* Taylor series\n",
    "* Taylor's Theorem\n",
    "* Examples"
   ]
  },
  {
   "cell_type": "markdown",
   "id": "512c0a17-bc64-4f86-a701-eb2d21cd4fd7",
   "metadata": {},
   "source": [
    "## Taylor series\n",
    "\n",
    "Let $f(x)$ be an infinitely differentiable function. The [Taylor series](https://en.wikipedia.org/wiki/Taylor_series) of $f(x)$ at $x=a$ is\n",
    "\n",
    "$$\n",
    "f(x) = \\sum_{k=0}^{\\infty} \\frac{f^{(k)}(a)}{k!} (x - a)^k\n",
    "$$\n",
    "\n",
    "where $f^{(k)}$ is the $k$th derivative."
   ]
  },
  {
   "cell_type": "markdown",
   "id": "341544e6-cc6a-43ed-9a6e-0e75fdd0868a",
   "metadata": {},
   "source": [
    "We use Taylor series to approximate $f(x)$. Fore example, the Taylor series of $e^x$ is\n",
    "\n",
    "$$\n",
    "e^x = \\sum_{k=0}^{\\infty} \\frac{x^k}{k!}\n",
    "$$\n",
    "\n",
    "and we can approximate $e$ with a partial sum\n",
    "\n",
    "$$\n",
    "e \\approx \\sum_{k=0}^{N} \\frac{1}{k!}\n",
    "$$"
   ]
  },
  {
   "cell_type": "code",
   "execution_count": 1,
   "id": "07ddc796-ebd4-4326-a896-0b29dbb8cf5d",
   "metadata": {},
   "outputs": [
    {
     "data": {
      "text/plain": [
       "2.7166666666666663"
      ]
     },
     "execution_count": 1,
     "metadata": {},
     "output_type": "execute_result"
    }
   ],
   "source": [
    "1 + 1 + 1/2 + 1/6 + 1/24 + 1/120"
   ]
  },
  {
   "cell_type": "markdown",
   "id": "f3dda880-692e-40ea-913a-f6316c2cc8bf",
   "metadata": {},
   "source": [
    "The natural question arises: how good is our approximation?\n",
    "\n",
    "The answer is given by Taylor's Theorem!"
   ]
  },
  {
   "cell_type": "markdown",
   "id": "762efeb6-f0d1-4046-91bb-1ed27cd086f6",
   "metadata": {},
   "source": [
    "## Taylor's Theorem\n",
    "\n",
    "Let $f(x)$ be a $n+1$ times differentiable function at $x=a$ (ie. $f'(a),f''(a),\\dots,f^{(n+1)}(a)$ exist). Let $b$ be a number. Then there is a number $c$ between $a$ and $b$ such that\n",
    "\n",
    "$$\n",
    "f(b) = \\sum_{k=0}^n \\frac{f^{(k)}(a)}{k!} (b-a)^k + \\frac{f^{(n+1)}(c)}{(n+1)!}(b-a)^{n+1}\n",
    "$$\n",
    "\n",
    "Note that the partial sum is usually called the Taylor polynomial of degree $n$\n",
    "\n",
    "$$\n",
    "P_n(x) = \\sum_{k=0}^n \\frac{f^{(k)}(a)}{k!} (x-a)^k\n",
    "$$\n",
    "\n",
    "See [Wikipedia: Taylor's Theorem](https://en.wikipedia.org/wiki/Taylor%27s_theorem)."
   ]
  },
  {
   "cell_type": "markdown",
   "id": "003c7ed2-258f-4de7-957f-02f0123539b2",
   "metadata": {},
   "source": [
    "The bid idea here is that we can use a partial sum of the Taylor series to approximate the value $f(b)$ and the error is given by an explicit formula\n",
    "\n",
    "$$\n",
    "E = \\frac{f^{(n+1)}(c)}{(n+1)!}(b-a)^{n+1}\n",
    "$$"
   ]
  },
  {
   "cell_type": "markdown",
   "id": "56c8a6ad-aa9d-4237-a9ea-2069eebb78f9",
   "metadata": {},
   "source": [
    "for some value $c$ between $a$ and $b$. We only know $c$ exists but we don't know what it is! We don't know the error exactly otherwise we would know the exact value of $f(b)$."
   ]
  },
  {
   "cell_type": "markdown",
   "id": "66a45037-831b-4eb8-aebf-785f0fdf4687",
   "metadata": {},
   "source": [
    "## Example\n",
    "\n",
    "Find a integer $n$ such that the degree $n$ Taylor polynomial of $e^x$ at $x=0$ gives an approximate of $e$ with error less than 0.0001. (Assume we know $e < 3$.)\n",
    "\n",
    "In this example, $f(x) = e^x$, $a = 0$, $b = 1$ so\n",
    "\n",
    "$$\n",
    "e = \\sum_{k=0}^n \\frac{1}{k!} (1-0)^k + \\frac{f^{(n+1)}(c)}{(n+1)!}(1-0)^{n+1}\n",
    "$$\n",
    "\n",
    "$$\n",
    "e = \\sum_{k=0}^n \\frac{1}{k!} + \\frac{e^c}{(n+1)!}\n",
    "$$\n",
    "\n",
    "We want\n",
    "\n",
    "$$\n",
    "\\frac{e^c}{(n+1)!} < 0.0001\n",
    "$$\n",
    "\n",
    "We know $1 \\leq e^c \\leq e$ and so $e^c < 3$ therefore we need to find $n$ such that\n",
    "\n",
    "$$\n",
    "\\frac{3}{(n+1)!} < 0.0001\n",
    "$$\n",
    "\n",
    "\n"
   ]
  },
  {
   "cell_type": "markdown",
   "id": "530a6be4-834c-417c-894b-60af05d5e2c2",
   "metadata": {},
   "source": [
    "Use trial and error:"
   ]
  },
  {
   "cell_type": "code",
   "execution_count": 2,
   "id": "887faf16-0911-413e-b0aa-910f25478de4",
   "metadata": {},
   "outputs": [],
   "source": [
    "def factorial(N):\n",
    "    result = 1\n",
    "    for n in range(2,N+1):\n",
    "        result = result*n\n",
    "    return result"
   ]
  },
  {
   "cell_type": "code",
   "execution_count": 3,
   "id": "e5e6ce43-cbe5-4011-be0b-71ac9d2cabaf",
   "metadata": {},
   "outputs": [
    {
     "data": {
      "text/plain": [
       "True"
      ]
     },
     "execution_count": 3,
     "metadata": {},
     "output_type": "execute_result"
    }
   ],
   "source": [
    "n = 7\n",
    "3/factorial(n + 1) < 0.0001"
   ]
  },
  {
   "cell_type": "code",
   "execution_count": 4,
   "id": "fc18cfc7-353e-4368-97bc-20c8349ed9a9",
   "metadata": {},
   "outputs": [
    {
     "data": {
      "text/plain": [
       "2.7182539682539684"
      ]
     },
     "execution_count": 4,
     "metadata": {},
     "output_type": "execute_result"
    }
   ],
   "source": [
    "sum([1/factorial(k) for k in range(0,8)])"
   ]
  },
  {
   "cell_type": "markdown",
   "id": "f21dc765-6b26-4195-b597-d05a34c1e7da",
   "metadata": {},
   "source": [
    "What about error less than $10^{-10}$?"
   ]
  },
  {
   "cell_type": "code",
   "execution_count": 5,
   "id": "0c86834e-28e5-4306-bdca-324e81ffa485",
   "metadata": {},
   "outputs": [
    {
     "data": {
      "text/plain": [
       "True"
      ]
     },
     "execution_count": 5,
     "metadata": {},
     "output_type": "execute_result"
    }
   ],
   "source": [
    "n = 13\n",
    "3/factorial(n + 1) < 1e-10"
   ]
  },
  {
   "cell_type": "code",
   "execution_count": 6,
   "id": "7ba2afc7-fb22-48c0-8d8a-4bada0b84585",
   "metadata": {},
   "outputs": [
    {
     "data": {
      "text/plain": [
       "2.7182818284467594"
      ]
     },
     "execution_count": 6,
     "metadata": {},
     "output_type": "execute_result"
    }
   ],
   "source": [
    "sum([1/factorial(k) for k in range(0,n+1)])"
   ]
  },
  {
   "cell_type": "code",
   "execution_count": 7,
   "id": "8fb1fe1f-0fc2-4459-acbd-0ae7096969dc",
   "metadata": {},
   "outputs": [],
   "source": [
    "import numpy as np"
   ]
  },
  {
   "cell_type": "code",
   "execution_count": 8,
   "id": "e625f36e-c1da-4619-a48a-c53c4bf370d0",
   "metadata": {},
   "outputs": [
    {
     "data": {
      "text/plain": [
       "2.718281828459045"
      ]
     },
     "execution_count": 8,
     "metadata": {},
     "output_type": "execute_result"
    }
   ],
   "source": [
    "np.exp(1)"
   ]
  }
 ],
 "metadata": {
  "kernelspec": {
   "display_name": "Python 3 (ipykernel)",
   "language": "python",
   "name": "python3"
  },
  "language_info": {
   "codemirror_mode": {
    "name": "ipython",
    "version": 3
   },
   "file_extension": ".py",
   "mimetype": "text/x-python",
   "name": "python",
   "nbconvert_exporter": "python",
   "pygments_lexer": "ipython3",
   "version": "3.9.7"
  }
 },
 "nbformat": 4,
 "nbformat_minor": 5
}
