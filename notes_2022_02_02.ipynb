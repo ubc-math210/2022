{
 "cells": [
  {
   "cell_type": "markdown",
   "id": "68679d22-aa98-450b-bf4e-04238bfceeec",
   "metadata": {},
   "source": [
    "# MATH 210 Introduction to Mathematical Computing\n",
    "\n",
    "## February 2, 2022\n",
    "\n",
    "* More examples of sequences"
   ]
  },
  {
   "cell_type": "markdown",
   "id": "fae9b741-bdaf-414f-8418-5059780fab41",
   "metadata": {},
   "source": [
    "## Example\n",
    "\n",
    "Consider the sequence given by the formula\n",
    "\n",
    "$$\n",
    "a_{n+1} = 1 + \\frac{1}{a_n} \\ , \\ a_0 = 2\n",
    "$$\n",
    "\n",
    "Let's compute a few values: $a_0=2$, $a_1 = 3/2$, $a_2 = 5/3$, $a_3 = 8/5$, $a_4 = 13/8$.\n",
    "\n",
    "The sequence is not monotonic but it looks like the subsequence of even terms $a_0,a_2$,$a_4$,$\\dots$ is decreasing and the subsequence of odd terms $a_1,a_3$,$a_5$,$\\dots$ is increasing. Let's consider the subsequence of even terms in the next example."
   ]
  },
  {
   "cell_type": "markdown",
   "id": "2629f3b9-9d40-486a-83c6-8a65f54c4abe",
   "metadata": {},
   "source": [
    "## Example\n",
    "\n",
    "Consider the sequence given by the formula\n",
    "\n",
    "$$\n",
    "b_{n+1} = 1 + \\frac{1}{1 + \\frac{1}{b_n}} \\ , \\ b_0 = 2\n",
    "$$\n",
    "\n",
    "### Show that the sequence is decreasing\n",
    "\n",
    "Base case: $b_0 = 2$ and $b_1 = 5/3$ therefore $b_0 > b_1$\n",
    "\n",
    "Induction step: Assume $b_n > b_{n+1}$. Then\n",
    "\n",
    "\\begin{align*}\n",
    "\\frac{1}{b_n} &< \\frac{1}{b_{n+1}} \\\\\n",
    "1+\\frac{1}{b_n} &< 1+\\frac{1}{b_{n+1}} \\\\\n",
    "1 + \\frac{1}{1+\\frac{1}{b_n}} &> 1 + \\frac{1}{1+\\frac{1}{b_{n+1}}} \\\\\n",
    "b_{n+1} &> b_{n+2}\n",
    "\\end{align*}\n",
    "\n",
    "By mathematical induction, the sequence is decreasing.\n",
    "\n",
    "### Show that the sequence is bounded\n",
    "\n",
    "Base case: $b_0 > 1$\n",
    "\n",
    "Induction step: Assume $b_n > 1$. Then\n",
    "\n",
    "$$\n",
    "b_{n+1} = 1 + \\frac{1}{1 + \\frac{1}{b_n}} > 1\n",
    "$$\n",
    "\n",
    "By mathematical induction, the sequence is bounded below by 1.\n",
    "\n",
    "### Conclusion\n",
    "\n",
    "The sequence is monotonic and bounded therefore the sequence converges to a limit $L$.\n",
    "\n",
    "### Approximate the limit"
   ]
  },
  {
   "cell_type": "code",
   "execution_count": 1,
   "id": "3d034834-0119-479e-add5-441910de48e5",
   "metadata": {},
   "outputs": [
    {
     "data": {
      "text/plain": [
       "[2,\n",
       " 1.5,\n",
       " 1.6666666666666665,\n",
       " 1.6,\n",
       " 1.625,\n",
       " 1.6153846153846154,\n",
       " 1.619047619047619,\n",
       " 1.6176470588235294,\n",
       " 1.6181818181818182,\n",
       " 1.6179775280898876,\n",
       " 1.6180555555555556]"
      ]
     },
     "execution_count": 1,
     "metadata": {},
     "output_type": "execute_result"
    }
   ],
   "source": [
    "N = 10\n",
    "seq = [2]\n",
    "for n in range(1,N+1):\n",
    "    seq.append(1 + 1/seq[-1])\n",
    "seq"
   ]
  },
  {
   "cell_type": "markdown",
   "id": "45931a1d-304c-4a15-9b99-3294814eb2ef",
   "metadata": {},
   "source": [
    "### Find the exact value of the limit\n",
    "\n",
    "The formula $b_{n+1} = 1 + \\frac{1}{1 + \\frac{1}{b_n}}$ gives the equation\n",
    "\n",
    "\\begin{align*}\n",
    "L &= 1 + \\frac{1}{1 + \\frac{1}{L}} \\\\\n",
    "L &= 1 + \\frac{L}{L + 1} \\\\\n",
    "L^2 - L - 1 &= 0\n",
    "\\end{align*}\n",
    "\n",
    "The quadratic formula gives us\n",
    "\n",
    "$$\n",
    "\\frac{1 + \\sqrt{5}}{2} , \\frac{1 - \\sqrt{5}}{2}\n",
    "$$\n",
    "\n",
    "Since $L > 0$ we have\n",
    "\n",
    "$$\n",
    "L = \\frac{1 + \\sqrt{5}}{2}\n",
    "$$"
   ]
  },
  {
   "cell_type": "code",
   "execution_count": 2,
   "id": "e16d5a1b-1713-4508-ba19-33c1b1230e18",
   "metadata": {},
   "outputs": [
    {
     "data": {
      "text/plain": [
       "1.618033988749895"
      ]
     },
     "execution_count": 2,
     "metadata": {},
     "output_type": "execute_result"
    }
   ],
   "source": [
    "(1 + 5**0.5)/2"
   ]
  },
  {
   "cell_type": "markdown",
   "id": "6742209c-97cb-48eb-974c-453653e6baf7",
   "metadata": {},
   "source": [
    "## Example\n",
    "\n",
    "Consider the sequence\n",
    "\n",
    "$$\n",
    "a_{n+1} = a_n - \\frac{a_n^2 - 2}{2a_n} \\ , \\ a_0 = 2\n",
    "$$\n",
    "\n",
    "1. Show the sequence converges.\n",
    "2. Approximate the limit.\n",
    "3. Find the exact value (if possible)."
   ]
  },
  {
   "cell_type": "markdown",
   "id": "9072f583-f261-4d7f-98bb-4ee7358d1f1d",
   "metadata": {},
   "source": [
    "Note that we can rewrite it as \n",
    "\n",
    "$$\n",
    "a_{n+1} = \\frac{a_n^2 + 2}{2 a_n}\n",
    "$$\n",
    "\n",
    "Let's compute a few terms: $a_0 = 2$, $a_1 = 3/2$, $a_2 = 17/12$. Looks like it's decreasing. It's easier to prove if we first show that the sequence is bounded below by $\\sqrt{2}$. This is a bit tricky and we don't need induction. We know\n",
    "\n",
    "\\begin{align*}\n",
    "(a_{n+1} - a_n)^2 &\\geq 0 \\\\\n",
    "a_{n+1}^2 - 2a_na_{n+1} + a_n^2 &\\geq 0 \\\\\n",
    "a_{n+1}^2 &\\geq 2a_na_{n+1} - a_n^2 \\\\\n",
    "a_{n+1}^2 - 2 &\\geq a_n - 2 + 2a_na_{n+1} - 2a_n^2 \\\\\n",
    "a_{n+1}^2 - 2 &\\geq a_n - 2 + 2a_n(a_{n+1} - a_n)\n",
    "\\end{align*}\n",
    "\n",
    "The right hand side of the last inequality equals 0 since\n",
    "\n",
    "\\begin{align*}\n",
    "a_n - 2 + 2a_n(a_{n+1} - a_n)\n",
    "&= a_n - 2 + 2a_n \\left( \\frac{a_n^2 + 2}{2 a_n} - a_n \\right) \\\\\n",
    "&= a_n - 2 + 2a_n \\left( \\frac{-a_n^2 + 2}{2 a_n} \\right) \\\\\n",
    "&= a_n - 2 - a_n^2 + 2 \\\\\n",
    "&= 0\n",
    "\\end{align*}\n",
    "\n",
    "Therefore $a_{n+1} \\geq \\sqrt{2}$ for any $n$.\n",
    "\n",
    "Finally, the sequence is decreasing since\n",
    "\n",
    "$$\n",
    "a_n - a_{n+1} = \\frac{a_n^2 - 2}{2a_n} \\geq 0\n",
    "$$\n",
    "\n",
    "since $a_n^2 \\geq 2$.\n",
    "\n",
    "**THIS IS WAY HARDER THAN I THOUGHT IT WOULD BE!!! I WILL NEVER ASK YOU TO PROVE THIS ON AN EXAM!!! THIS WILL BE MUCH EASIER TO SHOW WHEN WE REALIZE THIS IS NEWTON'S METHOD FOR F(X) = X^2 - 2!!! WE'LL LOOK AT THIS EXAMPLE AGAIN NEXT WEEK!!! I'M SORRY I MADE US DO THIS EXAMPLE!!!**\n",
    "\n",
    "Approximate the limit:"
   ]
  },
  {
   "cell_type": "code",
   "execution_count": 3,
   "id": "bd3c6474-e04d-4f67-8431-30edb4ae6901",
   "metadata": {},
   "outputs": [
    {
     "data": {
      "text/plain": [
       "[2,\n",
       " 1.5,\n",
       " 1.4166666666666667,\n",
       " 1.4142156862745099,\n",
       " 1.4142135623746899,\n",
       " 1.414213562373095]"
      ]
     },
     "execution_count": 3,
     "metadata": {},
     "output_type": "execute_result"
    }
   ],
   "source": [
    "N = 5\n",
    "seq = [2]\n",
    "for n in range(1,N+1):\n",
    "    seq.append((seq[-1]**2 + 2)/(2*seq[-1]))\n",
    "seq"
   ]
  },
  {
   "cell_type": "markdown",
   "id": "06f9c5c7-9ce5-4d81-adc1-38a44f8bbdcd",
   "metadata": {},
   "source": [
    "Let's find the exact value. The formula $a_{n+1} = \\frac{a_n^2 + 2}{2 a_n}$ gives us\n",
    "\n",
    "$$\n",
    "L = \\frac{L^2 + 2}{2 L}\n",
    "\\Rightarrow\n",
    "L^2 = 2\n",
    "$$\n",
    "\n",
    "therefore $L = \\sqrt{2}$."
   ]
  },
  {
   "cell_type": "markdown",
   "id": "61bf66e4-af97-454b-a2d4-8ab072e3b3ea",
   "metadata": {},
   "source": [
    "## Exercise\n",
    "\n",
    "Consider the subsequence of odd terms in the first example above. In other words, consider the sequence given by the formula\n",
    "\n",
    "$$\n",
    "c_{n+1} = 1 + \\frac{1}{1 + \\frac{1}{c_n}} \\ , \\ c_0 = 1\n",
    "$$\n",
    "\n",
    "1. Show the sequence converges.\n",
    "2. Approximate the limit.\n",
    "3. Find the exact value of the limit (if possible)."
   ]
  }
 ],
 "metadata": {
  "kernelspec": {
   "display_name": "Python 3 (ipykernel)",
   "language": "python",
   "name": "python3"
  },
  "language_info": {
   "codemirror_mode": {
    "name": "ipython",
    "version": 3
   },
   "file_extension": ".py",
   "mimetype": "text/x-python",
   "name": "python",
   "nbconvert_exporter": "python",
   "pygments_lexer": "ipython3",
   "version": "3.9.7"
  }
 },
 "nbformat": 4,
 "nbformat_minor": 5
}
