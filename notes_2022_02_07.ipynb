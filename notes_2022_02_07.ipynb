{
 "cells": [
  {
   "cell_type": "markdown",
   "id": "fc046d08-be48-403c-b3ec-1c64c8341fa5",
   "metadata": {},
   "source": [
    "# MATH 210 Introduction to Mathematical Computing\n",
    "\n",
    "## February 7, 2022\n",
    "\n",
    "* Root finding\n",
    "* Bisection method"
   ]
  },
  {
   "cell_type": "markdown",
   "id": "570bb251-af49-4c60-a815-ad8acbb33f6e",
   "metadata": {},
   "source": [
    "## Root finding\n",
    "\n",
    "The general problem in root finding is: given a function $f(x)$ we want to find $c$ such that $f(c) = 0$.\n",
    "\n",
    "The problem is easy to state but in general very hard (or impossible) to solve exactly. But we can always approximate.\n",
    "\n",
    "### Easy example\n",
    "\n",
    "Let $f(x) = x^2 - 1$. Then we know the roots are $x=1$ and $x=-1$ by the quadratic formula. There is no such formula for degree 5 or higher!\n",
    "\n",
    "### Difficult example\n",
    "\n",
    "Let $f(x) = e^x + x$. How do you find the roots? Impossible! But we can always approximate."
   ]
  },
  {
   "cell_type": "markdown",
   "id": "bd770568-4b17-4bbb-8812-e4cf893d03ea",
   "metadata": {},
   "source": [
    "## Bisection method\n",
    "\n",
    "We can graph the function $y=f(x)$ using [Desmos](https://www.desmos.com/calculator) to see where it is positive and where it is negative. Then we can use the intermediate value theorem to prove the existence of a root in an interval.\n",
    "\n",
    "### Intermediate Value Theorem\n",
    "\n",
    "Let $f(x)$ be a continuous function on $[a,b]$ such that $f(a)f(b) < 0$. In other words, the values $f(a)$ and $f(b)$ have opposite sign. Then there exists a value $c \\in (a,b)$ such that $f(c) = 0$.\n",
    "\n",
    "### Implementation of the bisection method\n",
    "\n",
    "* Start with interval $[a,b]$ such that $f(a)f(b) < 0$\n",
    "* Let $m = (a+b)/2$ be the midpoint\n",
    "* Determine whether $f(m) > 0$ or $f(m) < 0$\n",
    "* Pick $[a,m]$ if $f(a)f(m) < 0$ or pick $[m,b]$ if $f(m)f(b) < 0$\n",
    "* Repeat!"
   ]
  },
  {
   "cell_type": "code",
   "execution_count": 1,
   "id": "5a3e86f7-4adc-4a13-a8df-0240bf64bb29",
   "metadata": {},
   "outputs": [],
   "source": [
    "def bisection(f,a,b,N):\n",
    "    if f(a)*f(b) >= 0:\n",
    "        print(\"Bisection method fails.\")\n",
    "        return None\n",
    "    a_n = a\n",
    "    b_n = b\n",
    "    for n in range(1,N+1):\n",
    "        m_n = (a_n + b_n)/2\n",
    "        f_m_n = f(m_n)\n",
    "        if f(a_n)*f_m_n < 0:\n",
    "            a_n = a_n\n",
    "            b_n = m_n\n",
    "        elif f(b_n)*f_m_n < 0:\n",
    "            a_n = m_n\n",
    "            b_n = b_n\n",
    "        elif f_m_n == 0:\n",
    "            print(\"Found exact solution.\")\n",
    "            return m_n\n",
    "    return (a_n + b_n)/2"
   ]
  },
  {
   "cell_type": "code",
   "execution_count": 2,
   "id": "917a450e-d75e-438f-b1f6-b7c979851d40",
   "metadata": {},
   "outputs": [
    {
     "data": {
      "text/plain": [
       "1.41455078125"
      ]
     },
     "execution_count": 2,
     "metadata": {},
     "output_type": "execute_result"
    }
   ],
   "source": [
    "f = lambda x: x**2 - 2\n",
    "a = 1\n",
    "b = 2\n",
    "N = 10\n",
    "bisection(f,a,b,N)"
   ]
  },
  {
   "cell_type": "code",
   "execution_count": 3,
   "id": "cd85835a-1609-4215-bb6a-f26bdba2f342",
   "metadata": {},
   "outputs": [
    {
     "data": {
      "text/plain": [
       "1.6180338859558105"
      ]
     },
     "execution_count": 3,
     "metadata": {},
     "output_type": "execute_result"
    }
   ],
   "source": [
    "f = lambda x: x**2 - x - 1\n",
    "a = 1\n",
    "b = 2\n",
    "N = 20\n",
    "bisection(f,a,b,N)"
   ]
  },
  {
   "cell_type": "markdown",
   "id": "2694588b-f78a-4bd9-b99f-4cabda80ac34",
   "metadata": {},
   "source": [
    "### Error formula\n",
    "\n",
    "Let $f(x)$ be a continuous function on $[a,b]$ such that $f(a)f(b) < 0$. Let $m_N$ be the midpoint of the interval $[a_N,b_N]$ after $N$ iterations of the bisection method. Assume there is a unique root $c$ of $f(x)$ in $[a,b]$. Then\n",
    "\n",
    "$$\n",
    "| m_N - c| < \\frac{b-a}{2^{N+1}}\n",
    "$$"
   ]
  }
 ],
 "metadata": {
  "kernelspec": {
   "display_name": "Python 3 (ipykernel)",
   "language": "python",
   "name": "python3"
  },
  "language_info": {
   "codemirror_mode": {
    "name": "ipython",
    "version": 3
   },
   "file_extension": ".py",
   "mimetype": "text/x-python",
   "name": "python",
   "nbconvert_exporter": "python",
   "pygments_lexer": "ipython3",
   "version": "3.9.7"
  }
 },
 "nbformat": 4,
 "nbformat_minor": 5
}
