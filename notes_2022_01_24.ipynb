{
 "cells": [
  {
   "cell_type": "markdown",
   "id": "4dec4955-8aa2-4e68-b6d7-3ac60e7c62f6",
   "metadata": {},
   "source": [
    "# MATH 210 Introduction to Mathematical Computing\n",
    "\n",
    "## January 24, 2022\n",
    "\n",
    "* More about defining functions\n",
    "* Indentation, return, docstrings\n",
    "* Lambda functions"
   ]
  },
  {
   "cell_type": "markdown",
   "id": "8608bde1-329b-47bd-88c2-5382492a4702",
   "metadata": {},
   "source": [
    "## More about defining functions\n",
    "\n",
    "Let's do a simple example. Write a function called `average` which takes an input `x` (a sequence of numbers) and returns the average value of the entries in `x`. Verify our function returns the correct value. For example, average of 1,2,1,3 is 1.75."
   ]
  },
  {
   "cell_type": "code",
   "execution_count": 1,
   "id": "95eadf8e-df6e-455f-9af2-4ed178e9872c",
   "metadata": {},
   "outputs": [
    {
     "name": "stdout",
     "output_type": "stream",
     "text": [
      "1.75\n"
     ]
    }
   ],
   "source": [
    "def average(x):\n",
    "    \"Compute the average value of numbers in sequence x.\"\n",
    "    sum_x = sum(x)\n",
    "    len_x = len(x)\n",
    "    return sum_x/len_x\n",
    "\n",
    "avg = average([1,2,1,3])\n",
    "print(avg)"
   ]
  },
  {
   "cell_type": "markdown",
   "id": "5404c637-bb37-4028-8ab8-10b6b7ad1ee0",
   "metadata": {},
   "source": [
    "Let's look at the parts of the function definition:\n",
    "\n",
    "* begins with `def` keyword\n",
    "* the function name `average` follows `def` keyword\n",
    "* input parameters listed in parentheses\n",
    "* `def` statement ends with a colon `:`\n",
    "* docstring is a text description of the function on the second line\n",
    "* code block inside the function is indented 4 spaces\n",
    "* the keyword `return` specifies the output of the function\n",
    "\n",
    "Visualize the code with [Python tutor](https://pythontutor.com/visualize.html)."
   ]
  },
  {
   "cell_type": "markdown",
   "id": "7f5fe9b4-27f4-4cf7-9816-873493aa03d9",
   "metadata": {},
   "source": [
    "The `help` function displays the docstring."
   ]
  },
  {
   "cell_type": "code",
   "execution_count": 2,
   "id": "cc6f539a-1f7e-4404-bb1a-0c8363e1ce87",
   "metadata": {},
   "outputs": [
    {
     "name": "stdout",
     "output_type": "stream",
     "text": [
      "Help on function average in module __main__:\n",
      "\n",
      "average(x)\n",
      "    Compute the average value of numbers in sequence x.\n",
      "\n"
     ]
    }
   ],
   "source": [
    "help(average)"
   ]
  },
  {
   "cell_type": "markdown",
   "id": "c081b3da-7e47-45ac-a46b-9d44c857cf71",
   "metadata": {},
   "source": [
    "The keyword `return` is **not** the same as `print`."
   ]
  },
  {
   "cell_type": "code",
   "execution_count": 3,
   "id": "d9b8e38b-b33c-4847-ae71-7b784c1c35b0",
   "metadata": {},
   "outputs": [
    {
     "name": "stdout",
     "output_type": "stream",
     "text": [
      "1.75\n"
     ]
    }
   ],
   "source": [
    "def print_average(x):\n",
    "    \"Print the average value of numbers in sequence x.\"\n",
    "    sum_x = sum(x)\n",
    "    len_x = len(x)\n",
    "    print(sum_x/len_x)\n",
    "\n",
    "avg = print_average([1,2,1,3])"
   ]
  },
  {
   "cell_type": "code",
   "execution_count": 4,
   "id": "ee999c5b-b2f3-4b48-a553-10e8197b854f",
   "metadata": {},
   "outputs": [
    {
     "name": "stdout",
     "output_type": "stream",
     "text": [
      "None\n"
     ]
    }
   ],
   "source": [
    "print(avg)"
   ]
  },
  {
   "cell_type": "markdown",
   "id": "e27d9696-e7cf-458d-8062-cad4d3570837",
   "metadata": {},
   "source": [
    "The `None` value in Python represents nothing/empty/none. We should always (in MATH 210) end our functions with `return`."
   ]
  },
  {
   "cell_type": "markdown",
   "id": "a3826647-b4cb-4aa1-958c-20cd19591880",
   "metadata": {},
   "source": [
    "## Lambda functions\n",
    "\n",
    "A lambda function is a simple, single line, anonymous function. Create a lambda function with the `lambda` keyword. Lambda functions are useful in at least two ways:\n",
    "\n",
    "* Define simple functions in a single line\n",
    "* Define functions within another Python expression\n",
    "\n",
    "Let's rewrite average as a lambda function to illustrate the first point."
   ]
  },
  {
   "cell_type": "code",
   "execution_count": 5,
   "id": "326eb73c-48d1-4329-8bcc-b016e4774928",
   "metadata": {},
   "outputs": [],
   "source": [
    "average = lambda x: sum(x)/len(x)"
   ]
  },
  {
   "cell_type": "markdown",
   "id": "70992d99-2dff-4bf5-8c95-b4df64fba955",
   "metadata": {},
   "source": [
    "The syntax here is:\n",
    "\n",
    "* Function definition begins with the `lambda` keyword\n",
    "* The input parameter is on left of the colon `:`\n",
    "* Return value is a single expression on the right side of the colon `:`"
   ]
  },
  {
   "cell_type": "code",
   "execution_count": 6,
   "id": "8447af7c-db82-41cf-bba4-edaf176b18b2",
   "metadata": {},
   "outputs": [
    {
     "data": {
      "text/plain": [
       "1.75"
      ]
     },
     "execution_count": 6,
     "metadata": {},
     "output_type": "execute_result"
    }
   ],
   "source": [
    "average([1,2,1,3])"
   ]
  },
  {
   "cell_type": "markdown",
   "id": "e9d472f3-bfa5-4523-949a-d035643576e2",
   "metadata": {},
   "source": [
    "We can have several variables in a `lambda` function. Simply list the parameters separated by commas. For example, define a function called `hypotenuse` which takes input parameters `x` and `y` (numbers) and returns the length of the hypotenuse of the right angle triangle with sides `x` and `y`. In other words, return $\\sqrt{x^2 + y^2}$."
   ]
  },
  {
   "cell_type": "code",
   "execution_count": 7,
   "id": "8a2a7535-b1eb-4f07-81c1-fc8e1c76b090",
   "metadata": {},
   "outputs": [],
   "source": [
    "hypotenuse = lambda x,y: (x**2 + y**2)**0.5"
   ]
  },
  {
   "cell_type": "code",
   "execution_count": 8,
   "id": "1257b62b-7384-43d4-998e-5372bcab49f1",
   "metadata": {},
   "outputs": [
    {
     "data": {
      "text/plain": [
       "5.0"
      ]
     },
     "execution_count": 8,
     "metadata": {},
     "output_type": "execute_result"
    }
   ],
   "source": [
    "hypotenuse(3,4)"
   ]
  },
  {
   "cell_type": "code",
   "execution_count": 9,
   "id": "35705d7f-602e-441a-a007-bc8c256cb1bc",
   "metadata": {},
   "outputs": [
    {
     "data": {
      "text/plain": [
       "13.0"
      ]
     },
     "execution_count": 9,
     "metadata": {},
     "output_type": "execute_result"
    }
   ],
   "source": [
    "hypotenuse(5,12)"
   ]
  },
  {
   "cell_type": "code",
   "execution_count": 10,
   "id": "da77957b-b6d9-4afc-85c7-389265841b11",
   "metadata": {},
   "outputs": [
    {
     "data": {
      "text/plain": [
       "11.40175425099138"
      ]
     },
     "execution_count": 10,
     "metadata": {},
     "output_type": "execute_result"
    }
   ],
   "source": [
    "hypotenuse(7,9)"
   ]
  },
  {
   "cell_type": "markdown",
   "id": "9c2de4d4-2b81-4ab7-8e38-86a7fd19b28d",
   "metadata": {},
   "source": [
    "## Example\n",
    "\n",
    "Write a function called `log` which takes input parameters `x` and `N` and returns the Nth partial sum of the Taylor series (centered at x=1) of the natural log:\n",
    "\n",
    "$$\n",
    "\\log(x) \\approx \\sum_{n=1}^N (-1)^{n+1} \\frac{(x-1)^n}{n}\n",
    "$$"
   ]
  },
  {
   "cell_type": "code",
   "execution_count": 11,
   "id": "25d95c56-a962-447f-b268-82c7f7b3fbd3",
   "metadata": {},
   "outputs": [],
   "source": [
    "def log(x,N):\n",
    "    \"Compute Nth partial sum of Taylor series of log(x).\"\n",
    "    terms = [(-1)**(n+1)*(x-1)**n/n for n in range(1,N+1)]\n",
    "    return sum(terms)"
   ]
  },
  {
   "cell_type": "code",
   "execution_count": 12,
   "id": "532269ae-9395-4e9b-af3d-d8694894e2f8",
   "metadata": {},
   "outputs": [
    {
     "data": {
      "text/plain": [
       "0.6926474305598223"
      ]
     },
     "execution_count": 12,
     "metadata": {},
     "output_type": "execute_result"
    }
   ],
   "source": [
    "log(2,1000)"
   ]
  },
  {
   "cell_type": "markdown",
   "id": "d2ab1009-b5fe-4e02-8241-d24d381ce755",
   "metadata": {},
   "source": [
    "True value of $\\log(2)$ is approximately 0.693147181."
   ]
  }
 ],
 "metadata": {
  "kernelspec": {
   "display_name": "Python 3 (ipykernel)",
   "language": "python",
   "name": "python3"
  },
  "language_info": {
   "codemirror_mode": {
    "name": "ipython",
    "version": 3
   },
   "file_extension": ".py",
   "mimetype": "text/x-python",
   "name": "python",
   "nbconvert_exporter": "python",
   "pygments_lexer": "ipython3",
   "version": "3.9.7"
  }
 },
 "nbformat": 4,
 "nbformat_minor": 5
}
