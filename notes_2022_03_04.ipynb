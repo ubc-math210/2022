{
 "cells": [
  {
   "cell_type": "markdown",
   "id": "16586e22-0481-470f-b8a0-f86efce6725a",
   "metadata": {},
   "source": [
    "# MATH 210 Introduction to Mathematical Computing\n",
    "\n",
    "## March 4, 2022\n",
    "\n",
    "* NumPy indexing and slicing\n",
    "* Midpoint rule\n",
    "* Error formula\n",
    "* Examples"
   ]
  },
  {
   "cell_type": "code",
   "execution_count": 1,
   "id": "d6a43131-32dc-4ef7-b377-a166f4835434",
   "metadata": {},
   "outputs": [],
   "source": [
    "import numpy as np\n",
    "import matplotlib.pyplot as plt"
   ]
  },
  {
   "cell_type": "markdown",
   "id": "c6e9a8ef-5c5b-42c1-9d34-e142867c8b75",
   "metadata": {},
   "source": [
    "## NumPy indexing and slicing\n",
    "\n",
    "Use square bracket syntax to access entries in a NumPy array:"
   ]
  },
  {
   "cell_type": "code",
   "execution_count": 2,
   "id": "4db72f12-b89e-43eb-a1cb-89bfea44b2a2",
   "metadata": {},
   "outputs": [
    {
     "name": "stdout",
     "output_type": "stream",
     "text": [
      "[0.  0.1 0.2 0.3 0.4 0.5 0.6 0.7 0.8 0.9 1. ]\n"
     ]
    }
   ],
   "source": [
    "x = np.linspace(0,1,11)\n",
    "print(x)"
   ]
  },
  {
   "cell_type": "code",
   "execution_count": 3,
   "id": "93184d6f-ca22-42a3-b0a2-aa0b46b4c183",
   "metadata": {},
   "outputs": [
    {
     "data": {
      "text/plain": [
       "0.0"
      ]
     },
     "execution_count": 3,
     "metadata": {},
     "output_type": "execute_result"
    }
   ],
   "source": [
    "x[0]"
   ]
  },
  {
   "cell_type": "code",
   "execution_count": 4,
   "id": "1a325613-8b84-4b6c-9e4e-cedb3e462e34",
   "metadata": {},
   "outputs": [
    {
     "data": {
      "text/plain": [
       "0.30000000000000004"
      ]
     },
     "execution_count": 4,
     "metadata": {},
     "output_type": "execute_result"
    }
   ],
   "source": [
    "x[3]"
   ]
  },
  {
   "cell_type": "code",
   "execution_count": 5,
   "id": "149366d6-97b8-499b-82cd-b2f25c6225f6",
   "metadata": {},
   "outputs": [
    {
     "data": {
      "text/plain": [
       "1.0"
      ]
     },
     "execution_count": 5,
     "metadata": {},
     "output_type": "execute_result"
    }
   ],
   "source": [
    "x[-1]"
   ]
  },
  {
   "cell_type": "markdown",
   "id": "fa2d0ffa-b650-4a05-b312-eb411f16865f",
   "metadata": {},
   "source": [
    "Use the colon syntax `x[a:b]` to access a slice of the array from index `a` up to (but not including) `b`:"
   ]
  },
  {
   "cell_type": "code",
   "execution_count": 6,
   "id": "9d99d509-a034-4473-b72e-dbc86640d792",
   "metadata": {},
   "outputs": [
    {
     "data": {
      "text/plain": [
       "array([0. , 0.1, 0.2, 0.3])"
      ]
     },
     "execution_count": 6,
     "metadata": {},
     "output_type": "execute_result"
    }
   ],
   "source": [
    "x[0:4]"
   ]
  },
  {
   "cell_type": "code",
   "execution_count": 7,
   "id": "3a0693af-ca8d-476c-9ca4-8c25c718f409",
   "metadata": {},
   "outputs": [
    {
     "data": {
      "text/plain": [
       "array([0. , 0.1, 0.2, 0.3])"
      ]
     },
     "execution_count": 7,
     "metadata": {},
     "output_type": "execute_result"
    }
   ],
   "source": [
    "x[:4]"
   ]
  },
  {
   "cell_type": "code",
   "execution_count": 8,
   "id": "f505baa6-7923-483e-a90f-770ba2d31673",
   "metadata": {},
   "outputs": [
    {
     "data": {
      "text/plain": [
       "array([0.7, 0.8, 0.9, 1. ])"
      ]
     },
     "execution_count": 8,
     "metadata": {},
     "output_type": "execute_result"
    }
   ],
   "source": [
    "x[7:]"
   ]
  },
  {
   "cell_type": "markdown",
   "id": "f0ae5b0a-2d89-48ba-a827-d9b5daa9f0e6",
   "metadata": {},
   "source": [
    "For example, the right endpoints of `x` correspond to:"
   ]
  },
  {
   "cell_type": "code",
   "execution_count": 9,
   "id": "7389eea4-953a-48e1-94b0-d471cccf3127",
   "metadata": {},
   "outputs": [
    {
     "data": {
      "text/plain": [
       "array([0.1, 0.2, 0.3, 0.4, 0.5, 0.6, 0.7, 0.8, 0.9, 1. ])"
      ]
     },
     "execution_count": 9,
     "metadata": {},
     "output_type": "execute_result"
    }
   ],
   "source": [
    "x[1:]"
   ]
  },
  {
   "cell_type": "markdown",
   "id": "993944df-4916-4f37-9f41-71fed40696ce",
   "metadata": {},
   "source": [
    "## Midpoint rule\n",
    "\n",
    "The midpoint rule is the Riemann in which we choose values $f(x_n^*)$ at the midpoints of the intervals\n",
    "\n",
    "$$\n",
    "\\int_a^b f(x) dx \\approx \\sum_{n=1}^N f(x_n^*) (x_n - x_{n-1})\n",
    "$$\n",
    "\n",
    "where $x_n^* = (x_n + x_{n-1})/2$."
   ]
  },
  {
   "cell_type": "markdown",
   "id": "caccfc25-ddd2-46d9-ae85-b7663d1c4e95",
   "metadata": {},
   "source": [
    "Write a function called `midpoint` which takes `f`, `a`, `b` and `N` and returns the midpoint Riemann approximation on $N$ subintervals of equal length."
   ]
  },
  {
   "cell_type": "code",
   "execution_count": 10,
   "id": "62f27521-734a-44a2-9164-238392e63dde",
   "metadata": {},
   "outputs": [],
   "source": [
    "def midpoint(f,a,b,N):\n",
    "    x = np.linspace(a,b,N+1)\n",
    "    x_mid = (x[:-1] + x[1:])/2\n",
    "    return (b - a)/N*np.sum(f(x_mid))"
   ]
  },
  {
   "cell_type": "code",
   "execution_count": 11,
   "id": "c8c8440c-656d-45ec-bf7c-046905491a29",
   "metadata": {},
   "outputs": [
    {
     "data": {
      "text/plain": [
       "-0.75"
      ]
     },
     "execution_count": 11,
     "metadata": {},
     "output_type": "execute_result"
    }
   ],
   "source": [
    "f = lambda x: x**2 - 1\n",
    "a = 0; b = 1; N = 1;\n",
    "midpoint(f,a,b,N)"
   ]
  },
  {
   "cell_type": "code",
   "execution_count": 12,
   "id": "2d5f954e-5633-4a2b-92b2-5b39660f6c6e",
   "metadata": {},
   "outputs": [
    {
     "data": {
      "text/plain": [
       "2.0000008224672703"
      ]
     },
     "execution_count": 12,
     "metadata": {},
     "output_type": "execute_result"
    }
   ],
   "source": [
    "f = lambda x: np.sin(x)\n",
    "a = 0; b = np.pi; N = 1000;\n",
    "midpoint(f,a,b,N)"
   ]
  },
  {
   "cell_type": "markdown",
   "id": "e987c235-e70f-48e5-bcf1-fcc31a5a4198",
   "metadata": {},
   "source": [
    "## Error formula\n",
    "\n",
    "Introduce notation for midpoint Riemann sum approximation on $N$ subintervals of equal length\n",
    "\n",
    "$$\n",
    "M_N(f) = \\frac{b-a}{N} \\sum_{n=1}^N f(x_n^*)\n",
    "$$\n",
    "\n",
    "where $x_n^* = (x_n + x_{n-1})/2$. The bound on the error is\n",
    "\n",
    "$$\n",
    "E_N^M(f) = \\left| \\int_a^b f(x)dx - M_N(f) \\right| \\leq \\frac{(b-a)^3}{24 N^2}K_2\n",
    "$$\n",
    "\n",
    "where $| f''(x) | \\leq K_2$ for all $x \\in [a,b]$."
   ]
  },
  {
   "cell_type": "markdown",
   "id": "69974862-b82d-4345-8baf-609cfbc9aa2d",
   "metadata": {},
   "source": [
    "## Example\n",
    "\n",
    "Find $N$ which guarantees the error for the midpoint Riemann sum approximation of\n",
    "\n",
    "$$\n",
    "\\int_1^2 x^x dx\n",
    "$$\n",
    "\n",
    "is less than 0.001. (Recall we found $N=3387$ for right Riemann sum to have less than this error.)  First step is to compute $f'(x)$. Use logarithmic differentiation\n",
    "\n",
    "$$\n",
    "y = x^x \\Rightarrow \\ln(y) = x \\ln(x) \\Rightarrow \\frac{1}{y} y' = \\ln(x) + 1\n",
    "\\Rightarrow y' = x^x(\\ln(x) + 1)\n",
    "$$"
   ]
  },
  {
   "cell_type": "markdown",
   "id": "73d4b91e-020d-4540-ad40-4d4e7587d7bf",
   "metadata": {},
   "source": [
    "Now compute $f''(x)$\n",
    "\n",
    "$$\n",
    "f''(x) = x^x(\\ln(x) + 1)^2 + x^x(1/x)\n",
    "$$\n",
    "\n",
    "Note that:\n",
    "\n",
    "* $x^x$ is increasing on $[1,2]$ therefore $x^x \\leq 2^2$\n",
    "* $\\ln(x)$ is increasing on $[1,2]$ therefore $\\ln(x) \\leq \\ln(2)$\n",
    "* $1/x$ is decreasing on $[1,2]$ therefore $1/x \\leq 1$\n",
    "\n",
    "Put it all together to find:\n",
    "\n",
    "$$\n",
    "| f''(x) | \\leq 2^2(\\ln(2) + 1)^2 + 2^2(1/1)\n",
    "$$"
   ]
  },
  {
   "cell_type": "code",
   "execution_count": 13,
   "id": "803c26d7-fff4-4c70-a61d-94d8f37116d2",
   "metadata": {},
   "outputs": [
    {
     "data": {
      "text/plain": [
       "13.46698950015237"
      ]
     },
     "execution_count": 13,
     "metadata": {},
     "output_type": "execute_result"
    }
   ],
   "source": [
    "2**2*(np.log(2) + 1)**2 + 2**2/2"
   ]
  },
  {
   "cell_type": "code",
   "execution_count": 14,
   "id": "bec3e1ec-6c76-4922-8e32-215883437815",
   "metadata": {},
   "outputs": [
    {
     "data": {
      "text/plain": [
       "25.38617528970605"
      ]
     },
     "execution_count": 14,
     "metadata": {},
     "output_type": "execute_result"
    }
   ],
   "source": [
    "E = 0.001; a = 1; b = 2; K2 = 15.46698950015237\n",
    "N = np.sqrt((b - a)**3/24/E*K2)\n",
    "N"
   ]
  },
  {
   "cell_type": "code",
   "execution_count": 15,
   "id": "c68de030-fb66-4d2f-97c0-b0c0775414e4",
   "metadata": {},
   "outputs": [
    {
     "data": {
      "text/plain": [
       "2.050090497013929"
      ]
     },
     "execution_count": 15,
     "metadata": {},
     "output_type": "execute_result"
    }
   ],
   "source": [
    "f = lambda x: x**x\n",
    "a = 1; b = 2; N = 26;\n",
    "midpoint(f,a,b,N)"
   ]
  }
 ],
 "metadata": {
  "kernelspec": {
   "display_name": "Python 3 (ipykernel)",
   "language": "python",
   "name": "python3"
  },
  "language_info": {
   "codemirror_mode": {
    "name": "ipython",
    "version": 3
   },
   "file_extension": ".py",
   "mimetype": "text/x-python",
   "name": "python",
   "nbconvert_exporter": "python",
   "pygments_lexer": "ipython3",
   "version": "3.9.7"
  }
 },
 "nbformat": 4,
 "nbformat_minor": 5
}
