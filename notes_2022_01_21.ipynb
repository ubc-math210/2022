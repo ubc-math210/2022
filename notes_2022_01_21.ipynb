{
 "cells": [
  {
   "cell_type": "markdown",
   "id": "2a482898-a716-474d-89a0-c2afa7ff8621",
   "metadata": {},
   "source": [
    "# MATH 210 Introduction to Mathematical Computing\n",
    "\n",
    "## January 21, 2022\n",
    "\n",
    "* Sequences: indexing and slicing\n",
    "* More builtin functions\n",
    "* Defining functions"
   ]
  },
  {
   "cell_type": "markdown",
   "id": "65504d83-250c-410d-b589-b098ca31b8a4",
   "metadata": {},
   "source": [
    "## Sequences: indexing and slicing\n",
    "\n",
    "Access entry of a sequence `p` at index `n` using square brackets `p[n]`. This is called indexing. Let's use polynomials as examples of lists.\n",
    "\n",
    "Recall, a polynomial of degree $d$ is a function of the form\n",
    "\n",
    "$$\n",
    "p(x) = c_0 + c_1 x + \\cdots + c_d x^d\n",
    "$$\n",
    "\n",
    "where $c_0,\\dots,c_d$ are numbers (such that $c_d \\ne 0$) called the coefficients of $p(x)$. Since a polynomial is determined by its coefficients, we can represent a polynomial as a list of numbers\n",
    "\n",
    "```\n",
    "p = [c0,c1,...,cd]\n",
    "```\n",
    "\n",
    "For example:\n",
    "\n",
    "* the list `p = [1,0,-1]` represents the polynomial $p(x) = 1 - x^2$\n",
    "* the list `p = [0,1,0,0,2]` represents the polynomial $p(x) = x + 2x^4$\n",
    "* the list `p = [1,2,3,-3,-2,-1]` represents the polynomial\n",
    "\n",
    "$$\n",
    "p(x) = 1 + 2x + 3x^2 - 3x^3 - 2x^4 - x^5\n",
    "$$\n",
    "\n",
    "Access the entry at index $n$ by syntax `p[n]`. In Python, indices start at 0."
   ]
  },
  {
   "cell_type": "code",
   "execution_count": 1,
   "id": "5873e129-4fa1-409b-aca0-131d2d63658d",
   "metadata": {},
   "outputs": [],
   "source": [
    "p = [1,2,3,-3,-2,-1]"
   ]
  },
  {
   "cell_type": "code",
   "execution_count": 2,
   "id": "3503fd77-2638-4041-ade7-dc433097a532",
   "metadata": {},
   "outputs": [
    {
     "data": {
      "text/plain": [
       "list"
      ]
     },
     "execution_count": 2,
     "metadata": {},
     "output_type": "execute_result"
    }
   ],
   "source": [
    "type(p)"
   ]
  },
  {
   "cell_type": "code",
   "execution_count": 3,
   "id": "95c7b9cd-0b80-4adb-8f25-beaecefcc452",
   "metadata": {},
   "outputs": [
    {
     "data": {
      "text/plain": [
       "1"
      ]
     },
     "execution_count": 3,
     "metadata": {},
     "output_type": "execute_result"
    }
   ],
   "source": [
    "p[0]"
   ]
  },
  {
   "cell_type": "code",
   "execution_count": 4,
   "id": "b63aac37-62c8-4401-89da-3fb359ebd4f1",
   "metadata": {},
   "outputs": [
    {
     "data": {
      "text/plain": [
       "2"
      ]
     },
     "execution_count": 4,
     "metadata": {},
     "output_type": "execute_result"
    }
   ],
   "source": [
    "p[1]"
   ]
  },
  {
   "cell_type": "code",
   "execution_count": 5,
   "id": "45f6c9c6-44ff-4dc4-b5d9-9d94eb5cf770",
   "metadata": {},
   "outputs": [
    {
     "data": {
      "text/plain": [
       "-1"
      ]
     },
     "execution_count": 5,
     "metadata": {},
     "output_type": "execute_result"
    }
   ],
   "source": [
    "p[5]"
   ]
  },
  {
   "cell_type": "markdown",
   "id": "d1fb6b1b-6d2f-4287-ad83-88bf5befa756",
   "metadata": {},
   "source": [
    "We can use negative indices to access entries counting backwards from the end of the list."
   ]
  },
  {
   "cell_type": "code",
   "execution_count": 6,
   "id": "20a2ca0e-a581-4923-b3dd-8fb5b1dff2b0",
   "metadata": {},
   "outputs": [
    {
     "data": {
      "text/plain": [
       "-1"
      ]
     },
     "execution_count": 6,
     "metadata": {},
     "output_type": "execute_result"
    }
   ],
   "source": [
    "p[-1]"
   ]
  },
  {
   "cell_type": "code",
   "execution_count": 7,
   "id": "266d88b8-c46a-494f-a4e3-c69433b2970e",
   "metadata": {},
   "outputs": [
    {
     "data": {
      "text/plain": [
       "-2"
      ]
     },
     "execution_count": 7,
     "metadata": {},
     "output_type": "execute_result"
    }
   ],
   "source": [
    "p[-2]"
   ]
  },
  {
   "cell_type": "markdown",
   "id": "8d5cd6b7-d930-4adb-97c9-91788ed04ef1",
   "metadata": {},
   "source": [
    "We have to stay within the bounds `-len(p)-1 < n < len(p)` where `len(p)` is the number of entries in `p`."
   ]
  },
  {
   "cell_type": "code",
   "execution_count": 8,
   "id": "284c3c6d-cb03-496c-a82c-716c7c7a9b93",
   "metadata": {},
   "outputs": [
    {
     "data": {
      "text/plain": [
       "6"
      ]
     },
     "execution_count": 8,
     "metadata": {},
     "output_type": "execute_result"
    }
   ],
   "source": [
    "len(p)"
   ]
  },
  {
   "cell_type": "markdown",
   "id": "2096ead7-744e-4317-843f-c03cab75b93c",
   "metadata": {},
   "source": [
    "Use the syntax `p[a:b]` to access entries from index `a` up to but not including index `b`."
   ]
  },
  {
   "cell_type": "code",
   "execution_count": 9,
   "id": "7987d0c4-eb52-4c53-8f75-e096b78fe119",
   "metadata": {},
   "outputs": [
    {
     "data": {
      "text/plain": [
       "[1, 2, 3]"
      ]
     },
     "execution_count": 9,
     "metadata": {},
     "output_type": "execute_result"
    }
   ],
   "source": [
    "p[0:3]"
   ]
  },
  {
   "cell_type": "code",
   "execution_count": 10,
   "id": "ba8b9917-dc1d-461c-be1a-5377854ec19f",
   "metadata": {},
   "outputs": [
    {
     "data": {
      "text/plain": [
       "[1, 2, 3]"
      ]
     },
     "execution_count": 10,
     "metadata": {},
     "output_type": "execute_result"
    }
   ],
   "source": [
    "p[:3]"
   ]
  },
  {
   "cell_type": "code",
   "execution_count": 11,
   "id": "4af222a5-50e1-4530-9731-c4f9e5998134",
   "metadata": {},
   "outputs": [
    {
     "data": {
      "text/plain": [
       "[2, 3, -3]"
      ]
     },
     "execution_count": 11,
     "metadata": {},
     "output_type": "execute_result"
    }
   ],
   "source": [
    "p[1:4]"
   ]
  },
  {
   "cell_type": "markdown",
   "id": "1e497087-dfc6-4039-b506-3820e625550c",
   "metadata": {},
   "source": [
    "## More builtin functions\n",
    "\n",
    "We have seen functions `type`, `print` and `list`. There is also `sum`, `len`, `max` and `min` for sequences, and `abs` (absolute value) for numbers.\n",
    "\n",
    "For example:"
   ]
  },
  {
   "cell_type": "code",
   "execution_count": 12,
   "id": "c8fd1cd1-8b04-4fd9-bd55-0e2cfd53b433",
   "metadata": {},
   "outputs": [
    {
     "data": {
      "text/plain": [
       "[1, 2, 3, -3, -2, -1]"
      ]
     },
     "execution_count": 12,
     "metadata": {},
     "output_type": "execute_result"
    }
   ],
   "source": [
    "p"
   ]
  },
  {
   "cell_type": "code",
   "execution_count": 13,
   "id": "80cf7ee1-bc6c-479d-a318-9072ce350faf",
   "metadata": {},
   "outputs": [
    {
     "data": {
      "text/plain": [
       "6"
      ]
     },
     "execution_count": 13,
     "metadata": {},
     "output_type": "execute_result"
    }
   ],
   "source": [
    "len(p)"
   ]
  },
  {
   "cell_type": "code",
   "execution_count": 14,
   "id": "692f82d4-1ea7-4f68-894e-b97e6cce43bc",
   "metadata": {},
   "outputs": [
    {
     "data": {
      "text/plain": [
       "3"
      ]
     },
     "execution_count": 14,
     "metadata": {},
     "output_type": "execute_result"
    }
   ],
   "source": [
    "max(p)"
   ]
  },
  {
   "cell_type": "code",
   "execution_count": 15,
   "id": "2778a90f-a000-419d-aa1f-e0f09ecccc7f",
   "metadata": {},
   "outputs": [
    {
     "data": {
      "text/plain": [
       "-3"
      ]
     },
     "execution_count": 15,
     "metadata": {},
     "output_type": "execute_result"
    }
   ],
   "source": [
    "min(p)"
   ]
  },
  {
   "cell_type": "code",
   "execution_count": 16,
   "id": "fab24fb9-58ff-4da4-834e-bb2977e3c900",
   "metadata": {},
   "outputs": [
    {
     "data": {
      "text/plain": [
       "3"
      ]
     },
     "execution_count": 16,
     "metadata": {},
     "output_type": "execute_result"
    }
   ],
   "source": [
    "abs(-3)"
   ]
  },
  {
   "cell_type": "code",
   "execution_count": 17,
   "id": "5f5f134f-73fb-492c-b92c-daacf434173a",
   "metadata": {},
   "outputs": [
    {
     "data": {
      "text/plain": [
       "2"
      ]
     },
     "execution_count": 17,
     "metadata": {},
     "output_type": "execute_result"
    }
   ],
   "source": [
    "abs(p[4])"
   ]
  },
  {
   "cell_type": "code",
   "execution_count": 18,
   "id": "8e7ee219-6a87-4542-9136-ff492e3de7b8",
   "metadata": {},
   "outputs": [
    {
     "name": "stdout",
     "output_type": "stream",
     "text": [
      "1\n"
     ]
    }
   ],
   "source": [
    "print(p[0])"
   ]
  },
  {
   "cell_type": "markdown",
   "id": "067291c7-d055-4369-b698-358e55cba23f",
   "metadata": {},
   "source": [
    "## Defining functions\n",
    "\n",
    "We define a Python function using the syntax:\n",
    "\n",
    "```\n",
    "def function_name(parameter1,parameter2,parameter3):\n",
    "    Python code\n",
    "    Python code\n",
    "    return value\n",
    "```\n",
    "\n",
    "For example, let's write a function called `f` which takes 1 parameter `x` and returns `x**2`."
   ]
  },
  {
   "cell_type": "code",
   "execution_count": 19,
   "id": "3702e269-b911-4116-8328-7e44eeb02819",
   "metadata": {},
   "outputs": [],
   "source": [
    "def f(x):\n",
    "    return x**2"
   ]
  },
  {
   "cell_type": "code",
   "execution_count": 20,
   "id": "0a1337b5-c546-4e6b-9586-cf2d6139a278",
   "metadata": {},
   "outputs": [
    {
     "name": "stdout",
     "output_type": "stream",
     "text": [
      "Variable   Type        Data/Info\n",
      "--------------------------------\n",
      "f          function    <function f at 0x7f82f8630b80>\n",
      "p          list        n=6\n"
     ]
    }
   ],
   "source": [
    "whos"
   ]
  },
  {
   "cell_type": "code",
   "execution_count": 21,
   "id": "0ba8c509-c05a-4c3b-95d2-79681e9d2478",
   "metadata": {},
   "outputs": [
    {
     "data": {
      "text/plain": [
       "100"
      ]
     },
     "execution_count": 21,
     "metadata": {},
     "output_type": "execute_result"
    }
   ],
   "source": [
    "f(10)"
   ]
  },
  {
   "cell_type": "code",
   "execution_count": 22,
   "id": "d247e02d-adcc-41c4-a4c4-d3eb191f43e3",
   "metadata": {},
   "outputs": [
    {
     "data": {
      "text/plain": [
       "9"
      ]
     },
     "execution_count": 22,
     "metadata": {},
     "output_type": "execute_result"
    }
   ],
   "source": [
    "f(-3)"
   ]
  },
  {
   "cell_type": "markdown",
   "id": "e8f045a6-9697-4339-aef2-4169fd3f981a",
   "metadata": {},
   "source": [
    "Let's write a function called `poly_eval` which takes a list `p` of numbers (which represents a polynomial $p(x)$) and a number `a` and returns the value $p(a) = c_0 + c_1 a + c_2 a^2 + \\cdots + c_d a^d$ where $d$ is `len(p)-1` and `p[n]` is $c_n$.\n",
    "\n",
    "For example, `poly_eval([1,1,1],2)` returns `7`.\n",
    "\n",
    "First, write a stub which takes the correct number of parameters and returns a value of the correct datatype. Then fill the body of the function to compute the correct return value."
   ]
  },
  {
   "cell_type": "code",
   "execution_count": 23,
   "id": "7398d7b6-c32a-4ebd-85c3-ccc547fc4e04",
   "metadata": {},
   "outputs": [],
   "source": [
    "def poly_eval(p,a):\n",
    "    \"Evaluate polynomial p(x) at x=a.\"\n",
    "    pa = sum([p[n]*a**n for n in range(0,len(p))])\n",
    "    return pa"
   ]
  },
  {
   "cell_type": "code",
   "execution_count": 24,
   "id": "bf763cc3-7864-4103-9a2f-175e5b0f175b",
   "metadata": {},
   "outputs": [
    {
     "data": {
      "text/plain": [
       "7"
      ]
     },
     "execution_count": 24,
     "metadata": {},
     "output_type": "execute_result"
    }
   ],
   "source": [
    "poly_eval([1,1,1],2)"
   ]
  }
 ],
 "metadata": {
  "kernelspec": {
   "display_name": "Python 3 (ipykernel)",
   "language": "python",
   "name": "python3"
  },
  "language_info": {
   "codemirror_mode": {
    "name": "ipython",
    "version": 3
   },
   "file_extension": ".py",
   "mimetype": "text/x-python",
   "name": "python",
   "nbconvert_exporter": "python",
   "pygments_lexer": "ipython3",
   "version": "3.9.7"
  }
 },
 "nbformat": 4,
 "nbformat_minor": 5
}
